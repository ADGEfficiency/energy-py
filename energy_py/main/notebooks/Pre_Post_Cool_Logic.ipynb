{
 "cells": [
  {
   "cell_type": "code",
   "execution_count": 204,
   "metadata": {
    "collapsed": false,
    "scrolled": true
   },
   "outputs": [
    {
     "data": {
      "text/plain": [
       "'\\nThis notebook works through the logic for pre & post cooling\\n'"
      ]
     },
     "execution_count": 204,
     "metadata": {},
     "output_type": "execute_result"
    }
   ],
   "source": [
    "\"\"\"\n",
    "This notebook works through the logic for pre & post cooling\n",
    "\"\"\""
   ]
  },
  {
   "cell_type": "code",
   "execution_count": 205,
   "metadata": {
    "collapsed": true,
    "scrolled": true
   },
   "outputs": [],
   "source": [
    "import collections\n",
    "\n",
    "import matplotlib.pyplot as plt\n",
    "import numpy as np\n",
    "import pandas as pd"
   ]
  },
  {
   "cell_type": "code",
   "execution_count": 206,
   "metadata": {
    "collapsed": false,
    "scrolled": true
   },
   "outputs": [],
   "source": [
    "class env(object):\n",
    "    def __init__(self):\n",
    "        self.memory = 3\n",
    "        self.capacity = 5\n",
    "        self.relaxation_time = 5\n",
    "        \n",
    "        self.info, self.outputs = {}, {}\n",
    "        \n",
    "        self.reset()\n",
    "\n",
    "    def reset(self):    \n",
    "        self.precool_hist = collections.deque([0], maxlen=self.memory)\n",
    "        self.postcool_hist = collections.deque([0], maxlen=self.memory)\n",
    "        self.relaxation_hist = collections.deque([0], maxlen=self.relaxation_time)\n",
    "        \n",
    "        self.info['action'] = []\n",
    "        self.info['demand_adjustment_hist'] = []\n",
    "        self.info['precool_hist'] = []\n",
    "        self.info['postcool_hist'] = []\n",
    "        self.info['relaxation_hist'] = []\n",
    "        \n",
    "        print('reset')\n",
    "        return None\n",
    "\n",
    "    def update_hists(self, precool, postcool, relaxation):\n",
    "            self.precool_hist.append(precool)\n",
    "            self.postcool_hist.append(postcool)\n",
    "            self.relaxation_hist.append(relaxation)\n",
    "            return None    \n",
    "\n",
    "    def update_info(self, action, demand_adjustment): \n",
    "        \"\"\"\n",
    "        updates the self.info dictionary\n",
    "        \"\"\"\n",
    "        self.info['action'].append(action)\n",
    "        self.info['demand_adjustment_hist'].append(demand_adjustment)\n",
    "        self.info['precool_hist'].append(self.precool_hist[-1])\n",
    "        self.info['postcool_hist'].append(self.postcool_hist[-1])\n",
    "        self.info['relaxation_hist'].append(self.relaxation_hist[-1])\n",
    "        return self.info\n",
    "    \n",
    "    def output_info(self):\n",
    "        \"\"\"\n",
    "        extracts info and turns into dataframes & graphs\n",
    "        \"\"\"\n",
    "        def time_series_fig(dataframe, columns):\n",
    "            #  make the figure & axes objects\n",
    "            fig, ax = plt.subplots(1, 1, figsize = (20, 20))\n",
    "            for col in columns:\n",
    "                dataframe.loc[:, col].plot(kind='line', ax=ax)\n",
    "            return fig\n",
    "        \n",
    "        index = np.arange(0, len(self.info['demand_adjustment_hist']))\n",
    "        \n",
    "        total_demand_adjustment = sum(self.info['demand_adjustment_hist'])\n",
    "        print('total demand adjustment was {}'.format(total_demand_adjustment))\n",
    "        \n",
    "        self.outputs['dataframe'] = pd.DataFrame.from_dict(self.info)\n",
    "        self.outputs['time_series_fig'] = time_series_fig(self.outputs['dataframe'], ['demand_adjustment_hist'])\n",
    "        \n",
    "        return self.outputs\n",
    "        \n",
    "    def step(self,action):\n",
    "        \n",
    "        \"\"\"\n",
    "        this function steps through the environment\n",
    "        \n",
    "        TODO - a way to delay the start of the next precooling after the postcooling ended\n",
    "        \"\"\"\n",
    "    \n",
    "        precool_hist = sum(self.precool_hist)\n",
    "        postcool_hist = sum(self.postcool_hist)\n",
    "        relaxation_hist = sum(self.relaxation_hist)\n",
    "        \n",
    "        cooling_demand = 0\n",
    "\n",
    "        #  should we start a precooling event\n",
    "        if precool_hist == 0 and action == 1 and self.postcool_hist[-1] == 0 and relaxation_hist == 0:\n",
    "            print('starting pre-cooling event')\n",
    "            self.update_hists(1, 0, 0)\n",
    "\n",
    "        #  are we already in a precooling event\n",
    "        elif precool_hist > 0 and precool_hist < self.memory and self.precool_hist[-1] == 1:\n",
    "            print('continuing pre-cooling event')\n",
    "            self.update_hists(1, 0, 0)\n",
    "\n",
    "        #  are we at the end of a precooling event\n",
    "        #  aka should we start a postcooling event\n",
    "        elif precool_hist == self.memory:\n",
    "            print('ending pre-cooling event')\n",
    "            print('starting post-cooling event')\n",
    "            self.update_hists(0, 1, 0)\n",
    "\n",
    "        #  are we already in a postcooling event   \n",
    "        elif postcool_hist > 0 and postcool_hist < self.memory and self.postcool_hist[-1] == 1:    \n",
    "            print('continuing post-cooling event')\n",
    "            self.update_hists(0, 1, 0)\n",
    "\n",
    "        #  are we ending a postcooling event\n",
    "        elif postcool_hist == self.memory and precool_hist == 0:\n",
    "            print('ending post-cooling event')\n",
    "            self.update_hists(0, 0, 1)\n",
    "\n",
    "        else:\n",
    "            print('nothing is happening')\n",
    "            self.update_hists(0, 0, 0)\n",
    "            \n",
    "            if relaxation_hist > 0:\n",
    "                print('in relaxation time')\n",
    "            \n",
    "        print('pre-cooling history {}'.format(self.precool_hist))\n",
    "        print('post-cooling history {}'.format(self.postcool_hist)) \n",
    "        print('relaxation history {}'.format(self.relaxation_hist)) \n",
    "        \n",
    "        #  now calculating the effect on demand\n",
    "        demand_adjustment = 0\n",
    "        \n",
    "        if self.precool_hist[-1] == 1:\n",
    "            demand_adjustment = self.capacity  # TODO replace with actual cooling demand\n",
    "            \n",
    "        if self.postcool_hist[-1] == 1:\n",
    "            demand_adjustment = -self.capacity  # TODO replace with actual cooling demand    \n",
    "            \n",
    "        print('demand adjustment is {}'.format(demand_adjustment))    \n",
    "        \n",
    "        #  saving info\n",
    "        self.info = self.update_info(action, demand_adjustment)\n",
    "        \n",
    "        #  check cooling balance\n",
    "            \n",
    "        return None    "
   ]
  },
  {
   "cell_type": "code",
   "execution_count": 207,
   "metadata": {
    "collapsed": false,
    "scrolled": true
   },
   "outputs": [
    {
     "name": "stdout",
     "output_type": "stream",
     "text": [
      "reset\n"
     ]
    }
   ],
   "source": [
    "e = env()"
   ]
  },
  {
   "cell_type": "code",
   "execution_count": 208,
   "metadata": {
    "collapsed": false
   },
   "outputs": [
    {
     "name": "stdout",
     "output_type": "stream",
     "text": [
      "nothing is happening\n",
      "pre-cooling history deque([0, 0], maxlen=3)\n",
      "post-cooling history deque([0, 0], maxlen=3)\n",
      "relaxation history deque([0, 0], maxlen=5)\n",
      "demand adjustment is 0\n"
     ]
    }
   ],
   "source": [
    "e.step(0)"
   ]
  },
  {
   "cell_type": "code",
   "execution_count": 209,
   "metadata": {
    "collapsed": false,
    "scrolled": true
   },
   "outputs": [
    {
     "name": "stdout",
     "output_type": "stream",
     "text": [
      "starting pre-cooling event\n",
      "pre-cooling history deque([0, 0, 1], maxlen=3)\n",
      "post-cooling history deque([0, 0, 0], maxlen=3)\n",
      "relaxation history deque([0, 0, 0], maxlen=5)\n",
      "demand adjustment is 5\n"
     ]
    }
   ],
   "source": [
    "e.step(1)"
   ]
  },
  {
   "cell_type": "code",
   "execution_count": 210,
   "metadata": {
    "collapsed": false,
    "scrolled": true
   },
   "outputs": [
    {
     "name": "stdout",
     "output_type": "stream",
     "text": [
      "continuing pre-cooling event\n",
      "pre-cooling history deque([0, 1, 1], maxlen=3)\n",
      "post-cooling history deque([0, 0, 0], maxlen=3)\n",
      "relaxation history deque([0, 0, 0, 0], maxlen=5)\n",
      "demand adjustment is 5\n"
     ]
    }
   ],
   "source": [
    "e.step(1)"
   ]
  },
  {
   "cell_type": "code",
   "execution_count": 211,
   "metadata": {
    "collapsed": false,
    "scrolled": true
   },
   "outputs": [
    {
     "name": "stdout",
     "output_type": "stream",
     "text": [
      "continuing pre-cooling event\n",
      "pre-cooling history deque([1, 1, 1], maxlen=3)\n",
      "post-cooling history deque([0, 0, 0], maxlen=3)\n",
      "relaxation history deque([0, 0, 0, 0, 0], maxlen=5)\n",
      "demand adjustment is 5\n"
     ]
    }
   ],
   "source": [
    "e.step(1)"
   ]
  },
  {
   "cell_type": "code",
   "execution_count": 212,
   "metadata": {
    "collapsed": false,
    "scrolled": true
   },
   "outputs": [
    {
     "name": "stdout",
     "output_type": "stream",
     "text": [
      "ending pre-cooling event\n",
      "starting post-cooling event\n",
      "pre-cooling history deque([1, 1, 0], maxlen=3)\n",
      "post-cooling history deque([0, 0, 1], maxlen=3)\n",
      "relaxation history deque([0, 0, 0, 0, 0], maxlen=5)\n",
      "demand adjustment is -5\n"
     ]
    }
   ],
   "source": [
    "e.step(1)"
   ]
  },
  {
   "cell_type": "code",
   "execution_count": 213,
   "metadata": {
    "collapsed": false,
    "scrolled": true
   },
   "outputs": [
    {
     "name": "stdout",
     "output_type": "stream",
     "text": [
      "continuing post-cooling event\n",
      "pre-cooling history deque([1, 0, 0], maxlen=3)\n",
      "post-cooling history deque([0, 1, 1], maxlen=3)\n",
      "relaxation history deque([0, 0, 0, 0, 0], maxlen=5)\n",
      "demand adjustment is -5\n"
     ]
    }
   ],
   "source": [
    "e.step(1)"
   ]
  },
  {
   "cell_type": "code",
   "execution_count": 214,
   "metadata": {
    "collapsed": false,
    "scrolled": true
   },
   "outputs": [
    {
     "name": "stdout",
     "output_type": "stream",
     "text": [
      "continuing post-cooling event\n",
      "pre-cooling history deque([0, 0, 0], maxlen=3)\n",
      "post-cooling history deque([1, 1, 1], maxlen=3)\n",
      "relaxation history deque([0, 0, 0, 0, 0], maxlen=5)\n",
      "demand adjustment is -5\n"
     ]
    }
   ],
   "source": [
    "e.step(1)"
   ]
  },
  {
   "cell_type": "code",
   "execution_count": 215,
   "metadata": {
    "collapsed": false,
    "scrolled": true
   },
   "outputs": [
    {
     "name": "stdout",
     "output_type": "stream",
     "text": [
      "ending post-cooling event\n",
      "pre-cooling history deque([0, 0, 0], maxlen=3)\n",
      "post-cooling history deque([1, 1, 0], maxlen=3)\n",
      "relaxation history deque([0, 0, 0, 0, 1], maxlen=5)\n",
      "demand adjustment is 0\n"
     ]
    }
   ],
   "source": [
    "e.step(1)"
   ]
  },
  {
   "cell_type": "code",
   "execution_count": 216,
   "metadata": {
    "collapsed": false,
    "scrolled": true
   },
   "outputs": [
    {
     "name": "stdout",
     "output_type": "stream",
     "text": [
      "nothing is happening\n",
      "in relaxation time\n",
      "pre-cooling history deque([0, 0, 0], maxlen=3)\n",
      "post-cooling history deque([1, 0, 0], maxlen=3)\n",
      "relaxation history deque([0, 0, 0, 1, 0], maxlen=5)\n",
      "demand adjustment is 0\n"
     ]
    }
   ],
   "source": [
    "e.step(1)"
   ]
  },
  {
   "cell_type": "code",
   "execution_count": 217,
   "metadata": {
    "collapsed": false,
    "scrolled": true
   },
   "outputs": [
    {
     "name": "stdout",
     "output_type": "stream",
     "text": [
      "nothing is happening\n",
      "in relaxation time\n",
      "pre-cooling history deque([0, 0, 0], maxlen=3)\n",
      "post-cooling history deque([0, 0, 0], maxlen=3)\n",
      "relaxation history deque([0, 0, 1, 0, 0], maxlen=5)\n",
      "demand adjustment is 0\n"
     ]
    }
   ],
   "source": [
    "e.step(1)"
   ]
  },
  {
   "cell_type": "code",
   "execution_count": 218,
   "metadata": {
    "collapsed": false,
    "scrolled": true
   },
   "outputs": [
    {
     "name": "stdout",
     "output_type": "stream",
     "text": [
      "nothing is happening\n",
      "in relaxation time\n",
      "pre-cooling history deque([0, 0, 0], maxlen=3)\n",
      "post-cooling history deque([0, 0, 0], maxlen=3)\n",
      "relaxation history deque([0, 1, 0, 0, 0], maxlen=5)\n",
      "demand adjustment is 0\n"
     ]
    }
   ],
   "source": [
    "e.step(1)"
   ]
  },
  {
   "cell_type": "code",
   "execution_count": 219,
   "metadata": {
    "collapsed": false,
    "scrolled": true
   },
   "outputs": [
    {
     "name": "stdout",
     "output_type": "stream",
     "text": [
      "nothing is happening\n",
      "in relaxation time\n",
      "pre-cooling history deque([0, 0, 0], maxlen=3)\n",
      "post-cooling history deque([0, 0, 0], maxlen=3)\n",
      "relaxation history deque([1, 0, 0, 0, 0], maxlen=5)\n",
      "demand adjustment is 0\n"
     ]
    }
   ],
   "source": [
    "e.step(1)"
   ]
  },
  {
   "cell_type": "code",
   "execution_count": 220,
   "metadata": {
    "collapsed": false,
    "scrolled": true
   },
   "outputs": [
    {
     "name": "stdout",
     "output_type": "stream",
     "text": [
      "nothing is happening\n",
      "in relaxation time\n",
      "pre-cooling history deque([0, 0, 0], maxlen=3)\n",
      "post-cooling history deque([0, 0, 0], maxlen=3)\n",
      "relaxation history deque([0, 0, 0, 0, 0], maxlen=5)\n",
      "demand adjustment is 0\n"
     ]
    }
   ],
   "source": [
    "e.step(1)"
   ]
  },
  {
   "cell_type": "code",
   "execution_count": 221,
   "metadata": {
    "collapsed": false,
    "scrolled": true
   },
   "outputs": [
    {
     "name": "stdout",
     "output_type": "stream",
     "text": [
      "starting pre-cooling event\n",
      "pre-cooling history deque([0, 0, 1], maxlen=3)\n",
      "post-cooling history deque([0, 0, 0], maxlen=3)\n",
      "relaxation history deque([0, 0, 0, 0, 0], maxlen=5)\n",
      "demand adjustment is 5\n"
     ]
    }
   ],
   "source": [
    "e.step(1)"
   ]
  },
  {
   "cell_type": "code",
   "execution_count": 222,
   "metadata": {
    "collapsed": false,
    "scrolled": true
   },
   "outputs": [
    {
     "name": "stdout",
     "output_type": "stream",
     "text": [
      "continuing pre-cooling event\n",
      "pre-cooling history deque([0, 1, 1], maxlen=3)\n",
      "post-cooling history deque([0, 0, 0], maxlen=3)\n",
      "relaxation history deque([0, 0, 0, 0, 0], maxlen=5)\n",
      "demand adjustment is 5\n"
     ]
    }
   ],
   "source": [
    "e.step(1)"
   ]
  },
  {
   "cell_type": "code",
   "execution_count": 223,
   "metadata": {
    "collapsed": false,
    "scrolled": true
   },
   "outputs": [
    {
     "name": "stdout",
     "output_type": "stream",
     "text": [
      "continuing pre-cooling event\n",
      "pre-cooling history deque([1, 1, 1], maxlen=3)\n",
      "post-cooling history deque([0, 0, 0], maxlen=3)\n",
      "relaxation history deque([0, 0, 0, 0, 0], maxlen=5)\n",
      "demand adjustment is 5\n"
     ]
    }
   ],
   "source": [
    "e.step(1)"
   ]
  },
  {
   "cell_type": "code",
   "execution_count": 224,
   "metadata": {
    "collapsed": false,
    "scrolled": true
   },
   "outputs": [
    {
     "name": "stdout",
     "output_type": "stream",
     "text": [
      "ending pre-cooling event\n",
      "starting post-cooling event\n",
      "pre-cooling history deque([1, 1, 0], maxlen=3)\n",
      "post-cooling history deque([0, 0, 1], maxlen=3)\n",
      "relaxation history deque([0, 0, 0, 0, 0], maxlen=5)\n",
      "demand adjustment is -5\n"
     ]
    }
   ],
   "source": [
    "e.step(1)"
   ]
  },
  {
   "cell_type": "code",
   "execution_count": 225,
   "metadata": {
    "collapsed": false,
    "scrolled": true
   },
   "outputs": [
    {
     "name": "stdout",
     "output_type": "stream",
     "text": [
      "continuing post-cooling event\n",
      "pre-cooling history deque([1, 0, 0], maxlen=3)\n",
      "post-cooling history deque([0, 1, 1], maxlen=3)\n",
      "relaxation history deque([0, 0, 0, 0, 0], maxlen=5)\n",
      "demand adjustment is -5\n"
     ]
    }
   ],
   "source": [
    "e.step(1)"
   ]
  },
  {
   "cell_type": "code",
   "execution_count": 226,
   "metadata": {
    "collapsed": false,
    "scrolled": true
   },
   "outputs": [
    {
     "name": "stdout",
     "output_type": "stream",
     "text": [
      "continuing post-cooling event\n",
      "pre-cooling history deque([0, 0, 0], maxlen=3)\n",
      "post-cooling history deque([1, 1, 1], maxlen=3)\n",
      "relaxation history deque([0, 0, 0, 0, 0], maxlen=5)\n",
      "demand adjustment is -5\n"
     ]
    }
   ],
   "source": [
    "e.step(1)"
   ]
  },
  {
   "cell_type": "code",
   "execution_count": 227,
   "metadata": {
    "collapsed": false,
    "scrolled": true
   },
   "outputs": [
    {
     "name": "stdout",
     "output_type": "stream",
     "text": [
      "ending post-cooling event\n",
      "pre-cooling history deque([0, 0, 0], maxlen=3)\n",
      "post-cooling history deque([1, 1, 0], maxlen=3)\n",
      "relaxation history deque([0, 0, 0, 0, 1], maxlen=5)\n",
      "demand adjustment is 0\n"
     ]
    }
   ],
   "source": [
    "e.step(0)"
   ]
  },
  {
   "cell_type": "code",
   "execution_count": 228,
   "metadata": {
    "collapsed": false,
    "scrolled": true
   },
   "outputs": [
    {
     "name": "stdout",
     "output_type": "stream",
     "text": [
      "nothing is happening\n",
      "in relaxation time\n",
      "pre-cooling history deque([0, 0, 0], maxlen=3)\n",
      "post-cooling history deque([1, 0, 0], maxlen=3)\n",
      "relaxation history deque([0, 0, 0, 1, 0], maxlen=5)\n",
      "demand adjustment is 0\n"
     ]
    }
   ],
   "source": [
    "e.step(1)"
   ]
  },
  {
   "cell_type": "code",
   "execution_count": 229,
   "metadata": {
    "collapsed": false,
    "scrolled": true
   },
   "outputs": [
    {
     "name": "stdout",
     "output_type": "stream",
     "text": [
      "nothing is happening\n",
      "in relaxation time\n",
      "pre-cooling history deque([0, 0, 0], maxlen=3)\n",
      "post-cooling history deque([0, 0, 0], maxlen=3)\n",
      "relaxation history deque([0, 0, 1, 0, 0], maxlen=5)\n",
      "demand adjustment is 0\n"
     ]
    }
   ],
   "source": [
    "e.step(0)"
   ]
  },
  {
   "cell_type": "code",
   "execution_count": 230,
   "metadata": {
    "collapsed": false
   },
   "outputs": [
    {
     "name": "stdout",
     "output_type": "stream",
     "text": [
      "nothing is happening\n",
      "in relaxation time\n",
      "pre-cooling history deque([0, 0, 0], maxlen=3)\n",
      "post-cooling history deque([0, 0, 0], maxlen=3)\n",
      "relaxation history deque([0, 1, 0, 0, 0], maxlen=5)\n",
      "demand adjustment is 0\n"
     ]
    }
   ],
   "source": [
    "e.step(0)"
   ]
  },
  {
   "cell_type": "code",
   "execution_count": 231,
   "metadata": {
    "collapsed": false
   },
   "outputs": [
    {
     "name": "stdout",
     "output_type": "stream",
     "text": [
      "nothing is happening\n",
      "in relaxation time\n",
      "pre-cooling history deque([0, 0, 0], maxlen=3)\n",
      "post-cooling history deque([0, 0, 0], maxlen=3)\n",
      "relaxation history deque([1, 0, 0, 0, 0], maxlen=5)\n",
      "demand adjustment is 0\n"
     ]
    }
   ],
   "source": [
    "e.step(0)"
   ]
  },
  {
   "cell_type": "code",
   "execution_count": 232,
   "metadata": {
    "collapsed": false
   },
   "outputs": [
    {
     "name": "stdout",
     "output_type": "stream",
     "text": [
      "nothing is happening\n",
      "in relaxation time\n",
      "pre-cooling history deque([0, 0, 0], maxlen=3)\n",
      "post-cooling history deque([0, 0, 0], maxlen=3)\n",
      "relaxation history deque([0, 0, 0, 0, 0], maxlen=5)\n",
      "demand adjustment is 0\n"
     ]
    }
   ],
   "source": [
    "e.step(0)"
   ]
  },
  {
   "cell_type": "code",
   "execution_count": 233,
   "metadata": {
    "collapsed": false
   },
   "outputs": [
    {
     "name": "stdout",
     "output_type": "stream",
     "text": [
      "starting pre-cooling event\n",
      "pre-cooling history deque([0, 0, 1], maxlen=3)\n",
      "post-cooling history deque([0, 0, 0], maxlen=3)\n",
      "relaxation history deque([0, 0, 0, 0, 0], maxlen=5)\n",
      "demand adjustment is 5\n"
     ]
    }
   ],
   "source": [
    "e.step(1)"
   ]
  },
  {
   "cell_type": "code",
   "execution_count": 234,
   "metadata": {
    "collapsed": false
   },
   "outputs": [
    {
     "name": "stdout",
     "output_type": "stream",
     "text": [
      "continuing pre-cooling event\n",
      "pre-cooling history deque([0, 1, 1], maxlen=3)\n",
      "post-cooling history deque([0, 0, 0], maxlen=3)\n",
      "relaxation history deque([0, 0, 0, 0, 0], maxlen=5)\n",
      "demand adjustment is 5\n"
     ]
    }
   ],
   "source": [
    "e.step(0)"
   ]
  },
  {
   "cell_type": "code",
   "execution_count": 235,
   "metadata": {
    "collapsed": false
   },
   "outputs": [
    {
     "name": "stdout",
     "output_type": "stream",
     "text": [
      "continuing pre-cooling event\n",
      "pre-cooling history deque([1, 1, 1], maxlen=3)\n",
      "post-cooling history deque([0, 0, 0], maxlen=3)\n",
      "relaxation history deque([0, 0, 0, 0, 0], maxlen=5)\n",
      "demand adjustment is 5\n"
     ]
    }
   ],
   "source": [
    "e.step(0)"
   ]
  },
  {
   "cell_type": "code",
   "execution_count": 236,
   "metadata": {
    "collapsed": false
   },
   "outputs": [
    {
     "name": "stdout",
     "output_type": "stream",
     "text": [
      "ending pre-cooling event\n",
      "starting post-cooling event\n",
      "pre-cooling history deque([1, 1, 0], maxlen=3)\n",
      "post-cooling history deque([0, 0, 1], maxlen=3)\n",
      "relaxation history deque([0, 0, 0, 0, 0], maxlen=5)\n",
      "demand adjustment is -5\n"
     ]
    }
   ],
   "source": [
    "e.step(0)"
   ]
  },
  {
   "cell_type": "code",
   "execution_count": 237,
   "metadata": {
    "collapsed": false
   },
   "outputs": [
    {
     "name": "stdout",
     "output_type": "stream",
     "text": [
      "continuing post-cooling event\n",
      "pre-cooling history deque([1, 0, 0], maxlen=3)\n",
      "post-cooling history deque([0, 1, 1], maxlen=3)\n",
      "relaxation history deque([0, 0, 0, 0, 0], maxlen=5)\n",
      "demand adjustment is -5\n"
     ]
    }
   ],
   "source": [
    "e.step(0)"
   ]
  },
  {
   "cell_type": "code",
   "execution_count": 238,
   "metadata": {
    "collapsed": false
   },
   "outputs": [
    {
     "name": "stdout",
     "output_type": "stream",
     "text": [
      "continuing post-cooling event\n",
      "pre-cooling history deque([0, 0, 0], maxlen=3)\n",
      "post-cooling history deque([1, 1, 1], maxlen=3)\n",
      "relaxation history deque([0, 0, 0, 0, 0], maxlen=5)\n",
      "demand adjustment is -5\n"
     ]
    }
   ],
   "source": [
    "e.step(0)"
   ]
  },
  {
   "cell_type": "code",
   "execution_count": 239,
   "metadata": {
    "collapsed": false
   },
   "outputs": [
    {
     "name": "stdout",
     "output_type": "stream",
     "text": [
      "ending post-cooling event\n",
      "pre-cooling history deque([0, 0, 0], maxlen=3)\n",
      "post-cooling history deque([1, 1, 0], maxlen=3)\n",
      "relaxation history deque([0, 0, 0, 0, 1], maxlen=5)\n",
      "demand adjustment is 0\n"
     ]
    }
   ],
   "source": [
    "e.step(0)"
   ]
  },
  {
   "cell_type": "code",
   "execution_count": 240,
   "metadata": {
    "collapsed": false
   },
   "outputs": [
    {
     "name": "stdout",
     "output_type": "stream",
     "text": [
      "nothing is happening\n",
      "in relaxation time\n",
      "pre-cooling history deque([0, 0, 0], maxlen=3)\n",
      "post-cooling history deque([1, 0, 0], maxlen=3)\n",
      "relaxation history deque([0, 0, 0, 1, 0], maxlen=5)\n",
      "demand adjustment is 0\n"
     ]
    }
   ],
   "source": [
    "e.step(0)"
   ]
  },
  {
   "cell_type": "code",
   "execution_count": 241,
   "metadata": {
    "collapsed": false
   },
   "outputs": [
    {
     "name": "stdout",
     "output_type": "stream",
     "text": [
      "total demand adjustment was 0\n"
     ]
    }
   ],
   "source": [
    "outputs = e.output_info()\n"
   ]
  },
  {
   "cell_type": "code",
   "execution_count": 242,
   "metadata": {
    "collapsed": false
   },
   "outputs": [
    {
     "data": {
      "text/html": [
       "<div>\n",
       "<table border=\"1\" class=\"dataframe\">\n",
       "  <thead>\n",
       "    <tr style=\"text-align: right;\">\n",
       "      <th></th>\n",
       "      <th>action</th>\n",
       "      <th>demand_adjustment_hist</th>\n",
       "      <th>postcool_hist</th>\n",
       "      <th>precool_hist</th>\n",
       "      <th>relaxation_hist</th>\n",
       "    </tr>\n",
       "  </thead>\n",
       "  <tbody>\n",
       "    <tr>\n",
       "      <th>0</th>\n",
       "      <td>0</td>\n",
       "      <td>0</td>\n",
       "      <td>0</td>\n",
       "      <td>0</td>\n",
       "      <td>0</td>\n",
       "    </tr>\n",
       "    <tr>\n",
       "      <th>1</th>\n",
       "      <td>1</td>\n",
       "      <td>5</td>\n",
       "      <td>0</td>\n",
       "      <td>1</td>\n",
       "      <td>0</td>\n",
       "    </tr>\n",
       "    <tr>\n",
       "      <th>2</th>\n",
       "      <td>1</td>\n",
       "      <td>5</td>\n",
       "      <td>0</td>\n",
       "      <td>1</td>\n",
       "      <td>0</td>\n",
       "    </tr>\n",
       "    <tr>\n",
       "      <th>3</th>\n",
       "      <td>1</td>\n",
       "      <td>5</td>\n",
       "      <td>0</td>\n",
       "      <td>1</td>\n",
       "      <td>0</td>\n",
       "    </tr>\n",
       "    <tr>\n",
       "      <th>4</th>\n",
       "      <td>1</td>\n",
       "      <td>-5</td>\n",
       "      <td>1</td>\n",
       "      <td>0</td>\n",
       "      <td>0</td>\n",
       "    </tr>\n",
       "    <tr>\n",
       "      <th>5</th>\n",
       "      <td>1</td>\n",
       "      <td>-5</td>\n",
       "      <td>1</td>\n",
       "      <td>0</td>\n",
       "      <td>0</td>\n",
       "    </tr>\n",
       "    <tr>\n",
       "      <th>6</th>\n",
       "      <td>1</td>\n",
       "      <td>-5</td>\n",
       "      <td>1</td>\n",
       "      <td>0</td>\n",
       "      <td>0</td>\n",
       "    </tr>\n",
       "    <tr>\n",
       "      <th>7</th>\n",
       "      <td>1</td>\n",
       "      <td>0</td>\n",
       "      <td>0</td>\n",
       "      <td>0</td>\n",
       "      <td>1</td>\n",
       "    </tr>\n",
       "    <tr>\n",
       "      <th>8</th>\n",
       "      <td>1</td>\n",
       "      <td>0</td>\n",
       "      <td>0</td>\n",
       "      <td>0</td>\n",
       "      <td>0</td>\n",
       "    </tr>\n",
       "    <tr>\n",
       "      <th>9</th>\n",
       "      <td>1</td>\n",
       "      <td>0</td>\n",
       "      <td>0</td>\n",
       "      <td>0</td>\n",
       "      <td>0</td>\n",
       "    </tr>\n",
       "    <tr>\n",
       "      <th>10</th>\n",
       "      <td>1</td>\n",
       "      <td>0</td>\n",
       "      <td>0</td>\n",
       "      <td>0</td>\n",
       "      <td>0</td>\n",
       "    </tr>\n",
       "    <tr>\n",
       "      <th>11</th>\n",
       "      <td>1</td>\n",
       "      <td>0</td>\n",
       "      <td>0</td>\n",
       "      <td>0</td>\n",
       "      <td>0</td>\n",
       "    </tr>\n",
       "    <tr>\n",
       "      <th>12</th>\n",
       "      <td>1</td>\n",
       "      <td>0</td>\n",
       "      <td>0</td>\n",
       "      <td>0</td>\n",
       "      <td>0</td>\n",
       "    </tr>\n",
       "    <tr>\n",
       "      <th>13</th>\n",
       "      <td>1</td>\n",
       "      <td>5</td>\n",
       "      <td>0</td>\n",
       "      <td>1</td>\n",
       "      <td>0</td>\n",
       "    </tr>\n",
       "    <tr>\n",
       "      <th>14</th>\n",
       "      <td>1</td>\n",
       "      <td>5</td>\n",
       "      <td>0</td>\n",
       "      <td>1</td>\n",
       "      <td>0</td>\n",
       "    </tr>\n",
       "    <tr>\n",
       "      <th>15</th>\n",
       "      <td>1</td>\n",
       "      <td>5</td>\n",
       "      <td>0</td>\n",
       "      <td>1</td>\n",
       "      <td>0</td>\n",
       "    </tr>\n",
       "    <tr>\n",
       "      <th>16</th>\n",
       "      <td>1</td>\n",
       "      <td>-5</td>\n",
       "      <td>1</td>\n",
       "      <td>0</td>\n",
       "      <td>0</td>\n",
       "    </tr>\n",
       "    <tr>\n",
       "      <th>17</th>\n",
       "      <td>1</td>\n",
       "      <td>-5</td>\n",
       "      <td>1</td>\n",
       "      <td>0</td>\n",
       "      <td>0</td>\n",
       "    </tr>\n",
       "    <tr>\n",
       "      <th>18</th>\n",
       "      <td>1</td>\n",
       "      <td>-5</td>\n",
       "      <td>1</td>\n",
       "      <td>0</td>\n",
       "      <td>0</td>\n",
       "    </tr>\n",
       "    <tr>\n",
       "      <th>19</th>\n",
       "      <td>0</td>\n",
       "      <td>0</td>\n",
       "      <td>0</td>\n",
       "      <td>0</td>\n",
       "      <td>1</td>\n",
       "    </tr>\n",
       "    <tr>\n",
       "      <th>20</th>\n",
       "      <td>1</td>\n",
       "      <td>0</td>\n",
       "      <td>0</td>\n",
       "      <td>0</td>\n",
       "      <td>0</td>\n",
       "    </tr>\n",
       "    <tr>\n",
       "      <th>21</th>\n",
       "      <td>0</td>\n",
       "      <td>0</td>\n",
       "      <td>0</td>\n",
       "      <td>0</td>\n",
       "      <td>0</td>\n",
       "    </tr>\n",
       "    <tr>\n",
       "      <th>22</th>\n",
       "      <td>0</td>\n",
       "      <td>0</td>\n",
       "      <td>0</td>\n",
       "      <td>0</td>\n",
       "      <td>0</td>\n",
       "    </tr>\n",
       "    <tr>\n",
       "      <th>23</th>\n",
       "      <td>0</td>\n",
       "      <td>0</td>\n",
       "      <td>0</td>\n",
       "      <td>0</td>\n",
       "      <td>0</td>\n",
       "    </tr>\n",
       "    <tr>\n",
       "      <th>24</th>\n",
       "      <td>0</td>\n",
       "      <td>0</td>\n",
       "      <td>0</td>\n",
       "      <td>0</td>\n",
       "      <td>0</td>\n",
       "    </tr>\n",
       "    <tr>\n",
       "      <th>25</th>\n",
       "      <td>1</td>\n",
       "      <td>5</td>\n",
       "      <td>0</td>\n",
       "      <td>1</td>\n",
       "      <td>0</td>\n",
       "    </tr>\n",
       "    <tr>\n",
       "      <th>26</th>\n",
       "      <td>0</td>\n",
       "      <td>5</td>\n",
       "      <td>0</td>\n",
       "      <td>1</td>\n",
       "      <td>0</td>\n",
       "    </tr>\n",
       "    <tr>\n",
       "      <th>27</th>\n",
       "      <td>0</td>\n",
       "      <td>5</td>\n",
       "      <td>0</td>\n",
       "      <td>1</td>\n",
       "      <td>0</td>\n",
       "    </tr>\n",
       "    <tr>\n",
       "      <th>28</th>\n",
       "      <td>0</td>\n",
       "      <td>-5</td>\n",
       "      <td>1</td>\n",
       "      <td>0</td>\n",
       "      <td>0</td>\n",
       "    </tr>\n",
       "    <tr>\n",
       "      <th>29</th>\n",
       "      <td>0</td>\n",
       "      <td>-5</td>\n",
       "      <td>1</td>\n",
       "      <td>0</td>\n",
       "      <td>0</td>\n",
       "    </tr>\n",
       "    <tr>\n",
       "      <th>30</th>\n",
       "      <td>0</td>\n",
       "      <td>-5</td>\n",
       "      <td>1</td>\n",
       "      <td>0</td>\n",
       "      <td>0</td>\n",
       "    </tr>\n",
       "    <tr>\n",
       "      <th>31</th>\n",
       "      <td>0</td>\n",
       "      <td>0</td>\n",
       "      <td>0</td>\n",
       "      <td>0</td>\n",
       "      <td>1</td>\n",
       "    </tr>\n",
       "    <tr>\n",
       "      <th>32</th>\n",
       "      <td>0</td>\n",
       "      <td>0</td>\n",
       "      <td>0</td>\n",
       "      <td>0</td>\n",
       "      <td>0</td>\n",
       "    </tr>\n",
       "  </tbody>\n",
       "</table>\n",
       "</div>"
      ],
      "text/plain": [
       "    action  demand_adjustment_hist  postcool_hist  precool_hist  \\\n",
       "0        0                       0              0             0   \n",
       "1        1                       5              0             1   \n",
       "2        1                       5              0             1   \n",
       "3        1                       5              0             1   \n",
       "4        1                      -5              1             0   \n",
       "5        1                      -5              1             0   \n",
       "6        1                      -5              1             0   \n",
       "7        1                       0              0             0   \n",
       "8        1                       0              0             0   \n",
       "9        1                       0              0             0   \n",
       "10       1                       0              0             0   \n",
       "11       1                       0              0             0   \n",
       "12       1                       0              0             0   \n",
       "13       1                       5              0             1   \n",
       "14       1                       5              0             1   \n",
       "15       1                       5              0             1   \n",
       "16       1                      -5              1             0   \n",
       "17       1                      -5              1             0   \n",
       "18       1                      -5              1             0   \n",
       "19       0                       0              0             0   \n",
       "20       1                       0              0             0   \n",
       "21       0                       0              0             0   \n",
       "22       0                       0              0             0   \n",
       "23       0                       0              0             0   \n",
       "24       0                       0              0             0   \n",
       "25       1                       5              0             1   \n",
       "26       0                       5              0             1   \n",
       "27       0                       5              0             1   \n",
       "28       0                      -5              1             0   \n",
       "29       0                      -5              1             0   \n",
       "30       0                      -5              1             0   \n",
       "31       0                       0              0             0   \n",
       "32       0                       0              0             0   \n",
       "\n",
       "    relaxation_hist  \n",
       "0                 0  \n",
       "1                 0  \n",
       "2                 0  \n",
       "3                 0  \n",
       "4                 0  \n",
       "5                 0  \n",
       "6                 0  \n",
       "7                 1  \n",
       "8                 0  \n",
       "9                 0  \n",
       "10                0  \n",
       "11                0  \n",
       "12                0  \n",
       "13                0  \n",
       "14                0  \n",
       "15                0  \n",
       "16                0  \n",
       "17                0  \n",
       "18                0  \n",
       "19                1  \n",
       "20                0  \n",
       "21                0  \n",
       "22                0  \n",
       "23                0  \n",
       "24                0  \n",
       "25                0  \n",
       "26                0  \n",
       "27                0  \n",
       "28                0  \n",
       "29                0  \n",
       "30                0  \n",
       "31                1  \n",
       "32                0  "
      ]
     },
     "execution_count": 242,
     "metadata": {},
     "output_type": "execute_result"
    }
   ],
   "source": [
    "outputs['dataframe']"
   ]
  },
  {
   "cell_type": "code",
   "execution_count": 243,
   "metadata": {
    "collapsed": false
   },
   "outputs": [
    {
     "data": {
      "image/png": "[encoded data removed]",
      "text/plain": [
       "<matplotlib.figure.Figure at 0x25d7006fda0>"
      ]
     },
     "execution_count": 243,
     "metadata": {},
     "output_type": "execute_result"
    }
   ],
   "source": [
    "outputs['time_series_fig']"
   ]
  },
  {
   "cell_type": "code",
   "execution_count": null,
   "metadata": {
    "collapsed": true
   },
   "outputs": [],
   "source": []
  }
 ],
 "metadata": {
  "kernelspec": {
   "display_name": "Python 3",
   "language": "python",
   "name": "python3"
  },
  "language_info": {
   "codemirror_mode": {
    "name": "ipython",
    "version": 3
   },
   "file_extension": ".py",
   "mimetype": "text/x-python",
   "name": "python",
   "nbconvert_exporter": "python",
   "pygments_lexer": "ipython3",
   "version": "3.6.0"
  }
 },
 "nbformat": 4,
 "nbformat_minor": 2
}
