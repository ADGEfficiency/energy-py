{
 "cells": [
  {
   "cell_type": "code",
   "execution_count": 358,
   "metadata": {
    "scrolled": true
   },
   "outputs": [
    {
     "data": {
      "text/plain": [
       "'\\nThis notebook works through the logic for pre & post cooling\\n'"
      ]
     },
     "execution_count": 358,
     "metadata": {},
     "output_type": "execute_result"
    }
   ],
   "source": [
    "\"\"\"\n",
    "This notebook works through the logic for pre & post cooling\n",
    "\"\"\""
   ]
  },
  {
   "cell_type": "code",
   "execution_count": 359,
   "metadata": {
    "collapsed": true,
    "scrolled": true
   },
   "outputs": [],
   "source": [
    "import collections\n",
    "\n",
    "import numpy as np\n",
    "import pandas as pd"
   ]
  },
  {
   "cell_type": "code",
   "execution_count": 360,
   "metadata": {
    "scrolled": true
   },
   "outputs": [],
   "source": [
    "class env(object):\n",
    "    def __init__(self):\n",
    "        self.memory = 3\n",
    "        self.capacity = 5\n",
    "        self.relaxation_time = 2\n",
    "        \n",
    "        self.info, self.outputs = {}, {}\n",
    "        \n",
    "        self.reset()\n",
    "\n",
    "    def reset(self):    \n",
    "        self.precool_hist = collections.deque([0], maxlen=self.memory)\n",
    "        self.postcool_hist = collections.deque([0], maxlen=self.memory)\n",
    "        self.relaxation_hist = collections.deque([0], maxlen=self.relaxation_time)\n",
    "        \n",
    "        self.info['demand_adjustment_hist'] = []\n",
    "        self.info['precool_hist'] = []\n",
    "        self.info['postcool_hist'] = []\n",
    "        self.info['relaxation_hist'] = []\n",
    "        \n",
    "        print('reset')\n",
    "        return None\n",
    "\n",
    "    def update_hists(self, precool, postcool, relaxation):\n",
    "            self.precool_hist.append(precool)\n",
    "            self.postcool_hist.append(postcool)\n",
    "            self.relaxation_hist.append(relaxation)\n",
    "            return None    \n",
    "\n",
    "    def update_info(self, demand_adjustment): \n",
    "        \"\"\"\n",
    "        updates the self.info dictionary\n",
    "        \"\"\"\n",
    "        self.info['demand_adjustment_hist'].append(demand_adjustment)\n",
    "        self.info['precool_hist'].append(self.precool_hist[-1])\n",
    "        self.info['postcool_hist'].append(self.postcool_hist[-1])\n",
    "        self.info['relaxation_hist'].append(self.relaxation_hist[-1])\n",
    "        return self.info\n",
    "    \n",
    "    def output_info(self):\n",
    "        \"\"\"\n",
    "        extracts info and turns into dataframes & graphs\n",
    "        \"\"\"\n",
    "        def demand_adjustment_fig():\n",
    "            return fig\n",
    "        \n",
    "        index = np.arange(0, len(self.info['demand_adjustment_hist']))\n",
    "        \n",
    "        total_demand_adjustment = sum(self.info['demand_adjustment_hist'])\n",
    "        print('total demand adjustment was {}'.format(total_demand_adjustment))\n",
    "        \n",
    "        self.outputs['dataframe'] = pd.DataFrame(data=[], index=index, columns=)\n",
    "        \n",
    "        self.outputs['dataframe'] = pd.DataFrame.from_dict(self.info)\n",
    "\n",
    "        \n",
    "#         self.outputs['demand_adjustment_hist'] = pd.DataFrame(self.info['demand_adjustment_hist'], index)\n",
    "#         self.outputs['precool_hist'] = pd.DataFrame(self.info['precool_hist'], index)\n",
    "#         self.outputs['postcool_hist'] = pd.DataFrame(self.info['postcool_hist'], index)\n",
    "#         self.outputs['relaxation_hist'] = pd.DataFrame(self.info['relaxation_hist'], index)\n",
    "        \n",
    "        # self.outputs['demand_adjustment_fig'] = demand_adjustment_fig()\n",
    "        \n",
    "        return self.outputs\n",
    "        \n",
    "    def step(self,action):\n",
    "        \n",
    "        \"\"\"\n",
    "        this function steps through the environment\n",
    "        \n",
    "        TODO - a way to delay the start of the next precooling after the postcooling ended\n",
    "        \"\"\"\n",
    "    \n",
    "        precool_hist = sum(self.precool_hist)\n",
    "        postcool_hist = sum(self.postcool_hist)\n",
    "        relaxation_hist = sum(self.relaxation_hist)\n",
    "        \n",
    "        cooling_demand = 0\n",
    "\n",
    "        #  should we start a precooling event\n",
    "        if precool_hist == 0 and action == 1 and self.postcool_hist[-1] == 0 and relaxation_hist == 0:\n",
    "            print('starting pre-cooling event')\n",
    "            self.update_hists(1, 0, 0)\n",
    "\n",
    "        #  are we already in a precooling event\n",
    "        elif precool_hist > 0 and precool_hist < self.memory and self.precool_hist[-1] == 1:\n",
    "            print('continuing pre-cooling event')\n",
    "            self.update_hists(1, 0, 0)\n",
    "\n",
    "        #  are we at the end of a precooling event\n",
    "        #  aka should we start a postcooling event\n",
    "        elif precool_hist == self.memory:\n",
    "            print('ending pre-cooling event')\n",
    "            print('starting post-cooling event')\n",
    "            self.update_hists(0, 1, 0)\n",
    "\n",
    "        #  are we already in a postcooling event   \n",
    "        elif postcool_hist > 0 and postcool_hist < self.memory and self.postcool_hist[-1] == 1:    \n",
    "            print('continuing post-cooling event')\n",
    "            self.update_hists(0, 1, 0)\n",
    "\n",
    "        #  are we ending a postcooling event\n",
    "        elif postcool_hist == self.memory and precool_hist == 0:\n",
    "            print('ending post-cooling event')\n",
    "            self.update_hists(0, 0, 1)\n",
    "\n",
    "        else:\n",
    "            print('nothing is happening')\n",
    "            self.update_hists(0, 0, 0)\n",
    "            \n",
    "            if relaxation_hist > 0:\n",
    "                print('in relaxation time')\n",
    "            \n",
    "        print('pre-cooling history {}'.format(self.precool_hist))\n",
    "        print('post-cooling history {}'.format(self.postcool_hist)) \n",
    "        print('relaxation history {}'.format(self.relaxation_hist)) \n",
    "        \n",
    "        #  now calculating the effect on demand\n",
    "        demand_adjustment = 0\n",
    "        \n",
    "        if self.precool_hist[-1] == 1:\n",
    "            demand_adjustment = self.capacity\n",
    "            \n",
    "        if self.postcool_hist[-1] == 1:\n",
    "            demand_adjustment = -self.capacity    \n",
    "            \n",
    "        print('demand adjustment is {}'.format(demand_adjustment))    \n",
    "        \n",
    "        #  saving info\n",
    "        self.info = self.update_info(demand_adjustment)\n",
    "        \n",
    "        #  check cooling balance\n",
    "            \n",
    "        return None    "
   ]
  },
  {
   "cell_type": "code",
   "execution_count": 361,
   "metadata": {
    "scrolled": true
   },
   "outputs": [
    {
     "name": "stdout",
     "output_type": "stream",
     "text": [
      "reset\n"
     ]
    }
   ],
   "source": [
    "e = env()"
   ]
  },
  {
   "cell_type": "code",
   "execution_count": 362,
   "metadata": {},
   "outputs": [
    {
     "name": "stdout",
     "output_type": "stream",
     "text": [
      "nothing is happening\n",
      "pre-cooling history deque([0, 0], maxlen=3)\n",
      "post-cooling history deque([0, 0], maxlen=3)\n",
      "relaxation history deque([0, 0], maxlen=2)\n",
      "demand adjustment is 0\n"
     ]
    }
   ],
   "source": [
    "e.step(0)"
   ]
  },
  {
   "cell_type": "code",
   "execution_count": 363,
   "metadata": {
    "scrolled": true
   },
   "outputs": [
    {
     "name": "stdout",
     "output_type": "stream",
     "text": [
      "starting pre-cooling event\n",
      "pre-cooling history deque([0, 0, 1], maxlen=3)\n",
      "post-cooling history deque([0, 0, 0], maxlen=3)\n",
      "relaxation history deque([0, 0], maxlen=2)\n",
      "demand adjustment is 5\n"
     ]
    }
   ],
   "source": [
    "e.step(1)"
   ]
  },
  {
   "cell_type": "code",
   "execution_count": 364,
   "metadata": {
    "scrolled": true
   },
   "outputs": [
    {
     "name": "stdout",
     "output_type": "stream",
     "text": [
      "continuing pre-cooling event\n",
      "pre-cooling history deque([0, 1, 1], maxlen=3)\n",
      "post-cooling history deque([0, 0, 0], maxlen=3)\n",
      "relaxation history deque([0, 0], maxlen=2)\n",
      "demand adjustment is 5\n"
     ]
    }
   ],
   "source": [
    "e.step(1)"
   ]
  },
  {
   "cell_type": "code",
   "execution_count": 365,
   "metadata": {
    "scrolled": true
   },
   "outputs": [
    {
     "name": "stdout",
     "output_type": "stream",
     "text": [
      "continuing pre-cooling event\n",
      "pre-cooling history deque([1, 1, 1], maxlen=3)\n",
      "post-cooling history deque([0, 0, 0], maxlen=3)\n",
      "relaxation history deque([0, 0], maxlen=2)\n",
      "demand adjustment is 5\n"
     ]
    }
   ],
   "source": [
    "e.step(1)"
   ]
  },
  {
   "cell_type": "code",
   "execution_count": 366,
   "metadata": {
    "scrolled": true
   },
   "outputs": [
    {
     "name": "stdout",
     "output_type": "stream",
     "text": [
      "ending pre-cooling event\n",
      "starting post-cooling event\n",
      "pre-cooling history deque([1, 1, 0], maxlen=3)\n",
      "post-cooling history deque([0, 0, 1], maxlen=3)\n",
      "relaxation history deque([0, 0], maxlen=2)\n",
      "demand adjustment is -5\n"
     ]
    }
   ],
   "source": [
    "e.step(1)"
   ]
  },
  {
   "cell_type": "code",
   "execution_count": 367,
   "metadata": {
    "scrolled": true
   },
   "outputs": [
    {
     "name": "stdout",
     "output_type": "stream",
     "text": [
      "continuing post-cooling event\n",
      "pre-cooling history deque([1, 0, 0], maxlen=3)\n",
      "post-cooling history deque([0, 1, 1], maxlen=3)\n",
      "relaxation history deque([0, 0], maxlen=2)\n",
      "demand adjustment is -5\n"
     ]
    }
   ],
   "source": [
    "e.step(1)"
   ]
  },
  {
   "cell_type": "code",
   "execution_count": 368,
   "metadata": {
    "scrolled": true
   },
   "outputs": [
    {
     "name": "stdout",
     "output_type": "stream",
     "text": [
      "continuing post-cooling event\n",
      "pre-cooling history deque([0, 0, 0], maxlen=3)\n",
      "post-cooling history deque([1, 1, 1], maxlen=3)\n",
      "relaxation history deque([0, 0], maxlen=2)\n",
      "demand adjustment is -5\n"
     ]
    }
   ],
   "source": [
    "e.step(1)"
   ]
  },
  {
   "cell_type": "code",
   "execution_count": 369,
   "metadata": {
    "scrolled": true
   },
   "outputs": [
    {
     "name": "stdout",
     "output_type": "stream",
     "text": [
      "ending post-cooling event\n",
      "pre-cooling history deque([0, 0, 0], maxlen=3)\n",
      "post-cooling history deque([1, 1, 0], maxlen=3)\n",
      "relaxation history deque([0, 1], maxlen=2)\n",
      "demand adjustment is 0\n"
     ]
    }
   ],
   "source": [
    "e.step(1)"
   ]
  },
  {
   "cell_type": "code",
   "execution_count": 370,
   "metadata": {
    "scrolled": true
   },
   "outputs": [
    {
     "name": "stdout",
     "output_type": "stream",
     "text": [
      "nothing is happening\n",
      "in relaxation time\n",
      "pre-cooling history deque([0, 0, 0], maxlen=3)\n",
      "post-cooling history deque([1, 0, 0], maxlen=3)\n",
      "relaxation history deque([1, 0], maxlen=2)\n",
      "demand adjustment is 0\n"
     ]
    }
   ],
   "source": [
    "e.step(1)"
   ]
  },
  {
   "cell_type": "code",
   "execution_count": 371,
   "metadata": {
    "scrolled": true
   },
   "outputs": [
    {
     "name": "stdout",
     "output_type": "stream",
     "text": [
      "nothing is happening\n",
      "in relaxation time\n",
      "pre-cooling history deque([0, 0, 0], maxlen=3)\n",
      "post-cooling history deque([0, 0, 0], maxlen=3)\n",
      "relaxation history deque([0, 0], maxlen=2)\n",
      "demand adjustment is 0\n"
     ]
    }
   ],
   "source": [
    "e.step(1)"
   ]
  },
  {
   "cell_type": "code",
   "execution_count": 372,
   "metadata": {
    "scrolled": true
   },
   "outputs": [
    {
     "name": "stdout",
     "output_type": "stream",
     "text": [
      "starting pre-cooling event\n",
      "pre-cooling history deque([0, 0, 1], maxlen=3)\n",
      "post-cooling history deque([0, 0, 0], maxlen=3)\n",
      "relaxation history deque([0, 0], maxlen=2)\n",
      "demand adjustment is 5\n"
     ]
    }
   ],
   "source": [
    "e.step(1)"
   ]
  },
  {
   "cell_type": "code",
   "execution_count": 373,
   "metadata": {
    "scrolled": true
   },
   "outputs": [
    {
     "name": "stdout",
     "output_type": "stream",
     "text": [
      "continuing pre-cooling event\n",
      "pre-cooling history deque([0, 1, 1], maxlen=3)\n",
      "post-cooling history deque([0, 0, 0], maxlen=3)\n",
      "relaxation history deque([0, 0], maxlen=2)\n",
      "demand adjustment is 5\n"
     ]
    }
   ],
   "source": [
    "e.step(1)"
   ]
  },
  {
   "cell_type": "code",
   "execution_count": 374,
   "metadata": {
    "scrolled": true
   },
   "outputs": [
    {
     "name": "stdout",
     "output_type": "stream",
     "text": [
      "continuing pre-cooling event\n",
      "pre-cooling history deque([1, 1, 1], maxlen=3)\n",
      "post-cooling history deque([0, 0, 0], maxlen=3)\n",
      "relaxation history deque([0, 0], maxlen=2)\n",
      "demand adjustment is 5\n"
     ]
    }
   ],
   "source": [
    "e.step(1)"
   ]
  },
  {
   "cell_type": "code",
   "execution_count": 375,
   "metadata": {
    "scrolled": true
   },
   "outputs": [
    {
     "name": "stdout",
     "output_type": "stream",
     "text": [
      "ending pre-cooling event\n",
      "starting post-cooling event\n",
      "pre-cooling history deque([1, 1, 0], maxlen=3)\n",
      "post-cooling history deque([0, 0, 1], maxlen=3)\n",
      "relaxation history deque([0, 0], maxlen=2)\n",
      "demand adjustment is -5\n"
     ]
    }
   ],
   "source": [
    "e.step(1)"
   ]
  },
  {
   "cell_type": "code",
   "execution_count": 376,
   "metadata": {
    "scrolled": true
   },
   "outputs": [
    {
     "name": "stdout",
     "output_type": "stream",
     "text": [
      "continuing post-cooling event\n",
      "pre-cooling history deque([1, 0, 0], maxlen=3)\n",
      "post-cooling history deque([0, 1, 1], maxlen=3)\n",
      "relaxation history deque([0, 0], maxlen=2)\n",
      "demand adjustment is -5\n"
     ]
    }
   ],
   "source": [
    "e.step(1)"
   ]
  },
  {
   "cell_type": "code",
   "execution_count": 377,
   "metadata": {
    "scrolled": true
   },
   "outputs": [
    {
     "name": "stdout",
     "output_type": "stream",
     "text": [
      "continuing post-cooling event\n",
      "pre-cooling history deque([0, 0, 0], maxlen=3)\n",
      "post-cooling history deque([1, 1, 1], maxlen=3)\n",
      "relaxation history deque([0, 0], maxlen=2)\n",
      "demand adjustment is -5\n"
     ]
    }
   ],
   "source": [
    "e.step(1)"
   ]
  },
  {
   "cell_type": "code",
   "execution_count": 378,
   "metadata": {
    "scrolled": true
   },
   "outputs": [
    {
     "name": "stdout",
     "output_type": "stream",
     "text": [
      "ending post-cooling event\n",
      "pre-cooling history deque([0, 0, 0], maxlen=3)\n",
      "post-cooling history deque([1, 1, 0], maxlen=3)\n",
      "relaxation history deque([0, 1], maxlen=2)\n",
      "demand adjustment is 0\n"
     ]
    }
   ],
   "source": [
    "e.step(1)"
   ]
  },
  {
   "cell_type": "code",
   "execution_count": 379,
   "metadata": {
    "scrolled": true
   },
   "outputs": [
    {
     "name": "stdout",
     "output_type": "stream",
     "text": [
      "nothing is happening\n",
      "in relaxation time\n",
      "pre-cooling history deque([0, 0, 0], maxlen=3)\n",
      "post-cooling history deque([1, 0, 0], maxlen=3)\n",
      "relaxation history deque([1, 0], maxlen=2)\n",
      "demand adjustment is 0\n"
     ]
    }
   ],
   "source": [
    "e.step(1)"
   ]
  },
  {
   "cell_type": "code",
   "execution_count": 380,
   "metadata": {
    "scrolled": true
   },
   "outputs": [
    {
     "name": "stdout",
     "output_type": "stream",
     "text": [
      "nothing is happening\n",
      "in relaxation time\n",
      "pre-cooling history deque([0, 0, 0], maxlen=3)\n",
      "post-cooling history deque([0, 0, 0], maxlen=3)\n",
      "relaxation history deque([0, 0], maxlen=2)\n",
      "demand adjustment is 0\n"
     ]
    }
   ],
   "source": [
    "e.step(1)"
   ]
  },
  {
   "cell_type": "code",
   "execution_count": 381,
   "metadata": {
    "scrolled": true
   },
   "outputs": [
    {
     "name": "stdout",
     "output_type": "stream",
     "text": [
      "nothing is happening\n",
      "pre-cooling history deque([0, 0, 0], maxlen=3)\n",
      "post-cooling history deque([0, 0, 0], maxlen=3)\n",
      "relaxation history deque([0, 0], maxlen=2)\n",
      "demand adjustment is 0\n"
     ]
    }
   ],
   "source": [
    "e.step(0)"
   ]
  },
  {
   "cell_type": "code",
   "execution_count": 382,
   "metadata": {
    "scrolled": true
   },
   "outputs": [
    {
     "name": "stdout",
     "output_type": "stream",
     "text": [
      "starting pre-cooling event\n",
      "pre-cooling history deque([0, 0, 1], maxlen=3)\n",
      "post-cooling history deque([0, 0, 0], maxlen=3)\n",
      "relaxation history deque([0, 0], maxlen=2)\n",
      "demand adjustment is 5\n"
     ]
    }
   ],
   "source": [
    "e.step(1)"
   ]
  },
  {
   "cell_type": "code",
   "execution_count": 383,
   "metadata": {
    "scrolled": true
   },
   "outputs": [
    {
     "name": "stdout",
     "output_type": "stream",
     "text": [
      "continuing pre-cooling event\n",
      "pre-cooling history deque([0, 1, 1], maxlen=3)\n",
      "post-cooling history deque([0, 0, 0], maxlen=3)\n",
      "relaxation history deque([0, 0], maxlen=2)\n",
      "demand adjustment is 5\n"
     ]
    }
   ],
   "source": [
    "e.step(0)"
   ]
  },
  {
   "cell_type": "code",
   "execution_count": 384,
   "metadata": {},
   "outputs": [
    {
     "name": "stdout",
     "output_type": "stream",
     "text": [
      "continuing pre-cooling event\n",
      "pre-cooling history deque([1, 1, 1], maxlen=3)\n",
      "post-cooling history deque([0, 0, 0], maxlen=3)\n",
      "relaxation history deque([0, 0], maxlen=2)\n",
      "demand adjustment is 5\n"
     ]
    }
   ],
   "source": [
    "e.step(0)"
   ]
  },
  {
   "cell_type": "code",
   "execution_count": 385,
   "metadata": {},
   "outputs": [
    {
     "name": "stdout",
     "output_type": "stream",
     "text": [
      "ending pre-cooling event\n",
      "starting post-cooling event\n",
      "pre-cooling history deque([1, 1, 0], maxlen=3)\n",
      "post-cooling history deque([0, 0, 1], maxlen=3)\n",
      "relaxation history deque([0, 0], maxlen=2)\n",
      "demand adjustment is -5\n"
     ]
    }
   ],
   "source": [
    "e.step(0)"
   ]
  },
  {
   "cell_type": "code",
   "execution_count": 386,
   "metadata": {},
   "outputs": [
    {
     "name": "stdout",
     "output_type": "stream",
     "text": [
      "continuing post-cooling event\n",
      "pre-cooling history deque([1, 0, 0], maxlen=3)\n",
      "post-cooling history deque([0, 1, 1], maxlen=3)\n",
      "relaxation history deque([0, 0], maxlen=2)\n",
      "demand adjustment is -5\n"
     ]
    }
   ],
   "source": [
    "e.step(0)"
   ]
  },
  {
   "cell_type": "code",
   "execution_count": 387,
   "metadata": {},
   "outputs": [
    {
     "name": "stdout",
     "output_type": "stream",
     "text": [
      "continuing post-cooling event\n",
      "pre-cooling history deque([0, 0, 0], maxlen=3)\n",
      "post-cooling history deque([1, 1, 1], maxlen=3)\n",
      "relaxation history deque([0, 0], maxlen=2)\n",
      "demand adjustment is -5\n"
     ]
    }
   ],
   "source": [
    "e.step(1)"
   ]
  },
  {
   "cell_type": "code",
   "execution_count": 388,
   "metadata": {},
   "outputs": [
    {
     "name": "stdout",
     "output_type": "stream",
     "text": [
      "ending post-cooling event\n",
      "pre-cooling history deque([0, 0, 0], maxlen=3)\n",
      "post-cooling history deque([1, 1, 0], maxlen=3)\n",
      "relaxation history deque([0, 1], maxlen=2)\n",
      "demand adjustment is 0\n"
     ]
    }
   ],
   "source": [
    "e.step(0)"
   ]
  },
  {
   "cell_type": "code",
   "execution_count": 389,
   "metadata": {},
   "outputs": [
    {
     "name": "stdout",
     "output_type": "stream",
     "text": [
      "nothing is happening\n",
      "in relaxation time\n",
      "pre-cooling history deque([0, 0, 0], maxlen=3)\n",
      "post-cooling history deque([1, 0, 0], maxlen=3)\n",
      "relaxation history deque([1, 0], maxlen=2)\n",
      "demand adjustment is 0\n"
     ]
    }
   ],
   "source": [
    "e.step(0)"
   ]
  },
  {
   "cell_type": "code",
   "execution_count": 390,
   "metadata": {},
   "outputs": [
    {
     "name": "stdout",
     "output_type": "stream",
     "text": [
      "nothing is happening\n",
      "in relaxation time\n",
      "pre-cooling history deque([0, 0, 0], maxlen=3)\n",
      "post-cooling history deque([0, 0, 0], maxlen=3)\n",
      "relaxation history deque([0, 0], maxlen=2)\n",
      "demand adjustment is 0\n"
     ]
    }
   ],
   "source": [
    "e.step(0)"
   ]
  },
  {
   "cell_type": "code",
   "execution_count": 391,
   "metadata": {},
   "outputs": [
    {
     "name": "stdout",
     "output_type": "stream",
     "text": [
      "nothing is happening\n",
      "pre-cooling history deque([0, 0, 0], maxlen=3)\n",
      "post-cooling history deque([0, 0, 0], maxlen=3)\n",
      "relaxation history deque([0, 0], maxlen=2)\n",
      "demand adjustment is 0\n"
     ]
    }
   ],
   "source": [
    "e.step(0)"
   ]
  },
  {
   "cell_type": "code",
   "execution_count": 392,
   "metadata": {},
   "outputs": [
    {
     "name": "stdout",
     "output_type": "stream",
     "text": [
      "nothing is happening\n",
      "pre-cooling history deque([0, 0, 0], maxlen=3)\n",
      "post-cooling history deque([0, 0, 0], maxlen=3)\n",
      "relaxation history deque([0, 0], maxlen=2)\n",
      "demand adjustment is 0\n"
     ]
    }
   ],
   "source": [
    "e.step(0)"
   ]
  },
  {
   "cell_type": "code",
   "execution_count": 393,
   "metadata": {},
   "outputs": [
    {
     "name": "stdout",
     "output_type": "stream",
     "text": [
      "nothing is happening\n",
      "pre-cooling history deque([0, 0, 0], maxlen=3)\n",
      "post-cooling history deque([0, 0, 0], maxlen=3)\n",
      "relaxation history deque([0, 0], maxlen=2)\n",
      "demand adjustment is 0\n"
     ]
    }
   ],
   "source": [
    "e.step(0)"
   ]
  },
  {
   "cell_type": "code",
   "execution_count": 394,
   "metadata": {},
   "outputs": [
    {
     "name": "stdout",
     "output_type": "stream",
     "text": [
      "nothing is happening\n",
      "pre-cooling history deque([0, 0, 0], maxlen=3)\n",
      "post-cooling history deque([0, 0, 0], maxlen=3)\n",
      "relaxation history deque([0, 0], maxlen=2)\n",
      "demand adjustment is 0\n"
     ]
    }
   ],
   "source": [
    "e.step(0)"
   ]
  },
  {
   "cell_type": "code",
   "execution_count": 395,
   "metadata": {},
   "outputs": [
    {
     "name": "stdout",
     "output_type": "stream",
     "text": [
      "total demand adjustment was 0\n"
     ]
    }
   ],
   "source": [
    "outputs = e.output_info()\n",
    "demand_adj = outputs['demand_adjustment_hist']"
   ]
  },
  {
   "cell_type": "code",
   "execution_count": 396,
   "metadata": {},
   "outputs": [
    {
     "data": {
      "text/html": [
       "<div>\n",
       "<style>\n",
       "    .dataframe thead tr:only-child th {\n",
       "        text-align: right;\n",
       "    }\n",
       "\n",
       "    .dataframe thead th {\n",
       "        text-align: left;\n",
       "    }\n",
       "\n",
       "    .dataframe tbody tr th {\n",
       "        vertical-align: top;\n",
       "    }\n",
       "</style>\n",
       "<table border=\"1\" class=\"dataframe\">\n",
       "  <thead>\n",
       "    <tr style=\"text-align: right;\">\n",
       "      <th></th>\n",
       "      <th>0</th>\n",
       "    </tr>\n",
       "  </thead>\n",
       "  <tbody>\n",
       "    <tr>\n",
       "      <th>0</th>\n",
       "      <td>0</td>\n",
       "    </tr>\n",
       "    <tr>\n",
       "      <th>1</th>\n",
       "      <td>5</td>\n",
       "    </tr>\n",
       "    <tr>\n",
       "      <th>2</th>\n",
       "      <td>5</td>\n",
       "    </tr>\n",
       "    <tr>\n",
       "      <th>3</th>\n",
       "      <td>5</td>\n",
       "    </tr>\n",
       "    <tr>\n",
       "      <th>4</th>\n",
       "      <td>-5</td>\n",
       "    </tr>\n",
       "    <tr>\n",
       "      <th>5</th>\n",
       "      <td>-5</td>\n",
       "    </tr>\n",
       "    <tr>\n",
       "      <th>6</th>\n",
       "      <td>-5</td>\n",
       "    </tr>\n",
       "    <tr>\n",
       "      <th>7</th>\n",
       "      <td>0</td>\n",
       "    </tr>\n",
       "    <tr>\n",
       "      <th>8</th>\n",
       "      <td>0</td>\n",
       "    </tr>\n",
       "    <tr>\n",
       "      <th>9</th>\n",
       "      <td>0</td>\n",
       "    </tr>\n",
       "    <tr>\n",
       "      <th>10</th>\n",
       "      <td>5</td>\n",
       "    </tr>\n",
       "    <tr>\n",
       "      <th>11</th>\n",
       "      <td>5</td>\n",
       "    </tr>\n",
       "    <tr>\n",
       "      <th>12</th>\n",
       "      <td>5</td>\n",
       "    </tr>\n",
       "    <tr>\n",
       "      <th>13</th>\n",
       "      <td>-5</td>\n",
       "    </tr>\n",
       "    <tr>\n",
       "      <th>14</th>\n",
       "      <td>-5</td>\n",
       "    </tr>\n",
       "    <tr>\n",
       "      <th>15</th>\n",
       "      <td>-5</td>\n",
       "    </tr>\n",
       "    <tr>\n",
       "      <th>16</th>\n",
       "      <td>0</td>\n",
       "    </tr>\n",
       "    <tr>\n",
       "      <th>17</th>\n",
       "      <td>0</td>\n",
       "    </tr>\n",
       "    <tr>\n",
       "      <th>18</th>\n",
       "      <td>0</td>\n",
       "    </tr>\n",
       "    <tr>\n",
       "      <th>19</th>\n",
       "      <td>0</td>\n",
       "    </tr>\n",
       "    <tr>\n",
       "      <th>20</th>\n",
       "      <td>5</td>\n",
       "    </tr>\n",
       "    <tr>\n",
       "      <th>21</th>\n",
       "      <td>5</td>\n",
       "    </tr>\n",
       "    <tr>\n",
       "      <th>22</th>\n",
       "      <td>5</td>\n",
       "    </tr>\n",
       "    <tr>\n",
       "      <th>23</th>\n",
       "      <td>-5</td>\n",
       "    </tr>\n",
       "    <tr>\n",
       "      <th>24</th>\n",
       "      <td>-5</td>\n",
       "    </tr>\n",
       "    <tr>\n",
       "      <th>25</th>\n",
       "      <td>-5</td>\n",
       "    </tr>\n",
       "    <tr>\n",
       "      <th>26</th>\n",
       "      <td>0</td>\n",
       "    </tr>\n",
       "    <tr>\n",
       "      <th>27</th>\n",
       "      <td>0</td>\n",
       "    </tr>\n",
       "    <tr>\n",
       "      <th>28</th>\n",
       "      <td>0</td>\n",
       "    </tr>\n",
       "    <tr>\n",
       "      <th>29</th>\n",
       "      <td>0</td>\n",
       "    </tr>\n",
       "    <tr>\n",
       "      <th>30</th>\n",
       "      <td>0</td>\n",
       "    </tr>\n",
       "    <tr>\n",
       "      <th>31</th>\n",
       "      <td>0</td>\n",
       "    </tr>\n",
       "    <tr>\n",
       "      <th>32</th>\n",
       "      <td>0</td>\n",
       "    </tr>\n",
       "  </tbody>\n",
       "</table>\n",
       "</div>"
      ],
      "text/plain": [
       "    0\n",
       "0   0\n",
       "1   5\n",
       "2   5\n",
       "3   5\n",
       "4  -5\n",
       "5  -5\n",
       "6  -5\n",
       "7   0\n",
       "8   0\n",
       "9   0\n",
       "10  5\n",
       "11  5\n",
       "12  5\n",
       "13 -5\n",
       "14 -5\n",
       "15 -5\n",
       "16  0\n",
       "17  0\n",
       "18  0\n",
       "19  0\n",
       "20  5\n",
       "21  5\n",
       "22  5\n",
       "23 -5\n",
       "24 -5\n",
       "25 -5\n",
       "26  0\n",
       "27  0\n",
       "28  0\n",
       "29  0\n",
       "30  0\n",
       "31  0\n",
       "32  0"
      ]
     },
     "execution_count": 396,
     "metadata": {},
     "output_type": "execute_result"
    }
   ],
   "source": [
    "demand_adj"
   ]
  },
  {
   "cell_type": "code",
   "execution_count": null,
   "metadata": {
    "collapsed": true
   },
   "outputs": [],
   "source": []
  }
 ],
 "metadata": {
  "kernelspec": {
   "display_name": "Python 3",
   "language": "python",
   "name": "python3"
  },
  "language_info": {
   "codemirror_mode": {
    "name": "ipython",
    "version": 3
   },
   "file_extension": ".py",
   "mimetype": "text/x-python",
   "name": "python",
   "nbconvert_exporter": "python",
   "pygments_lexer": "ipython3",
   "version": "3.6.1"
  }
 },
 "nbformat": 4,
 "nbformat_minor": 2
}
