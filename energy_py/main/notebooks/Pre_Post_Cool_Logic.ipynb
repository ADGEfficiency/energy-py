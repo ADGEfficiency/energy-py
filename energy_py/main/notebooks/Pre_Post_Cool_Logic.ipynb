{
 "cells": [
  {
   "cell_type": "code",
   "execution_count": null,
   "metadata": {
    "collapsed": false
   },
   "outputs": [],
   "source": [
    "\"\"\"\n",
    "This notebook works through the logic for pre & post cooling\n",
    "\"\"\""
   ]
  },
  {
   "cell_type": "code",
   "execution_count": 147,
   "metadata": {
    "collapsed": true
   },
   "outputs": [],
   "source": [
    "import collections"
   ]
  },
  {
   "cell_type": "code",
   "execution_count": 183,
   "metadata": {
    "collapsed": false
   },
   "outputs": [],
   "source": [
    "class env(object):\n",
    "    def __init__(self):\n",
    "        self.memory = 3\n",
    "        self.capacity = 5\n",
    "        self.reset()\n",
    "\n",
    "    def reset(self):    \n",
    "        self.precool_hist = collections.deque([0], maxlen=self.memory)\n",
    "        self.postcool_hist = collections.deque([0], maxlen=self.memory)\n",
    "        print('reset')\n",
    "        return None\n",
    "\n",
    "    def update_hists(self, precool, postcool):\n",
    "            self.precool_hist.append(precool)\n",
    "            self.postcool_hist.append(postcool)\n",
    "            return None    \n",
    "        \n",
    "    def step(self,action):\n",
    "        \n",
    "        \"\"\"\n",
    "        this function steps through the environment\n",
    "        \n",
    "        TODO - a way to delay the start of the next precooling after the postcooling ended\n",
    "        \"\"\"\n",
    "    \n",
    "        precool_hist = sum(self.precool_hist)\n",
    "        postcool_hist = sum(self.postcool_hist)\n",
    "\n",
    "        #  should we start a precooling event\n",
    "        if precool_hist == 0 and action == 1 and self.postcool_hist[-1] == 0:\n",
    "            print('starting pre-cooling event')\n",
    "            self.update_hists(1, 0)\n",
    "\n",
    "        #  are we already in a precooling event\n",
    "        elif precool_hist > 0 and precool_hist < self.memory and self.precool_hist[-1] == 1:\n",
    "            print('continuing pre-cooling event')\n",
    "            self.update_hists(1, 0)\n",
    "\n",
    "        #  are we at the end of a precooling event\n",
    "        #  aka should we start a postcooling event\n",
    "        elif precool_hist == self.memory:\n",
    "            print('ending pre-cooling event')\n",
    "            print('starting post-cooling event')\n",
    "            self.update_hists(0, 1)\n",
    "\n",
    "        #  are we already in a postcooling event   \n",
    "        elif postcool_hist > 0 and postcool_hist < self.memory and self.postcool_hist[-1] == 1:    \n",
    "            print('continuing post-cooling event')\n",
    "            self.update_hists(0, 1)\n",
    "\n",
    "        #  are we ending a postcooling event\n",
    "        elif postcool_hist == self.memory and precool_hist == 0:\n",
    "            print('ending post-cooling event')\n",
    "            self.update_hists(0, 0)\n",
    "\n",
    "        else:\n",
    "            print('nothing is happening')\n",
    "            self.update_hists(0, 0)\n",
    "            \n",
    "        print('pre-cooling history {}'.format(self.precool_hist))\n",
    "        print('post-cooling history {}'.format(self.postcool_hist)) \n",
    "        \n",
    "        #  now calculating the effect on demand\n",
    "        demand_adjustment = 0\n",
    "        \n",
    "        if self.precool_hist[-1] == 1:\n",
    "            demand_adjustment = self.capacity\n",
    "            \n",
    "        if self.postcool_hist[-1] == 1:\n",
    "            demand_adjustment = -self.capacity    \n",
    "            \n",
    "        print('demand adjustment is {}'.format(demand_adjustment))    \n",
    "            \n",
    "        return None    "
   ]
  },
  {
   "cell_type": "code",
   "execution_count": 184,
   "metadata": {
    "collapsed": false
   },
   "outputs": [
    {
     "name": "stdout",
     "output_type": "stream",
     "text": [
      "reset\n"
     ]
    }
   ],
   "source": [
    "e = env()"
   ]
  },
  {
   "cell_type": "code",
   "execution_count": 185,
   "metadata": {
    "collapsed": false
   },
   "outputs": [
    {
     "name": "stdout",
     "output_type": "stream",
     "text": [
      "starting pre-cooling event\n",
      "pre-cooling history deque([0, 1], maxlen=3)\n",
      "post-cooling history deque([0, 0], maxlen=3)\n",
      "demand adjustment is 5\n"
     ]
    }
   ],
   "source": [
    "e.step(1)"
   ]
  },
  {
   "cell_type": "code",
   "execution_count": 186,
   "metadata": {
    "collapsed": false
   },
   "outputs": [
    {
     "name": "stdout",
     "output_type": "stream",
     "text": [
      "continuing pre-cooling event\n",
      "pre-cooling history deque([0, 1, 1], maxlen=3)\n",
      "post-cooling history deque([0, 0, 0], maxlen=3)\n",
      "demand adjustment is 5\n"
     ]
    }
   ],
   "source": [
    "e.step(1)"
   ]
  },
  {
   "cell_type": "code",
   "execution_count": 187,
   "metadata": {
    "collapsed": false
   },
   "outputs": [
    {
     "name": "stdout",
     "output_type": "stream",
     "text": [
      "continuing pre-cooling event\n",
      "pre-cooling history deque([1, 1, 1], maxlen=3)\n",
      "post-cooling history deque([0, 0, 0], maxlen=3)\n",
      "demand adjustment is 5\n"
     ]
    }
   ],
   "source": [
    "e.step(1)"
   ]
  },
  {
   "cell_type": "code",
   "execution_count": 188,
   "metadata": {
    "collapsed": false
   },
   "outputs": [
    {
     "name": "stdout",
     "output_type": "stream",
     "text": [
      "ending pre-cooling event\n",
      "starting post-cooling event\n",
      "pre-cooling history deque([1, 1, 0], maxlen=3)\n",
      "post-cooling history deque([0, 0, 1], maxlen=3)\n",
      "demand adjustment is -5\n"
     ]
    }
   ],
   "source": [
    "e.step(1)"
   ]
  },
  {
   "cell_type": "code",
   "execution_count": 189,
   "metadata": {
    "collapsed": false
   },
   "outputs": [
    {
     "name": "stdout",
     "output_type": "stream",
     "text": [
      "continuing post-cooling event\n",
      "pre-cooling history deque([1, 0, 0], maxlen=3)\n",
      "post-cooling history deque([0, 1, 1], maxlen=3)\n",
      "demand adjustment is -5\n"
     ]
    }
   ],
   "source": [
    "e.step(1)"
   ]
  },
  {
   "cell_type": "code",
   "execution_count": 190,
   "metadata": {
    "collapsed": false
   },
   "outputs": [
    {
     "name": "stdout",
     "output_type": "stream",
     "text": [
      "continuing post-cooling event\n",
      "pre-cooling history deque([0, 0, 0], maxlen=3)\n",
      "post-cooling history deque([1, 1, 1], maxlen=3)\n",
      "demand adjustment is -5\n"
     ]
    }
   ],
   "source": [
    "e.step(1)"
   ]
  },
  {
   "cell_type": "code",
   "execution_count": 191,
   "metadata": {
    "collapsed": false
   },
   "outputs": [
    {
     "name": "stdout",
     "output_type": "stream",
     "text": [
      "ending post-cooling event\n",
      "pre-cooling history deque([0, 0, 0], maxlen=3)\n",
      "post-cooling history deque([1, 1, 0], maxlen=3)\n",
      "demand adjustment is 0\n"
     ]
    }
   ],
   "source": [
    "e.step(1)"
   ]
  },
  {
   "cell_type": "code",
   "execution_count": 192,
   "metadata": {
    "collapsed": false
   },
   "outputs": [
    {
     "name": "stdout",
     "output_type": "stream",
     "text": [
      "starting pre-cooling event\n",
      "pre-cooling history deque([0, 0, 1], maxlen=3)\n",
      "post-cooling history deque([1, 0, 0], maxlen=3)\n",
      "demand adjustment is 5\n"
     ]
    }
   ],
   "source": [
    "e.step(1)"
   ]
  },
  {
   "cell_type": "code",
   "execution_count": 193,
   "metadata": {
    "collapsed": false
   },
   "outputs": [
    {
     "name": "stdout",
     "output_type": "stream",
     "text": [
      "continuing pre-cooling event\n",
      "pre-cooling history deque([0, 1, 1], maxlen=3)\n",
      "post-cooling history deque([0, 0, 0], maxlen=3)\n",
      "demand adjustment is 5\n"
     ]
    }
   ],
   "source": [
    "e.step(1)"
   ]
  },
  {
   "cell_type": "code",
   "execution_count": 194,
   "metadata": {
    "collapsed": false
   },
   "outputs": [
    {
     "name": "stdout",
     "output_type": "stream",
     "text": [
      "continuing pre-cooling event\n",
      "pre-cooling history deque([1, 1, 1], maxlen=3)\n",
      "post-cooling history deque([0, 0, 0], maxlen=3)\n",
      "demand adjustment is 5\n"
     ]
    }
   ],
   "source": [
    "e.step(1)"
   ]
  },
  {
   "cell_type": "code",
   "execution_count": 195,
   "metadata": {
    "collapsed": false
   },
   "outputs": [
    {
     "name": "stdout",
     "output_type": "stream",
     "text": [
      "ending pre-cooling event\n",
      "starting post-cooling event\n",
      "pre-cooling history deque([1, 1, 0], maxlen=3)\n",
      "post-cooling history deque([0, 0, 1], maxlen=3)\n",
      "demand adjustment is -5\n"
     ]
    }
   ],
   "source": [
    "e.step(1)"
   ]
  },
  {
   "cell_type": "code",
   "execution_count": 196,
   "metadata": {
    "collapsed": false
   },
   "outputs": [
    {
     "name": "stdout",
     "output_type": "stream",
     "text": [
      "continuing post-cooling event\n",
      "pre-cooling history deque([1, 0, 0], maxlen=3)\n",
      "post-cooling history deque([0, 1, 1], maxlen=3)\n",
      "demand adjustment is -5\n"
     ]
    }
   ],
   "source": [
    "e.step(1)"
   ]
  },
  {
   "cell_type": "code",
   "execution_count": 197,
   "metadata": {
    "collapsed": false
   },
   "outputs": [
    {
     "name": "stdout",
     "output_type": "stream",
     "text": [
      "continuing post-cooling event\n",
      "pre-cooling history deque([0, 0, 0], maxlen=3)\n",
      "post-cooling history deque([1, 1, 1], maxlen=3)\n",
      "demand adjustment is -5\n"
     ]
    }
   ],
   "source": [
    "e.step(1)"
   ]
  },
  {
   "cell_type": "code",
   "execution_count": 198,
   "metadata": {
    "collapsed": false
   },
   "outputs": [
    {
     "name": "stdout",
     "output_type": "stream",
     "text": [
      "ending post-cooling event\n",
      "pre-cooling history deque([0, 0, 0], maxlen=3)\n",
      "post-cooling history deque([1, 1, 0], maxlen=3)\n",
      "demand adjustment is 0\n"
     ]
    }
   ],
   "source": [
    "e.step(1)"
   ]
  },
  {
   "cell_type": "code",
   "execution_count": 199,
   "metadata": {
    "collapsed": false
   },
   "outputs": [
    {
     "name": "stdout",
     "output_type": "stream",
     "text": [
      "starting pre-cooling event\n",
      "pre-cooling history deque([0, 0, 1], maxlen=3)\n",
      "post-cooling history deque([1, 0, 0], maxlen=3)\n",
      "demand adjustment is 5\n"
     ]
    }
   ],
   "source": [
    "e.step(1)"
   ]
  },
  {
   "cell_type": "code",
   "execution_count": 200,
   "metadata": {
    "collapsed": false
   },
   "outputs": [
    {
     "name": "stdout",
     "output_type": "stream",
     "text": [
      "continuing pre-cooling event\n",
      "pre-cooling history deque([0, 1, 1], maxlen=3)\n",
      "post-cooling history deque([0, 0, 0], maxlen=3)\n",
      "demand adjustment is 5\n"
     ]
    }
   ],
   "source": [
    "e.step(1)"
   ]
  },
  {
   "cell_type": "code",
   "execution_count": 201,
   "metadata": {
    "collapsed": false
   },
   "outputs": [
    {
     "name": "stdout",
     "output_type": "stream",
     "text": [
      "continuing pre-cooling event\n",
      "pre-cooling history deque([1, 1, 1], maxlen=3)\n",
      "post-cooling history deque([0, 0, 0], maxlen=3)\n",
      "demand adjustment is 5\n"
     ]
    }
   ],
   "source": [
    "e.step(0)"
   ]
  },
  {
   "cell_type": "code",
   "execution_count": 202,
   "metadata": {
    "collapsed": false
   },
   "outputs": [
    {
     "name": "stdout",
     "output_type": "stream",
     "text": [
      "ending pre-cooling event\n",
      "starting post-cooling event\n",
      "pre-cooling history deque([1, 1, 0], maxlen=3)\n",
      "post-cooling history deque([0, 0, 1], maxlen=3)\n",
      "demand adjustment is -5\n"
     ]
    }
   ],
   "source": [
    "e.step(0)"
   ]
  },
  {
   "cell_type": "code",
   "execution_count": 168,
   "metadata": {
    "collapsed": false
   },
   "outputs": [
    {
     "name": "stdout",
     "output_type": "stream",
     "text": [
      "starting pre-cooling event\n",
      "pre-cooling history deque([0, 0, 1], maxlen=3)\n",
      "post-cooling history deque([0, 0, 0], maxlen=3)\n",
      "demand adjustment is 5\n"
     ]
    }
   ],
   "source": [
    "e.step(1)"
   ]
  },
  {
   "cell_type": "code",
   "execution_count": 169,
   "metadata": {
    "collapsed": false
   },
   "outputs": [
    {
     "name": "stdout",
     "output_type": "stream",
     "text": [
      "continuing pre-cooling event\n",
      "pre-cooling history deque([0, 1, 1], maxlen=3)\n",
      "post-cooling history deque([0, 0, 0], maxlen=3)\n",
      "demand adjustment is 5\n"
     ]
    }
   ],
   "source": [
    "e.step(0)"
   ]
  },
  {
   "cell_type": "code",
   "execution_count": null,
   "metadata": {
    "collapsed": true
   },
   "outputs": [],
   "source": []
  }
 ],
 "metadata": {
  "kernelspec": {
   "display_name": "Python 3",
   "language": "python",
   "name": "python3"
  },
  "language_info": {
   "codemirror_mode": {
    "name": "ipython",
    "version": 3
   },
   "file_extension": ".py",
   "mimetype": "text/x-python",
   "name": "python",
   "nbconvert_exporter": "python",
   "pygments_lexer": "ipython3",
   "version": "3.6.0"
  }
 },
 "nbformat": 4,
 "nbformat_minor": 2
}
