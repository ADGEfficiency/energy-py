{
 "cells": [
  {
   "cell_type": "markdown",
   "metadata": {},
   "source": [
    "Purpose of this notebook is to run through the logic of one step through the battery environment\n",
    "\n",
    "Tests to implement\n",
    "-  battery empty, charge \n",
    "-  battery full, charge \n",
    "\n",
    "-  battery just about empty, charge\n",
    "-  battery just about full, charge"
   ]
  },
  {
   "cell_type": "code",
   "execution_count": 1,
   "metadata": {
    "collapsed": true
   },
   "outputs": [],
   "source": [
    "import numpy as np\n",
    "\n",
    "from energy_py.main.scripts.spaces import Continuous_Space, Discrete_Space"
   ]
  },
  {
   "cell_type": "code",
   "execution_count": 2,
   "metadata": {},
   "outputs": [],
   "source": [
    "#  create a function that mimics the step\n",
    "def step(old_charge, action_space, eletricity_price, action):\n",
    "    \n",
    "    round_trip_eff = 0.8\n",
    "    #  check the action is of the correct shape\n",
    "    assert action.shape == (1, 2)\n",
    "    \n",
    "    #  our action is sent to the environment as (1, num_actions)\n",
    "    #  we pull out the action here to make the code below cleaner\n",
    "    action = action[0]\n",
    "    \n",
    "    #  checking the actions are valid\n",
    "    \n",
    "    for i, act in enumerate(action):\n",
    "        assert act >= action_space[i].low\n",
    "        assert act <= action_space[i].high\n",
    "        \n",
    "    #  calculate the net effect of the two actions\n",
    "    #  also convert from MW to MWh/5 min by /12\n",
    "    net_charge = (action[0] - action[1]) / 12\n",
    "    net_charge = net_charge\n",
    "    \n",
    "    #  we first check to make sure this charge is within our capacity limits\n",
    "    unbounded_new_charge = old_charge + net_charge\n",
    "    bounded_new_charge = max(min(unbounded_new_charge, capacity), 0)\n",
    "\n",
    "    #  we can now calculate the gross rate of charge or discharge\n",
    "    gross_rate = (bounded_new_charge - old_charge) * 12\n",
    "    \n",
    "    #  now we account for losses\n",
    "    if gross_rate > 0:\n",
    "        #  we lose electricity when we charge\n",
    "        losses = gross_rate * (1 - round_trip_eff) / 12\n",
    "    else:\n",
    "        #  we don't lose anything when we discharge\n",
    "        losses = 0\n",
    "\n",
    "    #  we can now calculate the new charge of the battery after losses\n",
    "    new_charge = old_charge + gross_rate / 12 - losses\n",
    "    #  this allows us to calculate how much electricity we actually store\n",
    "    net_stored = new_charge - old_charge\n",
    "    #  and to calculate our actual rate of charge or discharge\n",
    "    net_rate = net_stored * 12    \n",
    "    \n",
    "    #  set a tolerance for the energy balances\n",
    "    tolerance = 1e-10\n",
    "\n",
    "    #  energy balance\n",
    "    assert (new_charge) - (old_charge + net_stored) < tolerance\n",
    "    #  check that our net_rate and net_stored are consistent\n",
    "    assert (net_rate) - (12 * net_stored) < tolerance\n",
    "    \n",
    "    #  now we can calculate the reward\n",
    "    #  the reward is simply the cost to charge\n",
    "    #  or the benefit from discharging\n",
    "    #  note that we use the gross rate - this is what the site incomer will see\n",
    "    reward = -(gross_rate / 12) * electricity_price\n",
    "\n",
    "    if verbose > 0:\n",
    "        print('action was {}'.format(action))\n",
    "        print('old charge was {} MWh'.format(old_charge))\n",
    "        print('new charge is {} MWh'.format(new_charge))\n",
    "        print('gross rate is {} MW'.format(gross_rate))\n",
    "        print('losses were {} MWh'.format(losses))\n",
    "        print('net rate is {} MW'.format(net_rate))        \n",
    "        print('reward is {} $/5min'.format(reward))\n",
    "    \n",
    "    reward = 0\n",
    "    return reward, new_charge"
   ]
  },
  {
   "cell_type": "code",
   "execution_count": 3,
   "metadata": {},
   "outputs": [],
   "source": [
    "#  setup stuff that is an attribute of the Battery_Env class\n",
    "electricity_price = float(30)\n",
    "\n",
    "#  the battery rating & capacity\n",
    "power_rating = 2.0\n",
    "capacity = 3.0\n",
    "old_charge = 0.1\n",
    "verbose = 1\n",
    "\n",
    "#  we also need an action space\n",
    "#  this is set in the Battery_Env class\n",
    "action_space = [Continuous_Space(low  = 0,\n",
    "                                 high = power_rating),\n",
    "                Continuous_Space(low  = 0,\n",
    "                                 high = power_rating)]\n"
   ]
  },
  {
   "cell_type": "code",
   "execution_count": 4,
   "metadata": {},
   "outputs": [
    {
     "data": {
      "text/plain": [
       "array([[0, 2]])"
      ]
     },
     "execution_count": 4,
     "metadata": {},
     "output_type": "execute_result"
    }
   ],
   "source": [
    "#  we create an action - note that this is a single action of dimension 2\n",
    "action = np.array([0,2]).reshape(1,-1)\n",
    "action"
   ]
  },
  {
   "cell_type": "code",
   "execution_count": 5,
   "metadata": {},
   "outputs": [
    {
     "name": "stdout",
     "output_type": "stream",
     "text": [
      "action was [0 2]\n",
      "old charge was 0.1 MWh\n",
      "new charge is -1.3877787807814457e-17 MWh\n",
      "gross rate is -1.2000000000000002 MW\n",
      "losses were 0 MWh\n",
      "net rate is -1.2000000000000002 MW\n",
      "reward is 3.0000000000000004 $/5min\n"
     ]
    }
   ],
   "source": [
    "#  simulate one step through the environment\n",
    "rew, new_charge = step(old_charge, action_space, electricity_price, action)"
   ]
  },
  {
   "cell_type": "code",
   "execution_count": null,
   "metadata": {
    "collapsed": true
   },
   "outputs": [],
   "source": []
  }
 ],
 "metadata": {
  "kernelspec": {
   "display_name": "Python 3",
   "language": "python",
   "name": "python3"
  },
  "language_info": {
   "codemirror_mode": {
    "name": "ipython",
    "version": 3
   },
   "file_extension": ".py",
   "mimetype": "text/x-python",
   "name": "python",
   "nbconvert_exporter": "python",
   "pygments_lexer": "ipython3",
   "version": "3.6.2"
  }
 },
 "nbformat": 4,
 "nbformat_minor": 2
}
