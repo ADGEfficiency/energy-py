{
 "cells": [
  {
   "cell_type": "markdown",
   "metadata": {},
   "source": [
    "# Battery environment demo"
   ]
  },
  {
   "cell_type": "markdown",
   "metadata": {},
   "source": [
    "Purpose of this notebook is to demonstrate the 'battery' environment."
   ]
  },
  {
   "cell_type": "code",
   "execution_count": 1,
   "metadata": {
    "collapsed": true
   },
   "outputs": [],
   "source": [
    "from energy_py.envs.battery.env_battery import Battery_Env"
   ]
  },
  {
   "cell_type": "code",
   "execution_count": 2,
   "metadata": {},
   "outputs": [
    {
     "name": "stdout",
     "output_type": "stream",
     "text": [
      "Reset environment.\n"
     ]
    }
   ],
   "source": [
    "env = Battery_Env(lag=0,\n",
    "                  episode_length=48,\n",
    "                  power_rating=2,\n",
    "                  capacity=10)"
   ]
  },
  {
   "cell_type": "markdown",
   "metadata": {
    "collapsed": true
   },
   "source": [
    "We now step through the environment by simulating actions"
   ]
  },
  {
   "cell_type": "code",
   "execution_count": 12,
   "metadata": {},
   "outputs": [
    {
     "name": "stdout",
     "output_type": "stream",
     "text": [
      "Reset environment.\n",
      "step is 0\n",
      "[array([ 20. ,   2.3,   0. ])]\n",
      "step is 1\n",
      "[array([ 20. ,   2.3,   0. ]), array([ 20.        ,   2.18802954,   0.8       ])]\n",
      "step is 2\n",
      "[array([ 20. ,   2.3,   0. ]), array([ 20.        ,   2.18802954,   0.8       ]), array([ 20.       ,   1.3432324,   1.6      ])]\n",
      "step is 3\n",
      "[array([ 20. ,   2.3,   0. ]), array([ 20.        ,   2.18802954,   0.8       ]), array([ 20.       ,   1.3432324,   1.6      ]), array([ 20.        ,   2.87777403,   2.4       ])]\n",
      "step is 4\n",
      "[array([ 20. ,   2.3,   0. ]), array([ 20.        ,   2.18802954,   0.8       ]), array([ 20.       ,   1.3432324,   1.6      ]), array([ 20.        ,   2.87777403,   2.4       ]), array([ 20.        ,   2.64172202,   3.2       ])]\n",
      "step is 5\n",
      "[array([ 20. ,   2.3,   0. ]), array([ 20.        ,   2.18802954,   0.8       ]), array([ 20.       ,   1.3432324,   1.6      ]), array([ 20.        ,   2.87777403,   2.4       ]), array([ 20.        ,   2.64172202,   3.2       ]), array([ 20.        ,   2.40841672,   4.        ])]\n",
      "step is 6\n",
      "[array([ 20. ,   2.3,   0. ]), array([ 20.        ,   2.18802954,   0.8       ]), array([ 20.       ,   1.3432324,   1.6      ]), array([ 20.        ,   2.87777403,   2.4       ]), array([ 20.        ,   2.64172202,   3.2       ]), array([ 20.        ,   2.40841672,   4.        ]), array([ 20.        ,   1.75049857,   4.8       ])]\n",
      "step is 7\n",
      "[array([ 20. ,   2.3,   0. ]), array([ 20.        ,   2.18802954,   0.8       ]), array([ 20.       ,   1.3432324,   1.6      ]), array([ 20.        ,   2.87777403,   2.4       ]), array([ 20.        ,   2.64172202,   3.2       ]), array([ 20.        ,   2.40841672,   4.        ]), array([ 20.        ,   1.75049857,   4.8       ]), array([ 20.        ,   1.88329273,   5.6       ])]\n",
      "step is 8\n",
      "[array([ 20. ,   2.3,   0. ]), array([ 20.        ,   2.18802954,   0.8       ]), array([ 20.       ,   1.3432324,   1.6      ]), array([ 20.        ,   2.87777403,   2.4       ]), array([ 20.        ,   2.64172202,   3.2       ]), array([ 20.        ,   2.40841672,   4.        ]), array([ 20.        ,   1.75049857,   4.8       ]), array([ 20.        ,   1.88329273,   5.6       ]), array([ 20.        ,   1.08046544,   6.4       ])]\n",
      "step is 9\n",
      "[array([ 20. ,   2.3,   0. ]), array([ 20.        ,   2.18802954,   0.8       ]), array([ 20.       ,   1.3432324,   1.6      ]), array([ 20.        ,   2.87777403,   2.4       ]), array([ 20.        ,   2.64172202,   3.2       ]), array([ 20.        ,   2.40841672,   4.        ]), array([ 20.        ,   1.75049857,   4.8       ]), array([ 20.        ,   1.88329273,   5.6       ]), array([ 20.        ,   1.08046544,   6.4       ]), array([ 20.        ,   2.59997153,   7.2       ])]\n",
      "step is 10\n"
     ]
    },
    {
     "ename": "AssertionError",
     "evalue": "",
     "output_type": "error",
     "traceback": [
      "\u001b[0;31m---------------------------------------------------------------------------\u001b[0m",
      "\u001b[0;31mAssertionError\u001b[0m                            Traceback (most recent call last)",
      "\u001b[0;32m<ipython-input-12-191f0527bcb8>\u001b[0m in \u001b[0;36m<module>\u001b[0;34m()\u001b[0m\n\u001b[1;32m      4\u001b[0m \u001b[0;32mfor\u001b[0m \u001b[0mi\u001b[0m \u001b[0;32min\u001b[0m \u001b[0mrange\u001b[0m\u001b[0;34m(\u001b[0m\u001b[0;36m0\u001b[0m\u001b[0;34m,\u001b[0m \u001b[0;36m20\u001b[0m\u001b[0;34m)\u001b[0m\u001b[0;34m:\u001b[0m\u001b[0;34m\u001b[0m\u001b[0m\n\u001b[1;32m      5\u001b[0m     \u001b[0maction\u001b[0m \u001b[0;34m=\u001b[0m \u001b[0;34m[\u001b[0m\u001b[0;36m2.5\u001b[0m\u001b[0;34m]\u001b[0m\u001b[0;34m\u001b[0m\u001b[0m\n\u001b[0;32m----> 6\u001b[0;31m     \u001b[0menv\u001b[0m\u001b[0;34m.\u001b[0m\u001b[0mstep\u001b[0m\u001b[0;34m(\u001b[0m\u001b[0maction\u001b[0m\u001b[0;34m)\u001b[0m\u001b[0;34m\u001b[0m\u001b[0m\n\u001b[0m\u001b[1;32m      7\u001b[0m     \u001b[0mprint\u001b[0m\u001b[0;34m(\u001b[0m\u001b[0menv\u001b[0m\u001b[0;34m.\u001b[0m\u001b[0minfo\u001b[0m\u001b[0;34m[\u001b[0m\u001b[0;34m'state'\u001b[0m\u001b[0;34m]\u001b[0m\u001b[0;34m)\u001b[0m\u001b[0;34m\u001b[0m\u001b[0m\n\u001b[1;32m      8\u001b[0m \u001b[0;34m\u001b[0m\u001b[0m\n",
      "\u001b[0;32m~/anaconda3/envs/energy_py/lib/python3.5/site-packages/energy_py-2.0-py3.5.egg/energy_py/envs/env_core.py\u001b[0m in \u001b[0;36mstep\u001b[0;34m(self, action)\u001b[0m\n\u001b[1;32m    104\u001b[0m             \u001b[0minfo\u001b[0m \u001b[0;34m(\u001b[0m\u001b[0mdict\u001b[0m\u001b[0;34m)\u001b[0m\u001b[0;34m:\u001b[0m \u001b[0mcontains\u001b[0m \u001b[0mauxiliary\u001b[0m \u001b[0mdiagnostic\u001b[0m \u001b[0minformation\u001b[0m \u001b[0;34m(\u001b[0m\u001b[0mhelpful\u001b[0m \u001b[0;32mfor\u001b[0m \u001b[0mdebugging\u001b[0m\u001b[0;34m,\u001b[0m \u001b[0;32mand\u001b[0m \u001b[0msometimes\u001b[0m \u001b[0mlearning\u001b[0m\u001b[0;34m)\u001b[0m\u001b[0;34m\u001b[0m\u001b[0m\n\u001b[1;32m    105\u001b[0m         \"\"\"\n\u001b[0;32m--> 106\u001b[0;31m         \u001b[0;32mreturn\u001b[0m \u001b[0mself\u001b[0m\u001b[0;34m.\u001b[0m\u001b[0m_step\u001b[0m\u001b[0;34m(\u001b[0m\u001b[0maction\u001b[0m\u001b[0;34m)\u001b[0m\u001b[0;34m\u001b[0m\u001b[0m\n\u001b[0m\u001b[1;32m    107\u001b[0m \u001b[0;34m\u001b[0m\u001b[0m\n\u001b[1;32m    108\u001b[0m     \u001b[0;32mdef\u001b[0m \u001b[0mreset\u001b[0m\u001b[0;34m(\u001b[0m\u001b[0mself\u001b[0m\u001b[0;34m)\u001b[0m\u001b[0;34m:\u001b[0m\u001b[0;34m\u001b[0m\u001b[0m\n",
      "\u001b[0;32m~/anaconda3/envs/energy_py/lib/python3.5/site-packages/energy_py-2.0-py3.5.egg/energy_py/envs/battery/env_battery.py\u001b[0m in \u001b[0;36m_step\u001b[0;34m(self, action)\u001b[0m\n\u001b[1;32m    154\u001b[0m         \u001b[0;32massert\u001b[0m \u001b[0mnew_charge\u001b[0m \u001b[0;34m>=\u001b[0m \u001b[0;36m0\u001b[0m\u001b[0;34m\u001b[0m\u001b[0m\n\u001b[1;32m    155\u001b[0m \u001b[0;34m\u001b[0m\u001b[0m\n\u001b[0;32m--> 156\u001b[0;31m         \u001b[0;32massert\u001b[0m \u001b[0mnet_stored\u001b[0m \u001b[0;34m*\u001b[0m \u001b[0;36m2\u001b[0m \u001b[0;34m==\u001b[0m \u001b[0mrate\u001b[0m\u001b[0;34m\u001b[0m\u001b[0m\n\u001b[0m\u001b[1;32m    157\u001b[0m \u001b[0;34m\u001b[0m\u001b[0m\n\u001b[1;32m    158\u001b[0m         \u001b[0;31m#  finally we account for the round trip efficiency\u001b[0m\u001b[0;34m\u001b[0m\u001b[0;34m\u001b[0m\u001b[0m\n",
      "\u001b[0;31mAssertionError\u001b[0m: "
     ]
    }
   ],
   "source": [
    "action = 0\n",
    "\n",
    "env.reset()\n",
    "for i in range(0, 20):\n",
    "    action = [2.5]\n",
    "    env.step(action)\n",
    "    print(env.info['state'])\n",
    "    \n",
    "\n"
   ]
  },
  {
   "cell_type": "code",
   "execution_count": null,
   "metadata": {},
   "outputs": [],
   "source": [
    "env.observation\n"
   ]
  },
  {
   "cell_type": "code",
   "execution_count": null,
   "metadata": {
    "collapsed": true
   },
   "outputs": [],
   "source": []
  }
 ],
 "metadata": {
  "kernelspec": {
   "display_name": "Python [conda env:energy_py]",
   "language": "python",
   "name": "conda-env-energy_py-py"
  },
  "language_info": {
   "codemirror_mode": {
    "name": "ipython",
    "version": 3
   },
   "file_extension": ".py",
   "mimetype": "text/x-python",
   "name": "python",
   "nbconvert_exporter": "python",
   "pygments_lexer": "ipython3",
   "version": "3.5.2"
  }
 },
 "nbformat": 4,
 "nbformat_minor": 2
}
