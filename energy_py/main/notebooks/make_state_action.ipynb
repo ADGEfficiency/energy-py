{
 "cells": [
  {
   "cell_type": "code",
   "execution_count": 1,
   "metadata": {
    "collapsed": true
   },
   "outputs": [],
   "source": [
    "import itertools\n",
    "\n",
    "import numpy as np\n",
    "\n",
    "from energy_py.main.scripts.spaces import Continuous_Space"
   ]
  },
  {
   "cell_type": "code",
   "execution_count": 2,
   "metadata": {
    "collapsed": true
   },
   "outputs": [],
   "source": [
    "#  create our action space, which is a list of spaces\n",
    "action_space = [Continuous_Space(1, 10),\n",
    "               Continuous_Space(20,25)]"
   ]
  },
  {
   "cell_type": "code",
   "execution_count": 3,
   "metadata": {},
   "outputs": [
    {
     "data": {
      "text/plain": [
       "array([[ 9.,  9.,  9.]])"
      ]
     },
     "execution_count": 3,
     "metadata": {},
     "output_type": "execute_result"
    }
   ],
   "source": [
    "observation = np.array([9,9,9], dtype=float).reshape(1,3)\n",
    "observation"
   ]
  },
  {
   "cell_type": "code",
   "execution_count": 4,
   "metadata": {},
   "outputs": [
    {
     "data": {
      "text/plain": [
       "[5.712030456757384, 23.49548851576284]"
      ]
     },
     "execution_count": 4,
     "metadata": {},
     "output_type": "execute_result"
    }
   ],
   "source": [
    "#  our first case is to generate a single state_action \n",
    "#  this will be used when acting randomly in e-greedy methods\n",
    "random_action = [space.sample() for space in action_space]\n",
    "random_action"
   ]
  },
  {
   "cell_type": "code",
   "execution_count": 5,
   "metadata": {},
   "outputs": [
    {
     "data": {
      "text/plain": [
       "array([  9.        ,   9.        ,   9.        ,   5.71203046,  23.49548852])"
      ]
     },
     "execution_count": 5,
     "metadata": {},
     "output_type": "execute_result"
    }
   ],
   "source": [
    "state_action = np.append(observation, random_action)\n",
    "state_action"
   ]
  },
  {
   "cell_type": "code",
   "execution_count": 6,
   "metadata": {
    "collapsed": true
   },
   "outputs": [],
   "source": [
    "def make_state_action(action_space, observation):\n",
    "    random_action = [space.sample() for space in action_space]\n",
    "    state_action = np.append(observation, random_action)\n",
    "    return state_action"
   ]
  },
  {
   "cell_type": "code",
   "execution_count": 7,
   "metadata": {},
   "outputs": [
    {
     "data": {
      "text/plain": [
       "array([  9.        ,   9.        ,   9.        ,   6.07788035,  21.25399576])"
      ]
     },
     "execution_count": 7,
     "metadata": {},
     "output_type": "execute_result"
    }
   ],
   "source": [
    "sa = make_state_action(action_space, observation)\n",
    "sa"
   ]
  },
  {
   "cell_type": "code",
   "execution_count": 8,
   "metadata": {},
   "outputs": [
    {
     "data": {
      "text/plain": [
       "[[1.0, 2.0, 3.0, 4.0, 5.0, 6.0, 7.0, 8.0, 9.0, 10.0],\n",
       " [20.0, 21.0, 22.0, 23.0, 24.0, 25.0]]"
      ]
     },
     "execution_count": 8,
     "metadata": {},
     "output_type": "execute_result"
    }
   ],
   "source": [
    "#  our second case is acting greedily\n",
    "#  1 observation, n actions -> n state_actions\n",
    "discrete_action_spaces = [list(space.discretize()) for space in action_space]\n",
    "discrete_action_spaces"
   ]
  },
  {
   "cell_type": "code",
   "execution_count": 9,
   "metadata": {},
   "outputs": [
    {
     "data": {
      "text/plain": [
       "[(1.0, 20.0),\n",
       " (1.0, 21.0),\n",
       " (1.0, 22.0),\n",
       " (1.0, 23.0),\n",
       " (1.0, 24.0),\n",
       " (1.0, 25.0),\n",
       " (2.0, 20.0),\n",
       " (2.0, 21.0),\n",
       " (2.0, 22.0),\n",
       " (2.0, 23.0),\n",
       " (2.0, 24.0),\n",
       " (2.0, 25.0),\n",
       " (3.0, 20.0),\n",
       " (3.0, 21.0),\n",
       " (3.0, 22.0),\n",
       " (3.0, 23.0),\n",
       " (3.0, 24.0),\n",
       " (3.0, 25.0),\n",
       " (4.0, 20.0),\n",
       " (4.0, 21.0),\n",
       " (4.0, 22.0),\n",
       " (4.0, 23.0),\n",
       " (4.0, 24.0),\n",
       " (4.0, 25.0),\n",
       " (5.0, 20.0),\n",
       " (5.0, 21.0),\n",
       " (5.0, 22.0),\n",
       " (5.0, 23.0),\n",
       " (5.0, 24.0),\n",
       " (5.0, 25.0),\n",
       " (6.0, 20.0),\n",
       " (6.0, 21.0),\n",
       " (6.0, 22.0),\n",
       " (6.0, 23.0),\n",
       " (6.0, 24.0),\n",
       " (6.0, 25.0),\n",
       " (7.0, 20.0),\n",
       " (7.0, 21.0),\n",
       " (7.0, 22.0),\n",
       " (7.0, 23.0),\n",
       " (7.0, 24.0),\n",
       " (7.0, 25.0),\n",
       " (8.0, 20.0),\n",
       " (8.0, 21.0),\n",
       " (8.0, 22.0),\n",
       " (8.0, 23.0),\n",
       " (8.0, 24.0),\n",
       " (8.0, 25.0),\n",
       " (9.0, 20.0),\n",
       " (9.0, 21.0),\n",
       " (9.0, 22.0),\n",
       " (9.0, 23.0),\n",
       " (9.0, 24.0),\n",
       " (9.0, 25.0),\n",
       " (10.0, 20.0),\n",
       " (10.0, 21.0),\n",
       " (10.0, 22.0),\n",
       " (10.0, 23.0),\n",
       " (10.0, 24.0),\n",
       " (10.0, 25.0)]"
      ]
     },
     "execution_count": 9,
     "metadata": {},
     "output_type": "execute_result"
    }
   ],
   "source": [
    "all_combs = [element for element in itertools.product(*discrete_action_spaces)]\n",
    "all_combs"
   ]
  },
  {
   "cell_type": "code",
   "execution_count": 10,
   "metadata": {},
   "outputs": [
    {
     "data": {
      "text/plain": [
       "array([[  1.,  20.],\n",
       "       [  1.,  21.],\n",
       "       [  1.,  22.],\n",
       "       [  1.,  23.],\n",
       "       [  1.,  24.],\n",
       "       [  1.,  25.],\n",
       "       [  2.,  20.],\n",
       "       [  2.,  21.],\n",
       "       [  2.,  22.],\n",
       "       [  2.,  23.],\n",
       "       [  2.,  24.],\n",
       "       [  2.,  25.],\n",
       "       [  3.,  20.],\n",
       "       [  3.,  21.],\n",
       "       [  3.,  22.],\n",
       "       [  3.,  23.],\n",
       "       [  3.,  24.],\n",
       "       [  3.,  25.],\n",
       "       [  4.,  20.],\n",
       "       [  4.,  21.],\n",
       "       [  4.,  22.],\n",
       "       [  4.,  23.],\n",
       "       [  4.,  24.],\n",
       "       [  4.,  25.],\n",
       "       [  5.,  20.],\n",
       "       [  5.,  21.],\n",
       "       [  5.,  22.],\n",
       "       [  5.,  23.],\n",
       "       [  5.,  24.],\n",
       "       [  5.,  25.],\n",
       "       [  6.,  20.],\n",
       "       [  6.,  21.],\n",
       "       [  6.,  22.],\n",
       "       [  6.,  23.],\n",
       "       [  6.,  24.],\n",
       "       [  6.,  25.],\n",
       "       [  7.,  20.],\n",
       "       [  7.,  21.],\n",
       "       [  7.,  22.],\n",
       "       [  7.,  23.],\n",
       "       [  7.,  24.],\n",
       "       [  7.,  25.],\n",
       "       [  8.,  20.],\n",
       "       [  8.,  21.],\n",
       "       [  8.,  22.],\n",
       "       [  8.,  23.],\n",
       "       [  8.,  24.],\n",
       "       [  8.,  25.],\n",
       "       [  9.,  20.],\n",
       "       [  9.,  21.],\n",
       "       [  9.,  22.],\n",
       "       [  9.,  23.],\n",
       "       [  9.,  24.],\n",
       "       [  9.,  25.],\n",
       "       [ 10.,  20.],\n",
       "       [ 10.,  21.],\n",
       "       [ 10.,  22.],\n",
       "       [ 10.,  23.],\n",
       "       [ 10.,  24.],\n",
       "       [ 10.,  25.]])"
      ]
     },
     "execution_count": 10,
     "metadata": {},
     "output_type": "execute_result"
    }
   ],
   "source": [
    "all_combs = np.array(all_combs)\n",
    "all_combs"
   ]
  },
  {
   "cell_type": "code",
   "execution_count": 11,
   "metadata": {},
   "outputs": [
    {
     "data": {
      "text/plain": [
       "(60, 2)"
      ]
     },
     "execution_count": 11,
     "metadata": {},
     "output_type": "execute_result"
    }
   ],
   "source": [
    "all_combs.shape"
   ]
  },
  {
   "cell_type": "code",
   "execution_count": 12,
   "metadata": {},
   "outputs": [
    {
     "data": {
      "text/plain": [
       "(1, 3)"
      ]
     },
     "execution_count": 12,
     "metadata": {},
     "output_type": "execute_result"
    }
   ],
   "source": [
    "observation.shape"
   ]
  },
  {
   "cell_type": "code",
   "execution_count": 13,
   "metadata": {},
   "outputs": [
    {
     "data": {
      "text/plain": [
       "array([[ 9.,  9.,  9.],\n",
       "       [ 9.,  9.,  9.],\n",
       "       [ 9.,  9.,  9.],\n",
       "       [ 9.,  9.,  9.],\n",
       "       [ 9.,  9.,  9.],\n",
       "       [ 9.,  9.,  9.],\n",
       "       [ 9.,  9.,  9.],\n",
       "       [ 9.,  9.,  9.],\n",
       "       [ 9.,  9.,  9.],\n",
       "       [ 9.,  9.,  9.],\n",
       "       [ 9.,  9.,  9.],\n",
       "       [ 9.,  9.,  9.],\n",
       "       [ 9.,  9.,  9.],\n",
       "       [ 9.,  9.,  9.],\n",
       "       [ 9.,  9.,  9.],\n",
       "       [ 9.,  9.,  9.],\n",
       "       [ 9.,  9.,  9.],\n",
       "       [ 9.,  9.,  9.],\n",
       "       [ 9.,  9.,  9.],\n",
       "       [ 9.,  9.,  9.],\n",
       "       [ 9.,  9.,  9.],\n",
       "       [ 9.,  9.,  9.],\n",
       "       [ 9.,  9.,  9.],\n",
       "       [ 9.,  9.,  9.],\n",
       "       [ 9.,  9.,  9.],\n",
       "       [ 9.,  9.,  9.],\n",
       "       [ 9.,  9.,  9.],\n",
       "       [ 9.,  9.,  9.],\n",
       "       [ 9.,  9.,  9.],\n",
       "       [ 9.,  9.,  9.],\n",
       "       [ 9.,  9.,  9.],\n",
       "       [ 9.,  9.,  9.],\n",
       "       [ 9.,  9.,  9.],\n",
       "       [ 9.,  9.,  9.],\n",
       "       [ 9.,  9.,  9.],\n",
       "       [ 9.,  9.,  9.],\n",
       "       [ 9.,  9.,  9.],\n",
       "       [ 9.,  9.,  9.],\n",
       "       [ 9.,  9.,  9.],\n",
       "       [ 9.,  9.,  9.],\n",
       "       [ 9.,  9.,  9.],\n",
       "       [ 9.,  9.,  9.],\n",
       "       [ 9.,  9.,  9.],\n",
       "       [ 9.,  9.,  9.],\n",
       "       [ 9.,  9.,  9.],\n",
       "       [ 9.,  9.,  9.],\n",
       "       [ 9.,  9.,  9.],\n",
       "       [ 9.,  9.,  9.],\n",
       "       [ 9.,  9.,  9.],\n",
       "       [ 9.,  9.,  9.],\n",
       "       [ 9.,  9.,  9.],\n",
       "       [ 9.,  9.,  9.],\n",
       "       [ 9.,  9.,  9.],\n",
       "       [ 9.,  9.,  9.],\n",
       "       [ 9.,  9.,  9.],\n",
       "       [ 9.,  9.,  9.],\n",
       "       [ 9.,  9.,  9.],\n",
       "       [ 9.,  9.,  9.],\n",
       "       [ 9.,  9.,  9.],\n",
       "       [ 9.,  9.,  9.]])"
      ]
     },
     "execution_count": 13,
     "metadata": {},
     "output_type": "execute_result"
    }
   ],
   "source": [
    "observations = np.tile(observation, all_combs.shape[0]).reshape(all_combs.shape[0], -1)\n",
    "observations"
   ]
  },
  {
   "cell_type": "code",
   "execution_count": 14,
   "metadata": {},
   "outputs": [
    {
     "data": {
      "text/plain": [
       "(60, 3)"
      ]
     },
     "execution_count": 14,
     "metadata": {},
     "output_type": "execute_result"
    }
   ],
   "source": [
    "observations.shape"
   ]
  },
  {
   "cell_type": "code",
   "execution_count": 20,
   "metadata": {},
   "outputs": [
    {
     "data": {
      "text/plain": [
       "array([[  9.,   9.,   9.,   1.,  20.],\n",
       "       [  9.,   9.,   9.,   1.,  21.],\n",
       "       [  9.,   9.,   9.,   1.,  22.],\n",
       "       [  9.,   9.,   9.,   1.,  23.],\n",
       "       [  9.,   9.,   9.,   1.,  24.],\n",
       "       [  9.,   9.,   9.,   1.,  25.],\n",
       "       [  9.,   9.,   9.,   2.,  20.],\n",
       "       [  9.,   9.,   9.,   2.,  21.],\n",
       "       [  9.,   9.,   9.,   2.,  22.],\n",
       "       [  9.,   9.,   9.,   2.,  23.],\n",
       "       [  9.,   9.,   9.,   2.,  24.],\n",
       "       [  9.,   9.,   9.,   2.,  25.],\n",
       "       [  9.,   9.,   9.,   3.,  20.],\n",
       "       [  9.,   9.,   9.,   3.,  21.],\n",
       "       [  9.,   9.,   9.,   3.,  22.],\n",
       "       [  9.,   9.,   9.,   3.,  23.],\n",
       "       [  9.,   9.,   9.,   3.,  24.],\n",
       "       [  9.,   9.,   9.,   3.,  25.],\n",
       "       [  9.,   9.,   9.,   4.,  20.],\n",
       "       [  9.,   9.,   9.,   4.,  21.],\n",
       "       [  9.,   9.,   9.,   4.,  22.],\n",
       "       [  9.,   9.,   9.,   4.,  23.],\n",
       "       [  9.,   9.,   9.,   4.,  24.],\n",
       "       [  9.,   9.,   9.,   4.,  25.],\n",
       "       [  9.,   9.,   9.,   5.,  20.],\n",
       "       [  9.,   9.,   9.,   5.,  21.],\n",
       "       [  9.,   9.,   9.,   5.,  22.],\n",
       "       [  9.,   9.,   9.,   5.,  23.],\n",
       "       [  9.,   9.,   9.,   5.,  24.],\n",
       "       [  9.,   9.,   9.,   5.,  25.],\n",
       "       [  9.,   9.,   9.,   6.,  20.],\n",
       "       [  9.,   9.,   9.,   6.,  21.],\n",
       "       [  9.,   9.,   9.,   6.,  22.],\n",
       "       [  9.,   9.,   9.,   6.,  23.],\n",
       "       [  9.,   9.,   9.,   6.,  24.],\n",
       "       [  9.,   9.,   9.,   6.,  25.],\n",
       "       [  9.,   9.,   9.,   7.,  20.],\n",
       "       [  9.,   9.,   9.,   7.,  21.],\n",
       "       [  9.,   9.,   9.,   7.,  22.],\n",
       "       [  9.,   9.,   9.,   7.,  23.],\n",
       "       [  9.,   9.,   9.,   7.,  24.],\n",
       "       [  9.,   9.,   9.,   7.,  25.],\n",
       "       [  9.,   9.,   9.,   8.,  20.],\n",
       "       [  9.,   9.,   9.,   8.,  21.],\n",
       "       [  9.,   9.,   9.,   8.,  22.],\n",
       "       [  9.,   9.,   9.,   8.,  23.],\n",
       "       [  9.,   9.,   9.,   8.,  24.],\n",
       "       [  9.,   9.,   9.,   8.,  25.],\n",
       "       [  9.,   9.,   9.,   9.,  20.],\n",
       "       [  9.,   9.,   9.,   9.,  21.],\n",
       "       [  9.,   9.,   9.,   9.,  22.],\n",
       "       [  9.,   9.,   9.,   9.,  23.],\n",
       "       [  9.,   9.,   9.,   9.,  24.],\n",
       "       [  9.,   9.,   9.,   9.,  25.],\n",
       "       [  9.,   9.,   9.,  10.,  20.],\n",
       "       [  9.,   9.,   9.,  10.,  21.],\n",
       "       [  9.,   9.,   9.,  10.,  22.],\n",
       "       [  9.,   9.,   9.,  10.,  23.],\n",
       "       [  9.,   9.,   9.,  10.,  24.],\n",
       "       [  9.,   9.,   9.,  10.,  25.]])"
      ]
     },
     "execution_count": 20,
     "metadata": {},
     "output_type": "execute_result"
    }
   ],
   "source": [
    "#  we have all possible actions\n",
    "#  we now need to append the observation onto the front of each array\n",
    "\n",
    "state_actions = np.concatenate([observations, all_combs], axis=1)\n",
    "state_actions"
   ]
  },
  {
   "cell_type": "code",
   "execution_count": 21,
   "metadata": {
    "collapsed": true
   },
   "outputs": [],
   "source": [
    "#  get the discrete action space for all action dimensions\n",
    "disc_action_spaces = [list(space.discretize()) for space in action_space]\n",
    "#  create every possible combination of actions\n",
    "actions = np.array([element for element in itertools.product(*disc_action_spaces)])\n",
    "#  scale each action"
   ]
  },
  {
   "cell_type": "code",
   "execution_count": 22,
   "metadata": {},
   "outputs": [
    {
     "data": {
      "text/plain": [
       "array([[  1.,  20.],\n",
       "       [  1.,  21.],\n",
       "       [  1.,  22.],\n",
       "       [  1.,  23.],\n",
       "       [  1.,  24.],\n",
       "       [  1.,  25.],\n",
       "       [  2.,  20.],\n",
       "       [  2.,  21.],\n",
       "       [  2.,  22.],\n",
       "       [  2.,  23.],\n",
       "       [  2.,  24.],\n",
       "       [  2.,  25.],\n",
       "       [  3.,  20.],\n",
       "       [  3.,  21.],\n",
       "       [  3.,  22.],\n",
       "       [  3.,  23.],\n",
       "       [  3.,  24.],\n",
       "       [  3.,  25.],\n",
       "       [  4.,  20.],\n",
       "       [  4.,  21.],\n",
       "       [  4.,  22.],\n",
       "       [  4.,  23.],\n",
       "       [  4.,  24.],\n",
       "       [  4.,  25.],\n",
       "       [  5.,  20.],\n",
       "       [  5.,  21.],\n",
       "       [  5.,  22.],\n",
       "       [  5.,  23.],\n",
       "       [  5.,  24.],\n",
       "       [  5.,  25.],\n",
       "       [  6.,  20.],\n",
       "       [  6.,  21.],\n",
       "       [  6.,  22.],\n",
       "       [  6.,  23.],\n",
       "       [  6.,  24.],\n",
       "       [  6.,  25.],\n",
       "       [  7.,  20.],\n",
       "       [  7.,  21.],\n",
       "       [  7.,  22.],\n",
       "       [  7.,  23.],\n",
       "       [  7.,  24.],\n",
       "       [  7.,  25.],\n",
       "       [  8.,  20.],\n",
       "       [  8.,  21.],\n",
       "       [  8.,  22.],\n",
       "       [  8.,  23.],\n",
       "       [  8.,  24.],\n",
       "       [  8.,  25.],\n",
       "       [  9.,  20.],\n",
       "       [  9.,  21.],\n",
       "       [  9.,  22.],\n",
       "       [  9.,  23.],\n",
       "       [  9.,  24.],\n",
       "       [  9.,  25.],\n",
       "       [ 10.,  20.],\n",
       "       [ 10.,  21.],\n",
       "       [ 10.,  22.],\n",
       "       [ 10.,  23.],\n",
       "       [ 10.,  24.],\n",
       "       [ 10.,  25.]])"
      ]
     },
     "execution_count": 22,
     "metadata": {},
     "output_type": "execute_result"
    }
   ],
   "source": [
    "actions"
   ]
  },
  {
   "cell_type": "code",
   "execution_count": 41,
   "metadata": {
    "collapsed": true
   },
   "outputs": [],
   "source": [
    "import itertools\n",
    "\n",
    "def normalize(value, low, high):\n",
    "    \"\"\"\n",
    "    Generic helper function\n",
    "    Normalizes a value using a given lower & upper bound\n",
    "    \"\"\"\n",
    "    #  if statement to catch the constant value case\n",
    "    if low == high:\n",
    "        normalized = 0\n",
    "    else:\n",
    "        max_range = high - low\n",
    "        normalized = (value - low) / max_range\n",
    "    return np.array(normalized)\n",
    "\n",
    "def scale_array(array, space, normalize):\n",
    "    \"\"\"\n",
    "    Helper function for make_machine_experience()\n",
    "    Uses the space & a given function to scale an array\n",
    "    Default scaler is to normalize\n",
    "\n",
    "    Used to scale the observation and action\n",
    "\n",
    "    can probably move this into a parent\n",
    "    \"\"\"\n",
    "\n",
    "    #  empty numpy array\n",
    "\n",
    "    scaled_array = np.array([])\n",
    "\n",
    "    #  iterate across the array values & corresponding space object\n",
    "    for value, spc in itertools.zip_longest(array, space):\n",
    "        if spc.type == 'continuous':\n",
    "            # normalize continuous variables\n",
    "            scaled = normalize(value, spc.low, spc.high)\n",
    "        elif spc.type == 'discrete':\n",
    "            #  shouldn't need to do anything\n",
    "            #  check value is already dummy\n",
    "            assert (value == 0) or (value == 1)\n",
    "        else:\n",
    "            assert 1 == 0\n",
    "\n",
    "        #  appending the scaled value onto the scaled array\n",
    "        scaled_array = np.append(scaled_array, scaled).reshape(-1)\n",
    "\n",
    "    return scaled_array"
   ]
  },
  {
   "cell_type": "code",
   "execution_count": 42,
   "metadata": {},
   "outputs": [
    {
     "name": "stdout",
     "output_type": "stream",
     "text": [
      "[  1.  20.]\n",
      "[  1.  21.]\n",
      "[  1.  22.]\n",
      "[  1.  23.]\n",
      "[  1.  24.]\n",
      "[  1.  25.]\n",
      "[  2.  20.]\n",
      "[  2.  21.]\n",
      "[  2.  22.]\n",
      "[  2.  23.]\n",
      "[  2.  24.]\n",
      "[  2.  25.]\n",
      "[  3.  20.]\n",
      "[  3.  21.]\n",
      "[  3.  22.]\n",
      "[  3.  23.]\n",
      "[  3.  24.]\n",
      "[  3.  25.]\n",
      "[  4.  20.]\n",
      "[  4.  21.]\n",
      "[  4.  22.]\n",
      "[  4.  23.]\n",
      "[  4.  24.]\n",
      "[  4.  25.]\n",
      "[  5.  20.]\n",
      "[  5.  21.]\n",
      "[  5.  22.]\n",
      "[  5.  23.]\n",
      "[  5.  24.]\n",
      "[  5.  25.]\n",
      "[  6.  20.]\n",
      "[  6.  21.]\n",
      "[  6.  22.]\n",
      "[  6.  23.]\n",
      "[  6.  24.]\n",
      "[  6.  25.]\n",
      "[  7.  20.]\n",
      "[  7.  21.]\n",
      "[  7.  22.]\n",
      "[  7.  23.]\n",
      "[  7.  24.]\n",
      "[  7.  25.]\n",
      "[  8.  20.]\n",
      "[  8.  21.]\n",
      "[  8.  22.]\n",
      "[  8.  23.]\n",
      "[  8.  24.]\n",
      "[  8.  25.]\n",
      "[  9.  20.]\n",
      "[  9.  21.]\n",
      "[  9.  22.]\n",
      "[  9.  23.]\n",
      "[  9.  24.]\n",
      "[  9.  25.]\n",
      "[ 10.  20.]\n",
      "[ 10.  21.]\n",
      "[ 10.  22.]\n",
      "[ 10.  23.]\n",
      "[ 10.  24.]\n",
      "[ 10.  25.]\n"
     ]
    }
   ],
   "source": [
    "for a in actions:\n",
    "    print(a)"
   ]
  },
  {
   "cell_type": "code",
   "execution_count": 50,
   "metadata": {},
   "outputs": [
    {
     "name": "stdout",
     "output_type": "stream",
     "text": [
      "[  1.  20.]\n",
      "[ 0.  0.]\n",
      "[  1.  21.]\n",
      "[ 0.   0.2]\n",
      "[  1.  22.]\n",
      "[ 0.   0.4]\n",
      "[  1.  23.]\n",
      "[ 0.   0.6]\n",
      "[  1.  24.]\n",
      "[ 0.   0.8]\n",
      "[  1.  25.]\n",
      "[ 0.  1.]\n",
      "[  2.  20.]\n",
      "[ 0.11111111  0.        ]\n",
      "[  2.  21.]\n",
      "[ 0.11111111  0.2       ]\n",
      "[  2.  22.]\n",
      "[ 0.11111111  0.4       ]\n",
      "[  2.  23.]\n",
      "[ 0.11111111  0.6       ]\n",
      "[  2.  24.]\n",
      "[ 0.11111111  0.8       ]\n",
      "[  2.  25.]\n",
      "[ 0.11111111  1.        ]\n",
      "[  3.  20.]\n",
      "[ 0.22222222  0.        ]\n",
      "[  3.  21.]\n",
      "[ 0.22222222  0.2       ]\n",
      "[  3.  22.]\n",
      "[ 0.22222222  0.4       ]\n",
      "[  3.  23.]\n",
      "[ 0.22222222  0.6       ]\n",
      "[  3.  24.]\n",
      "[ 0.22222222  0.8       ]\n",
      "[  3.  25.]\n",
      "[ 0.22222222  1.        ]\n",
      "[  4.  20.]\n",
      "[ 0.33333333  0.        ]\n",
      "[  4.  21.]\n",
      "[ 0.33333333  0.2       ]\n",
      "[  4.  22.]\n",
      "[ 0.33333333  0.4       ]\n",
      "[  4.  23.]\n",
      "[ 0.33333333  0.6       ]\n",
      "[  4.  24.]\n",
      "[ 0.33333333  0.8       ]\n",
      "[  4.  25.]\n",
      "[ 0.33333333  1.        ]\n",
      "[  5.  20.]\n",
      "[ 0.44444444  0.        ]\n",
      "[  5.  21.]\n",
      "[ 0.44444444  0.2       ]\n",
      "[  5.  22.]\n",
      "[ 0.44444444  0.4       ]\n",
      "[  5.  23.]\n",
      "[ 0.44444444  0.6       ]\n",
      "[  5.  24.]\n",
      "[ 0.44444444  0.8       ]\n",
      "[  5.  25.]\n",
      "[ 0.44444444  1.        ]\n",
      "[  6.  20.]\n",
      "[ 0.55555556  0.        ]\n",
      "[  6.  21.]\n",
      "[ 0.55555556  0.2       ]\n",
      "[  6.  22.]\n",
      "[ 0.55555556  0.4       ]\n",
      "[  6.  23.]\n",
      "[ 0.55555556  0.6       ]\n",
      "[  6.  24.]\n",
      "[ 0.55555556  0.8       ]\n",
      "[  6.  25.]\n",
      "[ 0.55555556  1.        ]\n",
      "[  7.  20.]\n",
      "[ 0.66666667  0.        ]\n",
      "[  7.  21.]\n",
      "[ 0.66666667  0.2       ]\n",
      "[  7.  22.]\n",
      "[ 0.66666667  0.4       ]\n",
      "[  7.  23.]\n",
      "[ 0.66666667  0.6       ]\n",
      "[  7.  24.]\n",
      "[ 0.66666667  0.8       ]\n",
      "[  7.  25.]\n",
      "[ 0.66666667  1.        ]\n",
      "[  8.  20.]\n",
      "[ 0.77777778  0.        ]\n",
      "[  8.  21.]\n",
      "[ 0.77777778  0.2       ]\n",
      "[  8.  22.]\n",
      "[ 0.77777778  0.4       ]\n",
      "[  8.  23.]\n",
      "[ 0.77777778  0.6       ]\n",
      "[  8.  24.]\n",
      "[ 0.77777778  0.8       ]\n",
      "[  8.  25.]\n",
      "[ 0.77777778  1.        ]\n",
      "[  9.  20.]\n",
      "[ 0.88888889  0.        ]\n",
      "[  9.  21.]\n",
      "[ 0.88888889  0.2       ]\n",
      "[  9.  22.]\n",
      "[ 0.88888889  0.4       ]\n",
      "[  9.  23.]\n",
      "[ 0.88888889  0.6       ]\n",
      "[  9.  24.]\n",
      "[ 0.88888889  0.8       ]\n",
      "[  9.  25.]\n",
      "[ 0.88888889  1.        ]\n",
      "[ 10.  20.]\n",
      "[ 1.  0.]\n",
      "[ 10.  21.]\n",
      "[ 1.   0.2]\n",
      "[ 10.  22.]\n",
      "[ 1.   0.4]\n",
      "[ 10.  23.]\n",
      "[ 1.   0.6]\n",
      "[ 10.  24.]\n",
      "[ 1.   0.8]\n",
      "[ 10.  25.]\n",
      "[ 1.  1.]\n"
     ]
    }
   ],
   "source": [
    "scaled_actions =[]\n",
    "for i, act in enumerate(actions):\n",
    "    scaled = scale_array(act, action_space, normalize)\n",
    "    print(act)\n",
    "    print(scaled)\n",
    "    scaled_actions.append(scaled)\n",
    "    "
   ]
  },
  {
   "cell_type": "code",
   "execution_count": 51,
   "metadata": {},
   "outputs": [
    {
     "data": {
      "text/plain": [
       "array([ 1.,  1.])"
      ]
     },
     "execution_count": 51,
     "metadata": {},
     "output_type": "execute_result"
    }
   ],
   "source": [
    "scaled"
   ]
  },
  {
   "cell_type": "code",
   "execution_count": 52,
   "metadata": {},
   "outputs": [
    {
     "data": {
      "text/plain": [
       "array([ 10.,  25.])"
      ]
     },
     "execution_count": 52,
     "metadata": {},
     "output_type": "execute_result"
    }
   ],
   "source": [
    "act"
   ]
  },
  {
   "cell_type": "code",
   "execution_count": 55,
   "metadata": {},
   "outputs": [],
   "source": [
    "all_acts = np.array(scaled_actions)"
   ]
  },
  {
   "cell_type": "code",
   "execution_count": 56,
   "metadata": {},
   "outputs": [
    {
     "data": {
      "text/plain": [
       "(60, 2)"
      ]
     },
     "execution_count": 56,
     "metadata": {},
     "output_type": "execute_result"
    }
   ],
   "source": [
    "all_acts.shape"
   ]
  },
  {
   "cell_type": "code",
   "execution_count": 57,
   "metadata": {
    "collapsed": true
   },
   "outputs": [],
   "source": [
    "disc_action_spaces = [list(space.discretize()) for space in action_space]\n",
    "\n",
    "#  create every possible combination of actions\n",
    "scaled_actions = [scale_array(act, action_space, normalize)\n",
    "                  for act in itertools.product(*disc_action_spaces)]"
   ]
  },
  {
   "cell_type": "code",
   "execution_count": 58,
   "metadata": {},
   "outputs": [
    {
     "data": {
      "text/plain": [
       "[array([ 0.,  0.]),\n",
       " array([ 0. ,  0.2]),\n",
       " array([ 0. ,  0.4]),\n",
       " array([ 0. ,  0.6]),\n",
       " array([ 0. ,  0.8]),\n",
       " array([ 0.,  1.]),\n",
       " array([ 0.11111111,  0.        ]),\n",
       " array([ 0.11111111,  0.2       ]),\n",
       " array([ 0.11111111,  0.4       ]),\n",
       " array([ 0.11111111,  0.6       ]),\n",
       " array([ 0.11111111,  0.8       ]),\n",
       " array([ 0.11111111,  1.        ]),\n",
       " array([ 0.22222222,  0.        ]),\n",
       " array([ 0.22222222,  0.2       ]),\n",
       " array([ 0.22222222,  0.4       ]),\n",
       " array([ 0.22222222,  0.6       ]),\n",
       " array([ 0.22222222,  0.8       ]),\n",
       " array([ 0.22222222,  1.        ]),\n",
       " array([ 0.33333333,  0.        ]),\n",
       " array([ 0.33333333,  0.2       ]),\n",
       " array([ 0.33333333,  0.4       ]),\n",
       " array([ 0.33333333,  0.6       ]),\n",
       " array([ 0.33333333,  0.8       ]),\n",
       " array([ 0.33333333,  1.        ]),\n",
       " array([ 0.44444444,  0.        ]),\n",
       " array([ 0.44444444,  0.2       ]),\n",
       " array([ 0.44444444,  0.4       ]),\n",
       " array([ 0.44444444,  0.6       ]),\n",
       " array([ 0.44444444,  0.8       ]),\n",
       " array([ 0.44444444,  1.        ]),\n",
       " array([ 0.55555556,  0.        ]),\n",
       " array([ 0.55555556,  0.2       ]),\n",
       " array([ 0.55555556,  0.4       ]),\n",
       " array([ 0.55555556,  0.6       ]),\n",
       " array([ 0.55555556,  0.8       ]),\n",
       " array([ 0.55555556,  1.        ]),\n",
       " array([ 0.66666667,  0.        ]),\n",
       " array([ 0.66666667,  0.2       ]),\n",
       " array([ 0.66666667,  0.4       ]),\n",
       " array([ 0.66666667,  0.6       ]),\n",
       " array([ 0.66666667,  0.8       ]),\n",
       " array([ 0.66666667,  1.        ]),\n",
       " array([ 0.77777778,  0.        ]),\n",
       " array([ 0.77777778,  0.2       ]),\n",
       " array([ 0.77777778,  0.4       ]),\n",
       " array([ 0.77777778,  0.6       ]),\n",
       " array([ 0.77777778,  0.8       ]),\n",
       " array([ 0.77777778,  1.        ]),\n",
       " array([ 0.88888889,  0.        ]),\n",
       " array([ 0.88888889,  0.2       ]),\n",
       " array([ 0.88888889,  0.4       ]),\n",
       " array([ 0.88888889,  0.6       ]),\n",
       " array([ 0.88888889,  0.8       ]),\n",
       " array([ 0.88888889,  1.        ]),\n",
       " array([ 1.,  0.]),\n",
       " array([ 1. ,  0.2]),\n",
       " array([ 1. ,  0.4]),\n",
       " array([ 1. ,  0.6]),\n",
       " array([ 1. ,  0.8]),\n",
       " array([ 1.,  1.])]"
      ]
     },
     "execution_count": 58,
     "metadata": {},
     "output_type": "execute_result"
    }
   ],
   "source": [
    "scaled_actions"
   ]
  },
  {
   "cell_type": "code",
   "execution_count": null,
   "metadata": {
    "collapsed": true
   },
   "outputs": [],
   "source": []
  }
 ],
 "metadata": {
  "kernelspec": {
   "display_name": "Python 3",
   "language": "python",
   "name": "python3"
  },
  "language_info": {
   "codemirror_mode": {
    "name": "ipython",
    "version": 3
   },
   "file_extension": ".py",
   "mimetype": "text/x-python",
   "name": "python",
   "nbconvert_exporter": "python",
   "pygments_lexer": "ipython3",
   "version": "3.6.2"
  }
 },
 "nbformat": 4,
 "nbformat_minor": 2
}
