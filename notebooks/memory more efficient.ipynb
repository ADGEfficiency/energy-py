{
 "cells": [
  {
   "cell_type": "code",
   "execution_count": 1,
   "metadata": {},
   "outputs": [],
   "source": [
    "import pandas as pd\n",
    "import numpy as np\n",
    "\n",
    "from energy_py import DiscreteSpace, ContinuousSpace, GlobalSpace\n",
    "from energy_py.agents import Memory"
   ]
  },
  {
   "cell_type": "code",
   "execution_count": 2,
   "metadata": {},
   "outputs": [],
   "source": [
    "observation_space = GlobalSpace([ContinuousSpace(50,100),ContinuousSpace(50,100)])\n",
    "action_space = GlobalSpace([ContinuousSpace(50,100)])\n",
    "discount = 0.9\n",
    "\n",
    "mem = Memory(observation_space,\n",
    "             action_space,\n",
    "             discount,\n",
    "             memory_length=10)"
   ]
  },
  {
   "cell_type": "code",
   "execution_count": 3,
   "metadata": {},
   "outputs": [],
   "source": [
    "for step in range(100):\n",
    "    obs = observation_space.sample()\n",
    "    action = action_space.sample()\n",
    "    reward = 1\n",
    "    next_obs = observation_space.sample()\n",
    "    terminal=np.random.choice([True,False]),\n",
    "    step=step,\n",
    "    episode=3\n",
    "    mem.add_experience(obs, action, reward, next_obs, terminal, step, episode)"
   ]
  },
  {
   "cell_type": "code",
   "execution_count": 4,
   "metadata": {},
   "outputs": [
    {
     "data": {
      "text/plain": [
       "(100, 1)"
      ]
     },
     "execution_count": 4,
     "metadata": {},
     "output_type": "execute_result"
    }
   ],
   "source": [
    "mem.actions.shape"
   ]
  },
  {
   "cell_type": "code",
   "execution_count": 5,
   "metadata": {},
   "outputs": [
    {
     "data": {
      "text/plain": [
       "array([[ 75.44135672],\n",
       "       [ 95.4076053 ],\n",
       "       [ 64.7950337 ],\n",
       "       [ 75.01474844],\n",
       "       [ 69.01876414],\n",
       "       [ 69.61365745],\n",
       "       [ 77.60729841],\n",
       "       [ 88.79957397],\n",
       "       [ 83.58716304],\n",
       "       [ 85.4471454 ],\n",
       "       [ 87.63353898],\n",
       "       [ 80.03774892],\n",
       "       [ 85.83012343],\n",
       "       [ 89.2729168 ],\n",
       "       [ 86.81872392],\n",
       "       [ 82.63227843],\n",
       "       [ 85.09410421],\n",
       "       [ 76.09716905],\n",
       "       [ 84.96578743],\n",
       "       [ 80.86574863],\n",
       "       [ 68.109487  ],\n",
       "       [ 93.12630218],\n",
       "       [ 91.67649063],\n",
       "       [ 93.07427632],\n",
       "       [ 95.74721419],\n",
       "       [ 86.90791997],\n",
       "       [ 70.35875536],\n",
       "       [ 89.52805292],\n",
       "       [ 91.53106557],\n",
       "       [ 97.13211847],\n",
       "       [ 92.5848478 ],\n",
       "       [ 72.82901197],\n",
       "       [ 72.94081575],\n",
       "       [ 95.30712074],\n",
       "       [ 78.78594696],\n",
       "       [ 61.49241248],\n",
       "       [ 76.14614884],\n",
       "       [ 53.36284093],\n",
       "       [ 86.53973504],\n",
       "       [ 72.91004141],\n",
       "       [ 92.02900765],\n",
       "       [ 71.49104692],\n",
       "       [ 95.43210896],\n",
       "       [ 78.63132842],\n",
       "       [ 94.37281628],\n",
       "       [ 78.03666566],\n",
       "       [ 59.81040972],\n",
       "       [ 94.42481649],\n",
       "       [ 82.42397058],\n",
       "       [ 99.28673984],\n",
       "       [ 80.41205697],\n",
       "       [ 84.35621345],\n",
       "       [ 60.56953192],\n",
       "       [ 60.9583267 ],\n",
       "       [ 83.42535864],\n",
       "       [ 64.87555285],\n",
       "       [ 54.57508315],\n",
       "       [ 68.08266211],\n",
       "       [ 70.82122272],\n",
       "       [ 53.45801771],\n",
       "       [ 89.68881011],\n",
       "       [ 79.1128788 ],\n",
       "       [ 96.45164847],\n",
       "       [ 76.93704435],\n",
       "       [ 56.50999895],\n",
       "       [ 67.24949713],\n",
       "       [ 69.79279201],\n",
       "       [ 87.1447431 ],\n",
       "       [ 89.0119682 ],\n",
       "       [ 55.08586838],\n",
       "       [ 62.05434172],\n",
       "       [ 57.05766865],\n",
       "       [ 66.28547825],\n",
       "       [ 99.048978  ],\n",
       "       [ 83.28839567],\n",
       "       [ 57.99075983],\n",
       "       [ 76.72651093],\n",
       "       [ 67.56370902],\n",
       "       [ 79.17978328],\n",
       "       [ 55.86976019],\n",
       "       [ 80.9967826 ],\n",
       "       [ 83.37838378],\n",
       "       [ 70.12599242],\n",
       "       [ 64.6373938 ],\n",
       "       [ 87.02592501],\n",
       "       [ 94.04203263],\n",
       "       [ 57.80070522],\n",
       "       [ 66.22177523],\n",
       "       [ 77.35034023],\n",
       "       [ 92.61977353],\n",
       "       [ 67.26138953],\n",
       "       [ 86.35590083],\n",
       "       [ 61.50341524],\n",
       "       [ 63.2569032 ],\n",
       "       [ 66.90057806],\n",
       "       [ 97.71013335],\n",
       "       [ 69.42158399],\n",
       "       [ 70.09334987],\n",
       "       [ 52.10577175],\n",
       "       [ 77.45087699]])"
      ]
     },
     "execution_count": 5,
     "metadata": {},
     "output_type": "execute_result"
    }
   ],
   "source": [
    "batch = mem.get_episode_batch(3)\n",
    "batch['actions']"
   ]
  },
  {
   "cell_type": "code",
   "execution_count": 6,
   "metadata": {},
   "outputs": [
    {
     "data": {
      "text/plain": [
       "{'actions': array([[ 69.42158399],\n",
       "        [ 66.90057806],\n",
       "        [ 97.71013335],\n",
       "        [ 66.90057806]]), 'next_obs': array([[ 69.31036646,  80.6157692 ],\n",
       "        [ 96.43104216,  83.32657982],\n",
       "        [ 94.94698819,  79.91584032],\n",
       "        [ 96.43104216,  83.32657982]]), 'obs': array([[ 84.26254824,  53.24641235],\n",
       "        [ 52.05254845,  86.31330052],\n",
       "        [ 56.77589046,  70.78058502],\n",
       "        [ 52.05254845,  86.31330052]]), 'rewards': array([[ 1.],\n",
       "        [ 1.],\n",
       "        [ 1.],\n",
       "        [ 1.]], dtype=float32), 'terminal': array([[False],\n",
       "        [False],\n",
       "        [False],\n",
       "        [False]], dtype=bool)}"
      ]
     },
     "execution_count": 6,
     "metadata": {},
     "output_type": "execute_result"
    }
   ],
   "source": [
    "batch = mem.get_random_batch(4)\n",
    "batch"
   ]
  },
  {
   "cell_type": "code",
   "execution_count": 7,
   "metadata": {},
   "outputs": [
    {
     "data": {
      "text/plain": [
       "100"
      ]
     },
     "execution_count": 7,
     "metadata": {},
     "output_type": "execute_result"
    }
   ],
   "source": [
    "mem.num_exp"
   ]
  },
  {
   "cell_type": "code",
   "execution_count": 8,
   "metadata": {},
   "outputs": [
    {
     "data": {
      "text/plain": [
       "(100, 1)"
      ]
     },
     "execution_count": 8,
     "metadata": {},
     "output_type": "execute_result"
    }
   ],
   "source": [
    "mem.actions.shape"
   ]
  },
  {
   "cell_type": "code",
   "execution_count": 10,
   "metadata": {},
   "outputs": [
    {
     "data": {
      "text/plain": [
       "array([ 77.45087699])"
      ]
     },
     "execution_count": 10,
     "metadata": {},
     "output_type": "execute_result"
    }
   ],
   "source": [
    "mem.actions[99]"
   ]
  },
  {
   "cell_type": "code",
   "execution_count": 11,
   "metadata": {},
   "outputs": [
    {
     "name": "stderr",
     "output_type": "stream",
     "text": [
      "/home/adam/anaconda3/envs/energy_py/lib/python3.5/site-packages/energy_py-2.0-py3.5.egg/energy_py/agents/memory.py:273: FutureWarning: pd.rolling_std is deprecated for Series and will be removed in a future version, replace with \n",
      "\tSeries.rolling(min_periods=1,window=1,center=False).std()\n",
      "  min_periods=1)\n"
     ]
    }
   ],
   "source": [
    "out = mem.output_results()"
   ]
  },
  {
   "cell_type": "code",
   "execution_count": 13,
   "metadata": {},
   "outputs": [
    {
     "data": {
      "text/html": [
       "<div>\n",
       "<style scoped>\n",
       "    .dataframe tbody tr th:only-of-type {\n",
       "        vertical-align: middle;\n",
       "    }\n",
       "\n",
       "    .dataframe tbody tr th {\n",
       "        vertical-align: top;\n",
       "    }\n",
       "\n",
       "    .dataframe thead th {\n",
       "        text-align: right;\n",
       "    }\n",
       "</style>\n",
       "<table border=\"1\" class=\"dataframe\">\n",
       "  <thead>\n",
       "    <tr style=\"text-align: right;\">\n",
       "      <th></th>\n",
       "      <th>obs_0</th>\n",
       "      <th>obs_1</th>\n",
       "      <th>act_0</th>\n",
       "      <th>reward</th>\n",
       "      <th>obs_0</th>\n",
       "      <th>obs_1</th>\n",
       "      <th>step</th>\n",
       "      <th>cum max reward</th>\n",
       "      <th>rolling mean</th>\n",
       "      <th>rolling std</th>\n",
       "    </tr>\n",
       "    <tr>\n",
       "      <th>episode</th>\n",
       "      <th></th>\n",
       "      <th></th>\n",
       "      <th></th>\n",
       "      <th></th>\n",
       "      <th></th>\n",
       "      <th></th>\n",
       "      <th></th>\n",
       "      <th></th>\n",
       "      <th></th>\n",
       "      <th></th>\n",
       "    </tr>\n",
       "  </thead>\n",
       "  <tbody>\n",
       "    <tr>\n",
       "      <th>3</th>\n",
       "      <td>7224.449446</td>\n",
       "      <td>7360.937246</td>\n",
       "      <td>7749.85367</td>\n",
       "      <td>100.0</td>\n",
       "      <td>7385.397441</td>\n",
       "      <td>7348.124002</td>\n",
       "      <td>4950</td>\n",
       "      <td>100</td>\n",
       "      <td>100.0</td>\n",
       "      <td>NaN</td>\n",
       "    </tr>\n",
       "  </tbody>\n",
       "</table>\n",
       "</div>"
      ],
      "text/plain": [
       "               obs_0        obs_1       act_0  reward        obs_0  \\\n",
       "episode                                                              \n",
       "3        7224.449446  7360.937246  7749.85367   100.0  7385.397441   \n",
       "\n",
       "               obs_1  step  cum max reward  rolling mean  rolling std  \n",
       "episode                                                                \n",
       "3        7348.124002  4950             100         100.0          NaN  "
      ]
     },
     "execution_count": 13,
     "metadata": {},
     "output_type": "execute_result"
    }
   ],
   "source": [
    "out['df_ep']"
   ]
  },
  {
   "cell_type": "code",
   "execution_count": null,
   "metadata": {},
   "outputs": [],
   "source": []
  }
 ],
 "metadata": {
  "kernelspec": {
   "display_name": "Python 3",
   "language": "python",
   "name": "python3"
  },
  "language_info": {
   "codemirror_mode": {
    "name": "ipython",
    "version": 3
   },
   "file_extension": ".py",
   "mimetype": "text/x-python",
   "name": "python",
   "nbconvert_exporter": "python",
   "pygments_lexer": "ipython3",
   "version": "3.5.4"
  }
 },
 "nbformat": 4,
 "nbformat_minor": 2
}
