{
 "cells": [
  {
   "cell_type": "code",
   "execution_count": 1,
   "metadata": {},
   "outputs": [
    {
     "name": "stderr",
     "output_type": "stream",
     "text": [
      "/Users/adam/anaconda3/envs/energy_py/lib/python3.5/importlib/_bootstrap.py:222: RuntimeWarning: compiletime version 3.6 of module 'tensorflow.python.framework.fast_tensor_util' does not match runtime version 3.5\n",
      "  return f(*args, **kwds)\n",
      "/Users/adam/anaconda3/envs/energy_py/lib/python3.5/site-packages/h5py/__init__.py:36: FutureWarning: Conversion of the second argument of issubdtype from `float` to `np.floating` is deprecated. In future, it will be treated as `np.float64 == np.dtype(float).type`.\n",
      "  from ._conv import register_converters as _register_converters\n"
     ]
    },
    {
     "name": "stdout",
     "output_type": "stream",
     "text": [
      "WARNING:tensorflow:From /Users/adam/anaconda3/envs/energy_py/lib/python3.5/site-packages/tensorflow/contrib/learn/python/learn/datasets/base.py:198: retry (from tensorflow.contrib.learn.python.learn.datasets.base) is deprecated and will be removed in a future version.\n",
      "Instructions for updating:\n",
      "Use the retry module or similar alternatives.\n"
     ]
    }
   ],
   "source": [
    "import numpy as np\n",
    "\n",
    "import tensorflow as tf\n",
    "import tensorflow.contrib.layers as layers\n",
    "\n",
    "def linear(input_tensor, nodes, scope, use_relu=True, layer_norm=False):  \n",
    "    \"\"\"\n",
    "    \n",
    "    Weights are initialized using Xavier-Glorot, biases at zero (these are the defaults )\n",
    "    \n",
    "    \"\"\"\n",
    "    \n",
    "    layer = layers.fully_connected(\n",
    "        input_tensor, \n",
    "        num_outputs=nodes, \n",
    "        activation_fn=None,\n",
    "        scope='{}_layer'.format(scope))\n",
    "            \n",
    "    if layer_norm:\n",
    "        layer = layers.layer_norm(\n",
    "            out, \n",
    "            center=True, \n",
    "            scale=True,\n",
    "            scope='{}_layer_norm'.format(scope))\n",
    "        \n",
    "    if use_relu:\n",
    "        layer = tf.nn.relu(\n",
    "            layer, \n",
    "            name='{}_activation'.format(scope))\n",
    "        \n",
    "    return layer\n",
    "\n",
    "def feed_forward(hiddens, observation, scope, layer_norm=False):\n",
    "    \"\"\"\n",
    "    \n",
    "    \"\"\"\n",
    "    with tf.variable_scope(scope, reuse=False):\n",
    "        layer = observation\n",
    "        \n",
    "        for num, hidden in enumerate(hiddens):\n",
    "            layer = linear(layer, hidden, 'hidden_{}'.format(num), use_relu=True)\n",
    "                      \n",
    "        return layer\n",
    "\n",
    "def dueling_output_layer(in_layer, hiddens_value, hiddens_advantage, num_actions):\n",
    "    \"\"\"\n",
    "    Inspired by deep-rl-tensorflow\n",
    "    \n",
    "    Not sure if this is doing everything that DeepMind do in the paper\n",
    "    \"\"\"\n",
    "    \n",
    "    layer = in_layer \n",
    "    for num, hidden in enumerate(hiddens_value):\n",
    "        layer = linear(layer, hidden, 'value_hidden_{}'.format(num), use_relu=True)\n",
    "    value = linear(layer, 1, 'value_out_{}'.format(num), use_relu=False)\n",
    "    \n",
    "    layer = in_layer\n",
    "    for num, hidden in enumerate(hiddens_advantage):\n",
    "        layer = linear(layer, hidden, 'value_hidden_{}'.format(num), use_relu=True)\n",
    "    advantage = linear(layer, num_actions, 'advantage_out_{}'.format(num), use_relu=False)\n",
    "    \n",
    "    #  TODO the output layers, ie how to bring the two together"
   ]
  },
  {
   "cell_type": "code",
   "execution_count": null,
   "metadata": {},
   "outputs": [],
   "source": []
  }
 ],
 "metadata": {
  "kernelspec": {
   "display_name": "Python 3",
   "language": "python",
   "name": "python3"
  },
  "language_info": {
   "codemirror_mode": {
    "name": "ipython",
    "version": 3
   },
   "file_extension": ".py",
   "mimetype": "text/x-python",
   "name": "python",
   "nbconvert_exporter": "python",
   "pygments_lexer": "ipython3",
   "version": "3.5.2"
  }
 },
 "nbformat": 4,
 "nbformat_minor": 2
}
