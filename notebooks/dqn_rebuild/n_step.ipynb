{
 "cells": [
  {
   "cell_type": "markdown",
   "metadata": {},
   "source": [
    "https://github.com/reinforceio/tensorforce/blob/master/tensorforce/models/q_nstep_model.py\n",
    "    \n",
    "    has code using expand dims etc - check vs what im doing\n",
    "    \n",
    "whats is the correct approach for the initial states\n",
    "- padding with same state\n",
    "- never training until you have n steps of experience in the buffer"
   ]
  },
  {
   "cell_type": "code",
   "execution_count": 1,
   "metadata": {},
   "outputs": [
    {
     "name": "stderr",
     "output_type": "stream",
     "text": [
      "/Users/adam/anaconda3/envs/energy_py/lib/python3.5/importlib/_bootstrap.py:222: RuntimeWarning: compiletime version 3.6 of module 'tensorflow.python.framework.fast_tensor_util' does not match runtime version 3.5\n",
      "  return f(*args, **kwds)\n",
      "/Users/adam/anaconda3/envs/energy_py/lib/python3.5/site-packages/h5py/__init__.py:36: FutureWarning: Conversion of the second argument of issubdtype from `float` to `np.floating` is deprecated. In future, it will be treated as `np.float64 == np.dtype(float).type`.\n",
      "  from ._conv import register_converters as _register_converters\n"
     ]
    },
    {
     "name": "stdout",
     "output_type": "stream",
     "text": [
      "WARNING:tensorflow:From /Users/adam/anaconda3/envs/energy_py/lib/python3.5/site-packages/tensorflow/contrib/learn/python/learn/datasets/base.py:198: retry (from tensorflow.contrib.learn.python.learn.datasets.base) is deprecated and will be removed in a future version.\n",
      "Instructions for updating:\n",
      "Use the retry module or similar alternatives.\n"
     ]
    }
   ],
   "source": [
    "from collections import defaultdict, deque, namedtuple\n",
    "\n",
    "from functools import partial\n",
    "\n",
    "import random\n",
    "\n",
    "import numpy as np\n",
    "\n",
    "from energy_py.agents.memory import Memory, Experience\n",
    "\n",
    "\n",
    "class HistoryMemory(Memory):\n",
    "    def __init__(self, size, n_step, obs_shape, action_shape):\n",
    "        \n",
    "        super().__init__(size, obs_shape, action_shape)\n",
    "        self.n_step = n_step\n",
    "        \n",
    "        self.buffer = defaultdict(partial(deque, maxlen=self.n_step))\n",
    "    \n",
    "        self.experiences = deque(maxlen=self.size)\n",
    "        \n",
    "    def __repr__(self):\n",
    "        return '<{} n_step return memory size={}>'.format(self.n_step,\n",
    "                                                          self.size)\n",
    "    def __len__(self):\n",
    "        return len(self.experiences)\n",
    "    \n",
    "\n",
    "    def remember(self, o, a, r, next_o, done):\n",
    "        \n",
    "        self.buffer['observation'].append(\n",
    "            np.array(o).reshape(1, *self.shapes['observation']))\n",
    "        \n",
    "        self.buffer['action'].append(\n",
    "            np.array(a).reshape(1, *self.shapes['action']))        \n",
    "        \n",
    "        self.buffer['reward'].append(\n",
    "            np.array(r).reshape(1, *self.shapes['reward']))\n",
    "        \n",
    "        self.buffer['next_observation'].append(\n",
    "            np.array(next_o).reshape(1, *self.shapes['next_observation']))\n",
    "        \n",
    "        self.buffer['done'].append(\n",
    "            np.array(done).reshape(1, *self.shapes['done']))\n",
    "        \n",
    "        if len(self.buffer['observation']) >= self.n_step:\n",
    "            \n",
    "            experience_dims = []\n",
    "            for field in Experience._fields:\n",
    "                buffer = self.buffer[field]\n",
    "                hist = np.array(buffer).reshape(1, self.n_step, *buffer[0].shape[1:])\n",
    "                experience_dims.append(hist)  \n",
    "                \n",
    "            experience = Experience(*experience_dims)\n",
    "            self.experiences.append(experience)\n",
    "    \n",
    "    def get_batch(self, batch_size):\n",
    "        \"\"\"\n",
    "        \"\"\"\n",
    "        \n",
    "        sample_size = min(batch_size, len(self))                                                                                                                 \n",
    "        batch = random.sample(self.experiences, sample_size)                                                                                                                                                                                                                                  \n",
    "\n",
    "        batch_dict = {}\n",
    "        for field in Experience._fields:\n",
    "            arr = np.array([getattr(e, field) for e in batch])\n",
    "            batch_dict[field] = arr.reshape(batch_size, self.n_step, *self.shapes[field])\n",
    "            \n",
    "        return batch_dict"
   ]
  },
  {
   "cell_type": "code",
   "execution_count": 2,
   "metadata": {},
   "outputs": [
    {
     "name": "stdout",
     "output_type": "stream",
     "text": [
      "\u001b[33mWARN: gym.spaces.Box autodetected dtype as <class 'numpy.float32'>. Please provide explicit dtype.\u001b[0m\n"
     ]
    }
   ],
   "source": [
    "mem = HistoryMemory(10, n_step=5, obs_shape=(4,), action_shape=(1,))\n",
    "\n",
    "import gym\n",
    "\n",
    "e = gym.make('CartPole-v0')\n",
    "o = e.reset()\n",
    "for step in range(10):\n",
    "    act = e.action_space.sample()\n",
    "    next_o, r, done, _ = e.step(act)\n",
    "    mem.remember(o, act, r, next_o, done)\n",
    "    o = next_o"
   ]
  },
  {
   "cell_type": "code",
   "execution_count": 3,
   "metadata": {},
   "outputs": [],
   "source": [
    "batch = mem.get_batch(3)"
   ]
  },
  {
   "cell_type": "code",
   "execution_count": 4,
   "metadata": {},
   "outputs": [
    {
     "data": {
      "text/plain": [
       "(3, 5, 4)"
      ]
     },
     "execution_count": 4,
     "metadata": {},
     "output_type": "execute_result"
    }
   ],
   "source": [
    "batch['observation'].shape"
   ]
  },
  {
   "cell_type": "code",
   "execution_count": 5,
   "metadata": {},
   "outputs": [],
   "source": [
    "# to learn from n_step returns\n",
    "\n",
    "train_states = batch['observation'][:, 0]\n",
    "train_actions = batch['action'][:, 0]\n",
    "\n",
    "experienced_rewards = np.squeeze(batch['reward'][:])\n",
    "\n",
    "discounts = [0.9**s for s in range(experienced_rewards.shape[1])]\n",
    "\n",
    "experienced_returns = np.sum(experienced_rewards * discounts, axis=1)"
   ]
  },
  {
   "cell_type": "code",
   "execution_count": 6,
   "metadata": {},
   "outputs": [
    {
     "data": {
      "text/plain": [
       "(3, 5)"
      ]
     },
     "execution_count": 6,
     "metadata": {},
     "output_type": "execute_result"
    }
   ],
   "source": [
    "experienced_rewards.shape"
   ]
  },
  {
   "cell_type": "code",
   "execution_count": 7,
   "metadata": {},
   "outputs": [
    {
     "data": {
      "text/plain": [
       "array([4.0951, 4.0951, 4.0951])"
      ]
     },
     "execution_count": 7,
     "metadata": {},
     "output_type": "execute_result"
    }
   ],
   "source": [
    "experienced_returns"
   ]
  },
  {
   "cell_type": "code",
   "execution_count": 8,
   "metadata": {},
   "outputs": [],
   "source": [
    "next_states = batch['next_observation'][:, -1]\n",
    "next_states.shape\n",
    "\n",
    "next_state_discount = 0.9**(experienced_rewards.shape[1] + 1)"
   ]
  },
  {
   "cell_type": "code",
   "execution_count": 9,
   "metadata": {},
   "outputs": [
    {
     "data": {
      "text/plain": [
       "0.531441"
      ]
     },
     "execution_count": 9,
     "metadata": {},
     "output_type": "execute_result"
    }
   ],
   "source": [
    "next_state_discount"
   ]
  },
  {
   "cell_type": "code",
   "execution_count": null,
   "metadata": {},
   "outputs": [],
   "source": []
  }
 ],
 "metadata": {
  "kernelspec": {
   "display_name": "Python 3",
   "language": "python",
   "name": "python3"
  },
  "language_info": {
   "codemirror_mode": {
    "name": "ipython",
    "version": 3
   },
   "file_extension": ".py",
   "mimetype": "text/x-python",
   "name": "python",
   "nbconvert_exporter": "python",
   "pygments_lexer": "ipython3",
   "version": "3.5.2"
  }
 },
 "nbformat": 4,
 "nbformat_minor": 2
}
