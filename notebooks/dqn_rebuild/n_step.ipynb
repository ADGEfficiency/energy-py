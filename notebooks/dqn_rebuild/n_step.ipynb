{
 "cells": [
  {
   "cell_type": "code",
   "execution_count": 109,
   "metadata": {},
   "outputs": [],
   "source": [
    "from collections import defaultdict, deque, namedtuple\n",
    "\n",
    "from functools import partial\n",
    "\n",
    "import numpy as np\n",
    "\n",
    "from energy_py.agents.memory import Memory\n",
    "\n",
    "Experience = namedtuple('Experience', ['observation',\n",
    "                                       'action',\n",
    "                                       'reward',\n",
    "                                       'next_observation',\n",
    "                                       'done'])\n",
    "\n",
    "class HistoryMemory(Memory):\n",
    "    def __init__(self, size, n_step, obs_shape, action_shape):\n",
    "        \n",
    "        super().__init__(size, obs_shape, action_shape)\n",
    "        self.n_step = n_step\n",
    "        \n",
    "        self.buffer = defaultdict(partial(deque, maxlen=self.n_step))\n",
    "    \n",
    "        self.experiences = deque(maxlen=self.size)\n",
    "        \n",
    "    def remember(self, o, a, r, next_o, done):\n",
    "        \n",
    "        self.buffer['observation'].append(\n",
    "            np.array(o).reshape(1, *self.shapes['observations']))\n",
    "        \n",
    "        self.buffer['action'].append(\n",
    "            np.array(a).reshape(1, *self.shapes['actions']))        \n",
    "        \n",
    "        self.buffer['reward'].append(\n",
    "            np.array(r).reshape(1, *self.shapes['rewards']))\n",
    "        \n",
    "        self.buffer['next_observation'].append(\n",
    "            np.array(next_o).reshape(1, *self.shapes['next_observations']))\n",
    "        \n",
    "        self.buffer['done'].append(\n",
    "            np.array(done).reshape(1, *self.shapes['done']))\n",
    "        \n",
    "        if len(self.buffer['observation']) >= self.n_step:\n",
    "            \n",
    "            experience_dims = []\n",
    "            for field in Experience._fields:\n",
    "                buffer = self.buffer[field]\n",
    "                hist = np.array(buffer).reshape(1, self.n_step, *buffer[0].shape[1:])\n",
    "                experience_dims.append(hist)  \n",
    "                \n",
    "            experience = Experience(*experience_dims)\n",
    "            self.experiences.append(experience)\n",
    "    \n",
    "    def sample(self, batch_size):\n",
    "        \"\"\"\n",
    "        \"\"\"\n",
    "        experiences = self.experiences\n",
    "        out = {}\n",
    "        for field in Experience._fields:\n",
    "            arr = np.array([getattr(e, field) for e in experiences])\n",
    "            out[field] = arr.reshape(-1, self.n_step, *self.shapes[field])\n",
    "            \n",
    "        return out"
   ]
  },
  {
   "cell_type": "code",
   "execution_count": 110,
   "metadata": {},
   "outputs": [
    {
     "name": "stdout",
     "output_type": "stream",
     "text": [
      "\u001b[33mWARN: gym.spaces.Box autodetected dtype as <class 'numpy.float32'>. Please provide explicit dtype.\u001b[0m\n"
     ]
    }
   ],
   "source": [
    "mem = HistoryMemory(10, n_step=5, obs_shape=(4,), action_shape=(1,))\n",
    "\n",
    "import gym\n",
    "\n",
    "e = gym.make('CartPole-v0')\n",
    "o = e.reset()\n",
    "for step in range(10):\n",
    "    act = e.action_space.sample()\n",
    "    next_o, r, done, _ = e.step(act)\n",
    "    mem.remember(o, act, r, next_o, done)\n",
    "    o = next_o"
   ]
  },
  {
   "cell_type": "code",
   "execution_count": 111,
   "metadata": {},
   "outputs": [
    {
     "ename": "KeyError",
     "evalue": "'observation'",
     "output_type": "error",
     "traceback": [
      "\u001b[0;31m---------------------------------------------------------------------------\u001b[0m",
      "\u001b[0;31mKeyError\u001b[0m                                  Traceback (most recent call last)",
      "\u001b[0;32m<ipython-input-111-ec9ea10761e9>\u001b[0m in \u001b[0;36m<module>\u001b[0;34m()\u001b[0m\n\u001b[0;32m----> 1\u001b[0;31m \u001b[0msample\u001b[0m \u001b[0;34m=\u001b[0m \u001b[0mmem\u001b[0m\u001b[0;34m.\u001b[0m\u001b[0msample\u001b[0m\u001b[0;34m(\u001b[0m\u001b[0;36m2\u001b[0m\u001b[0;34m)\u001b[0m\u001b[0;34m\u001b[0m\u001b[0m\n\u001b[0m",
      "\u001b[0;32m<ipython-input-109-3f803be6edb3>\u001b[0m in \u001b[0;36msample\u001b[0;34m(self, batch_size)\u001b[0m\n\u001b[1;32m     58\u001b[0m         \u001b[0;32mfor\u001b[0m \u001b[0mfield\u001b[0m \u001b[0;32min\u001b[0m \u001b[0mExperience\u001b[0m\u001b[0;34m.\u001b[0m\u001b[0m_fields\u001b[0m\u001b[0;34m:\u001b[0m\u001b[0;34m\u001b[0m\u001b[0m\n\u001b[1;32m     59\u001b[0m             \u001b[0marr\u001b[0m \u001b[0;34m=\u001b[0m \u001b[0mnp\u001b[0m\u001b[0;34m.\u001b[0m\u001b[0marray\u001b[0m\u001b[0;34m(\u001b[0m\u001b[0;34m[\u001b[0m\u001b[0mgetattr\u001b[0m\u001b[0;34m(\u001b[0m\u001b[0me\u001b[0m\u001b[0;34m,\u001b[0m \u001b[0mfield\u001b[0m\u001b[0;34m)\u001b[0m \u001b[0;32mfor\u001b[0m \u001b[0me\u001b[0m \u001b[0;32min\u001b[0m \u001b[0mexperiences\u001b[0m\u001b[0;34m]\u001b[0m\u001b[0;34m)\u001b[0m\u001b[0;34m\u001b[0m\u001b[0m\n\u001b[0;32m---> 60\u001b[0;31m             \u001b[0mout\u001b[0m\u001b[0;34m[\u001b[0m\u001b[0mfield\u001b[0m\u001b[0;34m]\u001b[0m \u001b[0;34m=\u001b[0m \u001b[0marr\u001b[0m\u001b[0;34m.\u001b[0m\u001b[0mreshape\u001b[0m\u001b[0;34m(\u001b[0m\u001b[0;34m-\u001b[0m\u001b[0;36m1\u001b[0m\u001b[0;34m,\u001b[0m \u001b[0mself\u001b[0m\u001b[0;34m.\u001b[0m\u001b[0mn_step\u001b[0m\u001b[0;34m,\u001b[0m \u001b[0;34m*\u001b[0m\u001b[0mself\u001b[0m\u001b[0;34m.\u001b[0m\u001b[0mshapes\u001b[0m\u001b[0;34m[\u001b[0m\u001b[0mfield\u001b[0m\u001b[0;34m]\u001b[0m\u001b[0;34m)\u001b[0m\u001b[0;34m\u001b[0m\u001b[0m\n\u001b[0m\u001b[1;32m     61\u001b[0m \u001b[0;34m\u001b[0m\u001b[0m\n\u001b[1;32m     62\u001b[0m         \u001b[0;32mreturn\u001b[0m \u001b[0mout\u001b[0m\u001b[0;34m\u001b[0m\u001b[0m\n",
      "\u001b[0;31mKeyError\u001b[0m: 'observation'"
     ]
    }
   ],
   "source": [
    "sample = mem.sample(2)"
   ]
  },
  {
   "cell_type": "code",
   "execution_count": 108,
   "metadata": {},
   "outputs": [],
   "source": [
    "#  what we actually want from an n_step return memory is\n",
    "train_obs = [exp[0] for exp in sample['observation']]"
   ]
  },
  {
   "cell_type": "code",
   "execution_count": 104,
   "metadata": {},
   "outputs": [
    {
     "data": {
      "text/plain": [
       "(6, 1, 5, 4)"
      ]
     },
     "execution_count": 104,
     "metadata": {},
     "output_type": "execute_result"
    }
   ],
   "source": [
    "sample['observation'].shape"
   ]
  },
  {
   "cell_type": "code",
   "execution_count": null,
   "metadata": {},
   "outputs": [],
   "source": []
  }
 ],
 "metadata": {
  "kernelspec": {
   "display_name": "Python 3",
   "language": "python",
   "name": "python3"
  },
  "language_info": {
   "codemirror_mode": {
    "name": "ipython",
    "version": 3
   },
   "file_extension": ".py",
   "mimetype": "text/x-python",
   "name": "python",
   "nbconvert_exporter": "python",
   "pygments_lexer": "ipython3",
   "version": "3.5.2"
  }
 },
 "nbformat": 4,
 "nbformat_minor": 2
}
