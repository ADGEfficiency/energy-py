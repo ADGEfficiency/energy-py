{
 "cells": [
  {
   "cell_type": "markdown",
   "metadata": {},
   "source": [
    "Inspired by open ai baselines deepq\n",
    "\n",
    "TODO Bayesian w/ dropout!\n",
    "\n",
    "https://medium.com/emergent-future/simple-reinforcement-learning-with-tensorflow-part-7-action-selection-strategies-for-exploration-d3a97b7cceaf\n",
    "\n",
    "TODO - deep-rl-tensorflow networks (dueling, plus the structure in network.py (Network class)"
   ]
  },
  {
   "cell_type": "code",
   "execution_count": 1,
   "metadata": {},
   "outputs": [
    {
     "name": "stderr",
     "output_type": "stream",
     "text": [
      "/Users/adam/anaconda3/envs/energy_py/lib/python3.5/importlib/_bootstrap.py:222: RuntimeWarning: compiletime version 3.6 of module 'tensorflow.python.framework.fast_tensor_util' does not match runtime version 3.5\n",
      "  return f(*args, **kwds)\n",
      "/Users/adam/anaconda3/envs/energy_py/lib/python3.5/site-packages/h5py/__init__.py:36: FutureWarning: Conversion of the second argument of issubdtype from `float` to `np.floating` is deprecated. In future, it will be treated as `np.float64 == np.dtype(float).type`.\n",
      "  from ._conv import register_converters as _register_converters\n"
     ]
    }
   ],
   "source": [
    "import numpy as np\n",
    "import tensorflow as tf\n",
    "\n",
    "from policies import softmax_policy"
   ]
  },
  {
   "cell_type": "code",
   "execution_count": 2,
   "metadata": {},
   "outputs": [],
   "source": [
    "hiddens = (50, 50)\n",
    "observation = tf.placeholder(shape=(None,2), dtype=tf.float32)\n",
    "num_actions = 3\n",
    "scope = 'online'"
   ]
  },
  {
   "cell_type": "code",
   "execution_count": 3,
   "metadata": {},
   "outputs": [],
   "source": [
    "#  setup for testing\n",
    "num_samples = 5\n",
    "num_actions = 3\n",
    "act_dims = 4\n",
    "\n",
    "test_q_values = np.zeros(num_samples * num_actions).reshape(num_samples, -1)\n",
    "test_q_values[0, 1] = 1\n",
    "test_q_values[1, 2] = 1\n",
    "test_q_values[2, 0] = 1\n",
    "\n",
    "discrete_actions = np.array(\n",
    "    [np.random.uniform(size=act_dims)\n",
    "     for _ in range(num_samples)]).reshape(num_samples, -1)\n"
   ]
  },
  {
   "cell_type": "code",
   "execution_count": 4,
   "metadata": {},
   "outputs": [],
   "source": [
    "    with tf.Session() as sess:\n",
    "        sess.run(tf.global_variables_initializer())\n",
    "        \n",
    "        def run_softmax_policy(q_vals=test_q_values, temp=1.0):\n",
    "            q_values = tf.placeholder(shape=(None, num_actions), dtype=tf.float32)\n",
    "            \n",
    "            temperature = tf.placeholder(shape=(),\n",
    "                                         dtype=tf.float32,\n",
    "                                         name='softmax_temperature')\n",
    "            \n",
    "            temperature, probs, entropy, samples = softmax_policy(q_values, temperature)\n",
    "            \n",
    "            return sess.run([temperature, probs, entropy, samples],\n",
    "                             {q_values: q_vals,\n",
    "                              temperature: temp})\n",
    "        \n",
    "        t, p, e, s = run_softmax_policy()\n"
   ]
  },
  {
   "cell_type": "code",
   "execution_count": 5,
   "metadata": {},
   "outputs": [
    {
     "data": {
      "text/plain": [
       "array([[-1.5514446 , -0.55144465, -1.5514446 ],\n",
       "       [-1.5514448 , -1.5514448 , -0.55144477],\n",
       "       [-0.55144465, -1.5514446 , -1.5514446 ],\n",
       "       [-1.0986123 , -1.0986123 , -1.0986123 ],\n",
       "       [-1.0986123 , -1.0986123 , -1.0986123 ]], dtype=float32)"
      ]
     },
     "execution_count": 5,
     "metadata": {},
     "output_type": "execute_result"
    }
   ],
   "source": [
    "p"
   ]
  },
  {
   "cell_type": "code",
   "execution_count": null,
   "metadata": {},
   "outputs": [],
   "source": [
    "#  working on select action from list of arrays\n"
   ]
  }
 ],
 "metadata": {
  "kernelspec": {
   "display_name": "Python 3",
   "language": "python",
   "name": "python3"
  },
  "language_info": {
   "codemirror_mode": {
    "name": "ipython",
    "version": 3
   },
   "file_extension": ".py",
   "mimetype": "text/x-python",
   "name": "python",
   "nbconvert_exporter": "python",
   "pygments_lexer": "ipython3",
   "version": "3.5.2"
  }
 },
 "nbformat": 4,
 "nbformat_minor": 2
}
