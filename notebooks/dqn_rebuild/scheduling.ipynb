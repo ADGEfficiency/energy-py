{
 "cells": [
  {
   "cell_type": "markdown",
   "metadata": {},
   "source": [
    "Going to all all scheduling in tensorflow"
   ]
  },
  {
   "cell_type": "code",
   "execution_count": 1,
   "metadata": {},
   "outputs": [
    {
     "name": "stderr",
     "output_type": "stream",
     "text": [
      "/Users/adam/anaconda3/envs/energy_py/lib/python3.5/importlib/_bootstrap.py:222: RuntimeWarning: compiletime version 3.6 of module 'tensorflow.python.framework.fast_tensor_util' does not match runtime version 3.5\n",
      "  return f(*args, **kwds)\n",
      "/Users/adam/anaconda3/envs/energy_py/lib/python3.5/site-packages/h5py/__init__.py:36: FutureWarning: Conversion of the second argument of issubdtype from `float` to `np.floating` is deprecated. In future, it will be treated as `np.float64 == np.dtype(float).type`.\n",
      "  from ._conv import register_converters as _register_converters\n"
     ]
    }
   ],
   "source": [
    "import tensorflow as tf"
   ]
  },
  {
   "cell_type": "code",
   "execution_count": 2,
   "metadata": {},
   "outputs": [],
   "source": [
    "# decaying learning rate\n",
    "# deep RL tensorfow had an example to copy hyperparams from\n",
    "\n",
    "#  should step be a tf variable or fed from the outside?\n",
    "step = tf.placeholder(shape=(), dtype=tf.int32)\n",
    "\n",
    "learning_rate_decay = tf.train.exponential_decay(\n",
    "    0.01,\n",
    "    global_step=step,\n",
    "    decay_steps=10,\n",
    "    decay_rate=0.96,\n",
    "    staircase=False,\n",
    "    name='learning_rate_decay'\n",
    "    )"
   ]
  },
  {
   "cell_type": "code",
   "execution_count": 3,
   "metadata": {},
   "outputs": [
    {
     "name": "stdout",
     "output_type": "stream",
     "text": [
      "0.01\n",
      "0.009959261\n",
      "0.009918688\n",
      "0.009878281\n",
      "0.009838038\n",
      "0.009797959\n",
      "0.009758043\n",
      "0.00971829\n",
      "0.009678698\n",
      "0.009639269\n"
     ]
    }
   ],
   "source": [
    "with tf.Session() as sess:\n",
    "    for s in range(10):\n",
    "        lr = sess.run(learning_rate_decay, {step: s})\n",
    "        print(lr)"
   ]
  },
  {
   "cell_type": "code",
   "execution_count": 4,
   "metadata": {},
   "outputs": [],
   "source": [
    "epsilon_decay = tf.train.polynomial_decay(\n",
    "    learning_rate=0.1,\n",
    "    global_step=step,\n",
    "    decay_steps=10,\n",
    "    end_learning_rate=1.0,\n",
    "    power=1.0,\n",
    "    name='epsilon_decay'\n",
    ")"
   ]
  },
  {
   "cell_type": "code",
   "execution_count": 5,
   "metadata": {},
   "outputs": [
    {
     "name": "stdout",
     "output_type": "stream",
     "text": [
      "0.100000024\n",
      "0.19000006\n",
      "0.28000003\n",
      "0.37\n",
      "0.45999998\n",
      "0.55\n",
      "0.64000005\n",
      "0.73\n",
      "0.82000005\n",
      "0.91\n",
      "1.0\n",
      "1.0\n",
      "1.0\n",
      "1.0\n",
      "1.0\n",
      "1.0\n",
      "1.0\n",
      "1.0\n",
      "1.0\n",
      "1.0\n"
     ]
    }
   ],
   "source": [
    "with tf.Session() as sess:\n",
    "    for s in range(20):\n",
    "        eps = sess.run(epsilon_decay, {step: s})\n",
    "        print(eps)"
   ]
  },
  {
   "cell_type": "code",
   "execution_count": null,
   "metadata": {},
   "outputs": [],
   "source": []
  }
 ],
 "metadata": {
  "kernelspec": {
   "display_name": "Python 3",
   "language": "python",
   "name": "python3"
  },
  "language_info": {
   "codemirror_mode": {
    "name": "ipython",
    "version": 3
   },
   "file_extension": ".py",
   "mimetype": "text/x-python",
   "name": "python",
   "nbconvert_exporter": "python",
   "pygments_lexer": "ipython3",
   "version": "3.5.2"
  }
 },
 "nbformat": 4,
 "nbformat_minor": 2
}
