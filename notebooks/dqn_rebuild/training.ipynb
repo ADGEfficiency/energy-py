{
 "cells": [
  {
   "cell_type": "markdown",
   "metadata": {},
   "source": [
    "Code to train the network"
   ]
  },
  {
   "cell_type": "code",
   "execution_count": 1,
   "metadata": {},
   "outputs": [],
   "source": [
    "num_actions = 4"
   ]
  },
  {
   "cell_type": "code",
   "execution_count": 2,
   "metadata": {},
   "outputs": [
    {
     "name": "stderr",
     "output_type": "stream",
     "text": [
      "/Users/adam/anaconda3/envs/energy_py/lib/python3.5/importlib/_bootstrap.py:222: RuntimeWarning: compiletime version 3.6 of module 'tensorflow.python.framework.fast_tensor_util' does not match runtime version 3.5\n",
      "  return f(*args, **kwds)\n",
      "/Users/adam/anaconda3/envs/energy_py/lib/python3.5/site-packages/h5py/__init__.py:36: FutureWarning: Conversion of the second argument of issubdtype from `float` to `np.floating` is deprecated. In future, it will be treated as `np.float64 == np.dtype(float).type`.\n",
      "  from ._conv import register_converters as _register_converters\n"
     ]
    }
   ],
   "source": [
    "import numpy as np\n",
    "import tensorflow as tf"
   ]
  },
  {
   "cell_type": "code",
   "execution_count": 3,
   "metadata": {},
   "outputs": [],
   "source": [
    "num_actions = 5"
   ]
  },
  {
   "cell_type": "code",
   "execution_count": 17,
   "metadata": {},
   "outputs": [],
   "source": [
    "q_vals = tf.placeholder(shape=(None, num_actions), dtype=tf.float32)\n",
    "\n",
    "selected_action = tf.placeholder(shape=(None), dtype=tf.int64)\n",
    "\n",
    "q_selected_action = tf.reduce_sum(q_vals * tf.squeeze(tf.one_hot(selected_action, num_actions)), \n",
    "                                  reduction_indices=1,\n",
    "                                  keep_dims=True)\n",
    "\n",
    "# . TODO compare with and without squeeze"
   ]
  },
  {
   "cell_type": "code",
   "execution_count": 18,
   "metadata": {},
   "outputs": [],
   "source": [
    "qv = np.arange(15).reshape(3, -1)\n",
    "a = np.random.randint(low=0, high=num_actions-1, size=(3,1))\n",
    "\n",
    "with tf.Session() as sess:\n",
    "    q_vals = sess.run(q_selected_action,\n",
    "                      {q_vals: qv,\n",
    "                       selected_action: a})"
   ]
  },
  {
   "cell_type": "code",
   "execution_count": 19,
   "metadata": {},
   "outputs": [
    {
     "data": {
      "text/plain": [
       "array([[ 0,  1,  2,  3,  4],\n",
       "       [ 5,  6,  7,  8,  9],\n",
       "       [10, 11, 12, 13, 14]])"
      ]
     },
     "execution_count": 19,
     "metadata": {},
     "output_type": "execute_result"
    }
   ],
   "source": [
    "qv"
   ]
  },
  {
   "cell_type": "code",
   "execution_count": 20,
   "metadata": {},
   "outputs": [
    {
     "data": {
      "text/plain": [
       "array([[2],\n",
       "       [2],\n",
       "       [2]])"
      ]
     },
     "execution_count": 20,
     "metadata": {},
     "output_type": "execute_result"
    }
   ],
   "source": [
    "a"
   ]
  },
  {
   "cell_type": "code",
   "execution_count": 21,
   "metadata": {},
   "outputs": [
    {
     "data": {
      "text/plain": [
       "array([[ 2.],\n",
       "       [ 7.],\n",
       "       [12.]], dtype=float32)"
      ]
     },
     "execution_count": 21,
     "metadata": {},
     "output_type": "execute_result"
    }
   ],
   "source": [
    "q_vals"
   ]
  },
  {
   "cell_type": "markdown",
   "metadata": {},
   "source": [
    "#  Second method for selecting q values for actions\n",
    "\n",
    "Involves using a two dimensional index\n",
    "\n",
    "https://github.com/carpedm20/deep-rl-tensorflow does this\n",
    "```\n",
    "self.outputs_idx = tf.placeholder('int32', [None, None], 'outputs_idx')                                                                      \n",
    "self.outputs_with_idx = tf.gather_nd(self.outputs, self.outputs_idx)    \n",
    "\n",
    "\n",
    "self.actions = tf.placeholder('int64', [None], name='action')                                     \n",
    "\n",
    "actions_one_hot = tf.one_hot(self.actions, self.env.action_size, 1.0, 0.0, name='action_one_hot')\n",
    "\n",
    "pred_q = tf.reduce_sum(self.pred_network.outputs * actions_one_hot, reduction_indices=1, name='q_acted')\n",
    "\n",
    "```"
   ]
  },
  {
   "cell_type": "markdown",
   "metadata": {},
   "source": [
    "# Masking q values\n",
    "\n",
    "Used for terminal states"
   ]
  },
  {
   "cell_type": "code",
   "execution_count": 9,
   "metadata": {},
   "outputs": [],
   "source": [
    "cond = tf.placeholder(shape=(None), dtype=tf.bool)\n",
    "i = tf.placeholder(shape=(None), dtype=tf.float32)  \n",
    "\n",
    "zeros = tf.zeros_like(i)\n",
    "new_tensor = tf.where(condition=cond, x=i, y=zeros)"
   ]
  },
  {
   "cell_type": "code",
   "execution_count": 10,
   "metadata": {},
   "outputs": [],
   "source": [
    "with tf.Session() as sess:\n",
    "    o = sess.run(new_tensor,\n",
    "                {cond: np.array([True, False, True]),\n",
    "                 i: q_vals})"
   ]
  },
  {
   "cell_type": "code",
   "execution_count": 11,
   "metadata": {},
   "outputs": [
    {
     "data": {
      "text/plain": [
       "array([ 1.,  0., 13.], dtype=float32)"
      ]
     },
     "execution_count": 11,
     "metadata": {},
     "output_type": "execute_result"
    }
   ],
   "source": [
    "o"
   ]
  },
  {
   "cell_type": "code",
   "execution_count": 12,
   "metadata": {},
   "outputs": [],
   "source": [
    "# . compare this with the baselines approach for speed"
   ]
  },
  {
   "cell_type": "markdown",
   "metadata": {},
   "source": [
    "# Training and learning"
   ]
  },
  {
   "cell_type": "code",
   "execution_count": 22,
   "metadata": {},
   "outputs": [
    {
     "ename": "SyntaxError",
     "evalue": "invalid syntax (<ipython-input-22-238f6388c9c3>, line 9)",
     "output_type": "error",
     "traceback": [
      "\u001b[0;36m  File \u001b[0;32m\"<ipython-input-22-238f6388c9c3>\"\u001b[0;36m, line \u001b[0;32m9\u001b[0m\n\u001b[0;31m    if gradient_norm_clip: (default of 5?)\u001b[0m\n\u001b[0m                                     ^\u001b[0m\n\u001b[0;31mSyntaxError\u001b[0m\u001b[0;31m:\u001b[0m invalid syntax\n"
     ]
    }
   ],
   "source": [
    "#  need to go through baselines again\n",
    "\n",
    "if double_q:\n",
    "    online_action = tf.argmax(online_q_values, axis=1)\n",
    "    \n",
    "    target_q_values = target_q_values * tf.squeeze(tf.one_hot(online_action, num_actions))\n",
    "    \n",
    "    max_q_next_state = tf.reduce_sum(target_q_values, \n",
    "                                     reduction_indices=1,\n",
    "                                     keep_dims=True)\n",
    "else:\n",
    "    max_q_next_state = tf.reduce_max(target_q_values, reduction_indices=1, keep_dims=True)\n",
    "\n",
    "target = reward + self.gamma * max_q_next_state\n",
    "\n",
    "# error clipping TODO (Deep-rl-tensorflow)\n",
    "td_error = q_selected - tf.stop_gradient(target)\n",
    "loss = tf.huber_loss(td_error, name='loss')\n",
    "weighted_error = tf.multiply(priority_weights, error)\n",
    "\n",
    "# learning_rate_decay TODO (deep-rl-tenso)\n",
    "\n",
    "optimizer = \n",
    "\n",
    "if gradient_norm_clip:\n",
    "    grads_and_vars = optimizer.compute_gradients(loss)\n",
    "    \n",
    "    for idx, (grad, var) in enumerate(grads_and_vars):\n",
    "        \n",
    "        if grad is not None:\n",
    "            grads_and_vars[idx] = (tf.clip_by_norm(grad, gradient_norm_clip), var)\n",
    "        \n",
    "        train_op = optimizer.apply_gradients(grads_and_vars)\n",
    "\n",
    "        else:\n",
    "    train_op = optimizer.minimize(loss)\n",
    "\n"
   ]
  },
  {
   "cell_type": "code",
   "execution_count": null,
   "metadata": {},
   "outputs": [],
   "source": [
    "# target net copy ops - happy with the method I use already\n",
    "# key is to decide whether to make the function completely separate from the agent\n",
    "\n",
    "# ie to just accept two networks, or one, or none etc\n",
    "\n",
    "tf.group(*copy_ops, scope='copy_op')"
   ]
  }
 ],
 "metadata": {
  "kernelspec": {
   "display_name": "Python 3",
   "language": "python",
   "name": "python3"
  },
  "language_info": {
   "codemirror_mode": {
    "name": "ipython",
    "version": 3
   },
   "file_extension": ".py",
   "mimetype": "text/x-python",
   "name": "python",
   "nbconvert_exporter": "python",
   "pygments_lexer": "ipython3",
   "version": "3.5.2"
  }
 },
 "nbformat": 4,
 "nbformat_minor": 2
}
