{
 "cells": [
  {
   "cell_type": "code",
   "execution_count": 1,
   "metadata": {},
   "outputs": [
    {
     "name": "stderr",
     "output_type": "stream",
     "text": [
      "/Users/adam/anaconda3/envs/energy_py/lib/python3.5/importlib/_bootstrap.py:222: RuntimeWarning: compiletime version 3.6 of module 'tensorflow.python.framework.fast_tensor_util' does not match runtime version 3.5\n",
      "  return f(*args, **kwds)\n",
      "/Users/adam/anaconda3/envs/energy_py/lib/python3.5/site-packages/h5py/__init__.py:36: FutureWarning: Conversion of the second argument of issubdtype from `float` to `np.floating` is deprecated. In future, it will be treated as `np.float64 == np.dtype(float).type`.\n",
      "  from ._conv import register_converters as _register_converters\n"
     ]
    }
   ],
   "source": [
    "import numpy as np\n",
    "\n",
    "import tensorflow as tf"
   ]
  },
  {
   "cell_type": "code",
   "execution_count": 2,
   "metadata": {},
   "outputs": [],
   "source": [
    "obs = tf.placeholder(shape=(None, 5), dtype=tf.float32)\n",
    "next_obs = tf.placeholder(shape=(None, 5), dtype=tf.float32)\n",
    "\n",
    "o_p = np.arange(5).reshape(1, 5)\n",
    "no_p = np.arange(5).reshape(1, 5)"
   ]
  },
  {
   "cell_type": "code",
   "execution_count": 3,
   "metadata": {},
   "outputs": [],
   "source": [
    "def make_layer(scope, \n",
    "               input_tensor, \n",
    "               input_shape, \n",
    "               output_nodes):\n",
    "    \n",
    "    input_weights = tf.get_variable(\n",
    "        'weights',\n",
    "        shape=(5, output_nodes),\n",
    "        initializer=tf.contrib.layers.xavier_initializer()\n",
    "    )\n",
    "\n",
    "    input_bias = tf.get_variable(\n",
    "        'input_bias',\n",
    "        shape=(output_nodes),\n",
    "        initializer=tf.zeros_initializer()\n",
    "    )\n",
    "\n",
    "    layer = tf.add(\n",
    "        tf.matmul(input_tensor, input_weights),\n",
    "        input_bias,\n",
    "        name='input_layer'\n",
    "    )\n",
    "        \n",
    "    return tf.nn.relu(layer)"
   ]
  },
  {
   "cell_type": "code",
   "execution_count": 4,
   "metadata": {},
   "outputs": [
    {
     "name": "stdout",
     "output_type": "stream",
     "text": [
      "WARNING:tensorflow:From /Users/adam/anaconda3/envs/energy_py/lib/python3.5/site-packages/tensorflow/contrib/learn/python/learn/datasets/base.py:198: retry (from tensorflow.contrib.learn.python.learn.datasets.base) is deprecated and will be removed in a future version.\n",
      "Instructions for updating:\n",
      "Use the retry module or similar alternatives.\n"
     ]
    }
   ],
   "source": [
    "with tf.variable_scope('online_networks') as scope:\n",
    "    online = make_layer('online', obs, (5,), 10)\n",
    "    \n",
    "    scope.reuse_variables()\n",
    "    \n",
    "    online_double_q = make_layer('online_double_q', next_obs, (5,), 10)\n",
    "\n",
    "target = make_layer('target', obs, (5,), 10)"
   ]
  },
  {
   "cell_type": "code",
   "execution_count": 5,
   "metadata": {},
   "outputs": [],
   "source": [
    "with tf.Session() as sess:\n",
    "    sess.run(tf.global_variables_initializer())\n",
    "    \n",
    "    o = sess.run(online, {obs: o_p})\n",
    "    \n",
    "    d = sess.run(online_double_q, {next_obs: no_p})\n",
    "    \n",
    "    t = sess.run(target, {obs: o_p})"
   ]
  },
  {
   "cell_type": "code",
   "execution_count": 6,
   "metadata": {},
   "outputs": [
    {
     "data": {
      "text/plain": [
       "array([[0.        , 0.        , 1.5633994 , 0.        , 0.        ,\n",
       "        0.        , 1.4100325 , 0.        , 1.789311  , 0.94808316]],\n",
       "      dtype=float32)"
      ]
     },
     "execution_count": 6,
     "metadata": {},
     "output_type": "execute_result"
    }
   ],
   "source": [
    "o"
   ]
  },
  {
   "cell_type": "code",
   "execution_count": 7,
   "metadata": {},
   "outputs": [
    {
     "data": {
      "text/plain": [
       "array([[0.        , 0.        , 1.5633994 , 0.        , 0.        ,\n",
       "        0.        , 1.4100325 , 0.        , 1.789311  , 0.94808316]],\n",
       "      dtype=float32)"
      ]
     },
     "execution_count": 7,
     "metadata": {},
     "output_type": "execute_result"
    }
   ],
   "source": [
    "d"
   ]
  },
  {
   "cell_type": "code",
   "execution_count": 8,
   "metadata": {},
   "outputs": [
    {
     "data": {
      "text/plain": [
       "array([[0.        , 0.        , 1.8985631 , 0.2113083 , 3.6537354 ,\n",
       "        0.17140895, 0.        , 0.        , 1.0960298 , 0.7441188 ]],\n",
       "      dtype=float32)"
      ]
     },
     "execution_count": 8,
     "metadata": {},
     "output_type": "execute_result"
    }
   ],
   "source": [
    "t"
   ]
  },
  {
   "cell_type": "code",
   "execution_count": null,
   "metadata": {},
   "outputs": [],
   "source": []
  }
 ],
 "metadata": {
  "kernelspec": {
   "display_name": "Python 3",
   "language": "python",
   "name": "python3"
  },
  "language_info": {
   "codemirror_mode": {
    "name": "ipython",
    "version": 3
   },
   "file_extension": ".py",
   "mimetype": "text/x-python",
   "name": "python",
   "nbconvert_exporter": "python",
   "pygments_lexer": "ipython3",
   "version": "3.5.2"
  }
 },
 "nbformat": 4,
 "nbformat_minor": 2
}
