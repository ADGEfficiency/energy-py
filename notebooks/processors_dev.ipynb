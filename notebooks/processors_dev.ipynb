{
 "cells": [
  {
   "cell_type": "markdown",
   "metadata": {},
   "source": [
    "Purpose is to develop the processor objects.  Main reason for using an object is so that we can keep state (ie keep track of averages etc)"
   ]
  },
  {
   "cell_type": "code",
   "execution_count": 1,
   "metadata": {},
   "outputs": [],
   "source": [
    "import numpy as np"
   ]
  },
  {
   "cell_type": "code",
   "execution_count": 2,
   "metadata": {},
   "outputs": [],
   "source": [
    "class SimpleStandardizer(object):\n",
    "    def __init__(self):\n",
    "        pass\n",
    "\n",
    "    def transform(self, data):\n",
    "        \"\"\"\n",
    "        The SimpleStandardizer transforms the data using the mean and standard\n",
    "        deviation across the batch it is processing\n",
    "        \"\"\"\n",
    "        assert len(data.shape) == 2\n",
    "        return (data - data.mean(axis=0)) / data.std(axis=0)\n"
   ]
  },
  {
   "cell_type": "code",
   "execution_count": 3,
   "metadata": {},
   "outputs": [],
   "source": [
    "standardizer = SimpleStandardizer()"
   ]
  },
  {
   "cell_type": "code",
   "execution_count": 4,
   "metadata": {},
   "outputs": [
    {
     "data": {
      "text/plain": [
       "(1, 3)"
      ]
     },
     "execution_count": 4,
     "metadata": {},
     "output_type": "execute_result"
    }
   ],
   "source": [
    "#  first try an array with a single sample\n",
    "#  in energy_py all arrays have the shape (num_samples, array_length)\n",
    "#  with array_length using being the observation array length or the number of actions etc\n",
    "state = np.array([1,2,3]).reshape(1, -1)\n",
    "state.shape"
   ]
  },
  {
   "cell_type": "code",
   "execution_count": 5,
   "metadata": {},
   "outputs": [
    {
     "name": "stderr",
     "output_type": "stream",
     "text": [
      "/home/adam/anaconda3/envs/energy_py_dev/lib/python3.5/site-packages/ipykernel_launcher.py:11: RuntimeWarning: invalid value encountered in true_divide\n",
      "  # This is added back by InteractiveShellApp.init_path()\n"
     ]
    }
   ],
   "source": [
    "processed = standardizer.transform(state)"
   ]
  },
  {
   "cell_type": "code",
   "execution_count": 29,
   "metadata": {},
   "outputs": [
    {
     "data": {
      "text/plain": [
       "array([[1, 2, 3],\n",
       "       [4, 5, 6],\n",
       "       [7, 8, 9],\n",
       "       [0, 0, 0]])"
      ]
     },
     "execution_count": 29,
     "metadata": {},
     "output_type": "execute_result"
    }
   ],
   "source": [
    "#  now lets try an array with multiple observations\n",
    "states = np.array([[1,2,3],[4,5,6], [7,8,9], [0,0,0]]).reshape(4,3)\n",
    "states"
   ]
  },
  {
   "cell_type": "code",
   "execution_count": 30,
   "metadata": {},
   "outputs": [
    {
     "name": "stdout",
     "output_type": "stream",
     "text": [
      "[ 3.    3.75  4.5 ] (3,)\n"
     ]
    }
   ],
   "source": [
    "_means = states.mean(axis=0)\n",
    "print(_means, _means.shape)"
   ]
  },
  {
   "cell_type": "code",
   "execution_count": 31,
   "metadata": {},
   "outputs": [
    {
     "name": "stdout",
     "output_type": "stream",
     "text": [
      "[ 2.73861279  3.03108891  3.35410197] (3,)\n"
     ]
    }
   ],
   "source": [
    "_std = states.std(axis=0)\n",
    "print(_std, _std.shape)"
   ]
  },
  {
   "cell_type": "code",
   "execution_count": 32,
   "metadata": {},
   "outputs": [
    {
     "data": {
      "text/plain": [
       "array([[-0.73029674, -0.57735027, -0.4472136 ],\n",
       "       [ 0.36514837,  0.41239305,  0.4472136 ],\n",
       "       [ 1.46059349,  1.40213637,  1.34164079],\n",
       "       [-1.09544512, -1.23717915, -1.34164079]])"
      ]
     },
     "execution_count": 32,
     "metadata": {},
     "output_type": "execute_result"
    }
   ],
   "source": [
    "_proc = (states - _means) / _std\n",
    "_proc"
   ]
  },
  {
   "cell_type": "code",
   "execution_count": 33,
   "metadata": {},
   "outputs": [
    {
     "data": {
      "text/plain": [
       "array([[-0.73029674, -0.57735027, -0.4472136 ],\n",
       "       [ 0.36514837,  0.41239305,  0.4472136 ],\n",
       "       [ 1.46059349,  1.40213637,  1.34164079],\n",
       "       [-1.09544512, -1.23717915, -1.34164079]])"
      ]
     },
     "execution_count": 33,
     "metadata": {},
     "output_type": "execute_result"
    }
   ],
   "source": [
    "#  now we try to use the object\n",
    "standardizer = SimpleStandardizer()\n",
    "processed_states = standardizer.transform(states)\n",
    "processed_states"
   ]
  },
  {
   "cell_type": "code",
   "execution_count": 34,
   "metadata": {},
   "outputs": [
    {
     "data": {
      "text/plain": [
       "array([  0.00000000e+00,   5.55111512e-17,   0.00000000e+00])"
      ]
     },
     "execution_count": 34,
     "metadata": {},
     "output_type": "execute_result"
    }
   ],
   "source": [
    "processed_states.mean(axis=0)"
   ]
  },
  {
   "cell_type": "code",
   "execution_count": 35,
   "metadata": {},
   "outputs": [
    {
     "data": {
      "text/plain": [
       "array([ 1.,  1.,  1.])"
      ]
     },
     "execution_count": 35,
     "metadata": {},
     "output_type": "execute_result"
    }
   ],
   "source": [
    "processed_states.std(axis=0)"
   ]
  },
  {
   "cell_type": "markdown",
   "metadata": {},
   "source": [
    "Now we try a more complex class that keeps track of statistics"
   ]
  },
  {
   "cell_type": "code",
   "execution_count": 40,
   "metadata": {},
   "outputs": [
    {
     "data": {
      "text/plain": [
       "array([[-0.73029674, -0.57735027, -0.4472136 ],\n",
       "       [ 0.36514837,  0.41239305,  0.4472136 ],\n",
       "       [ 1.46059349,  1.40213637,  1.34164079],\n",
       "       [-1.09544512, -1.23717915, -1.34164079]])"
      ]
     },
     "execution_count": 40,
     "metadata": {},
     "output_type": "execute_result"
    }
   ],
   "source": [
    "shape = (3)\n",
    "history = [states[0], states[1], states[2], states[3]]\n",
    "history = np.array(history)\n",
    "processed_states = (history - history.mean(axis=0)) / history.std(axis=0)\n",
    "processed_states\n"
   ]
  },
  {
   "cell_type": "code",
   "execution_count": 44,
   "metadata": {},
   "outputs": [],
   "source": [
    "class Standardizer(object):\n",
    "    \"\"\"\n",
    "    We rely on the input shape being (n_samples, state_dim) \n",
    "    \"\"\"\n",
    "    def __init__(self):\n",
    "        #  use a list to hold all data tthis processor has seen\n",
    "        self.history = []\n",
    "\n",
    "    def transform(self, data, use_history=True):\n",
    "        \"\"\"\n",
    "        The SimpleStandardizer transforms the data using the mean and standard\n",
    "        deviation across the batch it is processing\n",
    "        \"\"\"\n",
    "        #  check that our data is \n",
    "        assert len(data.shape) == 2\n",
    "        #  add the data we are processing onto our history list\n",
    "        self.history.append(data)\n",
    "        if use_history:\n",
    "            #  create an array from the list then reshape to (num_samples, dim)\n",
    "            #  taking advantage of energy_py states/actions being this shape (always len 2)\n",
    "            history = np.array(self.history).reshape(-1, data.shape[1])\n",
    "            means, stdevs = history.mean(axis=0), history.std(axis=0)\n",
    "        else:\n",
    "            means, stdevs = data.mean(axis=0), data.std(axis=0)\n",
    "        \n",
    "        return (data - means) / stdevs"
   ]
  },
  {
   "cell_type": "code",
   "execution_count": 55,
   "metadata": {},
   "outputs": [],
   "source": [
    "std = Standardizer()"
   ]
  },
  {
   "cell_type": "code",
   "execution_count": 62,
   "metadata": {},
   "outputs": [
    {
     "data": {
      "text/plain": [
       "array([[-0.73029674, -0.57735027, -0.4472136 ],\n",
       "       [ 0.36514837,  0.41239305,  0.4472136 ],\n",
       "       [ 1.46059349,  1.40213637,  1.34164079],\n",
       "       [-1.09544512, -1.23717915, -1.34164079]])"
      ]
     },
     "execution_count": 62,
     "metadata": {},
     "output_type": "execute_result"
    }
   ],
   "source": [
    "proc = std.transform(data=states, use_history=False)\n",
    "proc"
   ]
  },
  {
   "cell_type": "code",
   "execution_count": 61,
   "metadata": {},
   "outputs": [
    {
     "data": {
      "text/plain": [
       "array([[-0.20412415,  0.04389513,  0.22941573],\n",
       "       [ 1.02062073,  1.0973782 ,  1.14707867],\n",
       "       [ 2.2453656 ,  2.15086128,  2.0647416 ],\n",
       "       [-0.61237244, -0.65842692, -0.6882472 ]])"
      ]
     },
     "execution_count": 61,
     "metadata": {},
     "output_type": "execute_result"
    }
   ],
   "source": [
    "proc = std.transform(data=states)\n",
    "proc"
   ]
  },
  {
   "cell_type": "code",
   "execution_count": 60,
   "metadata": {},
   "outputs": [
    {
     "data": {
      "text/plain": [
       "array([[-0.52827054, -0.56493268, -0.58834841],\n",
       "       [-0.52827054, -0.56493268, -0.58834841],\n",
       "       [-0.52827054, -0.56493268, -0.58834841],\n",
       "       [-0.52827054, -0.56493268, -0.58834841]])"
      ]
     },
     "execution_count": 60,
     "metadata": {},
     "output_type": "execute_result"
    }
   ],
   "source": [
    "new_data = np.zeros(proc.shape)\n",
    "proc = std.transform(data=new_data)\n",
    "proc"
   ]
  },
  {
   "cell_type": "code",
   "execution_count": 63,
   "metadata": {},
   "outputs": [
    {
     "data": {
      "text/plain": [
       "array([[-0.73029674, -0.57735027, -0.4472136 ],\n",
       "       [ 0.36514837,  0.41239305,  0.4472136 ],\n",
       "       [ 1.46059349,  1.40213637,  1.34164079],\n",
       "       [-1.09544512, -1.23717915, -1.34164079]])"
      ]
     },
     "execution_count": 63,
     "metadata": {},
     "output_type": "execute_result"
    }
   ],
   "source": [
    "proc = std.transform(data=states, use_history=False)\n",
    "proc"
   ]
  },
  {
   "cell_type": "markdown",
   "metadata": {},
   "source": [
    "Now we can try the normalizer"
   ]
  },
  {
   "cell_type": "code",
   "execution_count": 65,
   "metadata": {},
   "outputs": [],
   "source": [
    "class Normalizer(object):\n",
    "    \"\"\"\n",
    "    We rely on the input shape being (n_samples, state_dim) \n",
    "    \"\"\"\n",
    "    def __init__(self):\n",
    "        #  use a list to hold all data tthis processor has seen\n",
    "        self.history = []\n",
    "\n",
    "    def transform(self, data):\n",
    "        \"\"\"\n",
    "        The SimpleStandardizer transforms the data using the mean and standard\n",
    "        deviation across the batch it is processing\n",
    "        \"\"\"\n",
    "        assert len(data.shape) == 2\n",
    "        #  add the data we are processing onto our history list\n",
    "        self.history.append(data)\n",
    "        #  create an array from the list then reshape to (num_samples, dim)\n",
    "        #  taking advantage of energy_py states/actions being this shape (always len 2)\n",
    "        history = np.array(self.history).reshape(-1, data.shape[1])\n",
    "        \n",
    "        return (data - history.mean(axis=0)) / history.std(axis=0)"
   ]
  },
  {
   "cell_type": "code",
   "execution_count": 69,
   "metadata": {},
   "outputs": [],
   "source": [
    "norm = Normalizer()"
   ]
  },
  {
   "cell_type": "code",
   "execution_count": 79,
   "metadata": {},
   "outputs": [
    {
     "data": {
      "text/plain": [
       "array([[-0.3099937 , -0.0838591 ,  0.08804509],\n",
       "       [ 0.85248268,  0.92245011,  0.968496  ],\n",
       "       [ 2.01495907,  1.92875932,  1.8489469 ],\n",
       "       [-0.69748583, -0.75473191, -0.79240582]])"
      ]
     },
     "execution_count": 79,
     "metadata": {},
     "output_type": "execute_result"
    }
   ],
   "source": [
    "proc = norm.transform(states)\n",
    "proc"
   ]
  },
  {
   "cell_type": "code",
   "execution_count": 80,
   "metadata": {},
   "outputs": [
    {
     "data": {
      "text/plain": [
       "array([[-0.65079137, -0.7016704 , -0.73484692],\n",
       "       [-0.65079137, -0.7016704 , -0.73484692],\n",
       "       [-0.65079137, -0.7016704 , -0.73484692],\n",
       "       [-0.65079137, -0.7016704 , -0.73484692]])"
      ]
     },
     "execution_count": 80,
     "metadata": {},
     "output_type": "execute_result"
    }
   ],
   "source": [
    "proc = norm.transform(new_data)\n",
    "proc"
   ]
  },
  {
   "cell_type": "code",
   "execution_count": null,
   "metadata": {},
   "outputs": [],
   "source": []
  }
 ],
 "metadata": {
  "kernelspec": {
   "display_name": "Python 3",
   "language": "python",
   "name": "python3"
  },
  "language_info": {
   "codemirror_mode": {
    "name": "ipython",
    "version": 3
   },
   "file_extension": ".py",
   "mimetype": "text/x-python",
   "name": "python",
   "nbconvert_exporter": "python",
   "pygments_lexer": "ipython3",
   "version": "3.5.4"
  }
 },
 "nbformat": 4,
 "nbformat_minor": 2
}
