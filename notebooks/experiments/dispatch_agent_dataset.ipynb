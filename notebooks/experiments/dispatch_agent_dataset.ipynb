{
 "cells": [
  {
   "cell_type": "code",
   "execution_count": 1,
   "metadata": {
    "collapsed": true
   },
   "outputs": [],
   "source": [
    "import os\n",
    "\n",
    "import numpy as np\n",
    "import pandas as pd"
   ]
  },
  {
   "cell_type": "code",
   "execution_count": 2,
   "metadata": {},
   "outputs": [],
   "source": [
    "def load_data():\n",
    "\n",
    "    base_path = '/Users/adam/git/research/AEMO/data/Hilary/processed_data/MMSDM/PUBLIC_'\n",
    "\n",
    "    names = ['DVD_DISPATCHPRICE', 'DVD_TRADINGPRICE', \n",
    "             'DVD_P5MIN_REGIONSOLUTION']\n",
    "\n",
    "    paths = [os.path.join(base_path+name,'3_processed_numeric.csv') \n",
    "             for name in names]\n",
    "\n",
    "    csvs = {name: pd.read_csv(path, index_col=0, parse_dates=True) \n",
    "            for name, path in zip(names, paths)}\n",
    "    \n",
    "    for k, v in csvs.items():\n",
    "        print('{} shape {}'.format(k, v.shape))\n",
    "        print('start {}'.format(v.index[0]))\n",
    "        print('end {}'.format(v.index[-1]))\n",
    "        \n",
    "    return csvs"
   ]
  },
  {
   "cell_type": "code",
   "execution_count": 3,
   "metadata": {},
   "outputs": [
    {
     "name": "stdout",
     "output_type": "stream",
     "text": [
      "DVD_DISPATCHPRICE shape (493056, 5)\n",
      "start 2012-01-01 00:00:00\n",
      "end 2016-09-07 23:55:00\n",
      "DVD_TRADINGPRICE shape (493051, 5)\n",
      "start 2012-01-01 00:25:00\n",
      "end 2016-09-07 23:55:00\n",
      "DVD_P5MIN_REGIONSOLUTION shape (493056, 84)\n",
      "start 2012-01-01 00:00:00\n",
      "end 2016-09-07 23:55:00\n"
     ]
    }
   ],
   "source": [
    "csvs = load_data()"
   ]
  },
  {
   "cell_type": "code",
   "execution_count": 4,
   "metadata": {},
   "outputs": [
    {
     "data": {
      "text/html": [
       "<div>\n",
       "<style>\n",
       "    .dataframe thead tr:only-child th {\n",
       "        text-align: right;\n",
       "    }\n",
       "\n",
       "    .dataframe thead th {\n",
       "        text-align: left;\n",
       "    }\n",
       "\n",
       "    .dataframe tbody tr th {\n",
       "        vertical-align: top;\n",
       "    }\n",
       "</style>\n",
       "<table border=\"1\" class=\"dataframe\">\n",
       "  <thead>\n",
       "    <tr style=\"text-align: right;\">\n",
       "      <th></th>\n",
       "      <th>RRP NSW1 offset 0 HH PUBLIC_DVD_DISPATCHPRICE</th>\n",
       "      <th>RRP QLD1 offset 0 HH PUBLIC_DVD_DISPATCHPRICE</th>\n",
       "      <th>RRP SA1 offset 0 HH PUBLIC_DVD_DISPATCHPRICE</th>\n",
       "      <th>RRP TAS1 offset 0 HH PUBLIC_DVD_DISPATCHPRICE</th>\n",
       "      <th>RRP VIC1 offset 0 HH PUBLIC_DVD_DISPATCHPRICE</th>\n",
       "    </tr>\n",
       "  </thead>\n",
       "  <tbody>\n",
       "    <tr>\n",
       "      <th>count</th>\n",
       "      <td>493056.000000</td>\n",
       "      <td>493056.000000</td>\n",
       "      <td>493056.000000</td>\n",
       "      <td>493056.000000</td>\n",
       "      <td>493056.000000</td>\n",
       "    </tr>\n",
       "    <tr>\n",
       "      <th>mean</th>\n",
       "      <td>46.781051</td>\n",
       "      <td>56.102234</td>\n",
       "      <td>58.075399</td>\n",
       "      <td>55.161194</td>\n",
       "      <td>44.639550</td>\n",
       "    </tr>\n",
       "    <tr>\n",
       "      <th>std</th>\n",
       "      <td>88.168931</td>\n",
       "      <td>320.162549</td>\n",
       "      <td>288.099275</td>\n",
       "      <td>119.887482</td>\n",
       "      <td>138.007515</td>\n",
       "    </tr>\n",
       "    <tr>\n",
       "      <th>min</th>\n",
       "      <td>-1000.000000</td>\n",
       "      <td>-1000.000000</td>\n",
       "      <td>-1000.000000</td>\n",
       "      <td>-1000.000000</td>\n",
       "      <td>-1000.000000</td>\n",
       "    </tr>\n",
       "    <tr>\n",
       "      <th>25%</th>\n",
       "      <td>32.730000</td>\n",
       "      <td>30.386845</td>\n",
       "      <td>32.533550</td>\n",
       "      <td>34.050465</td>\n",
       "      <td>29.648098</td>\n",
       "    </tr>\n",
       "    <tr>\n",
       "      <th>50%</th>\n",
       "      <td>45.785240</td>\n",
       "      <td>44.853940</td>\n",
       "      <td>45.790000</td>\n",
       "      <td>41.533090</td>\n",
       "      <td>41.970000</td>\n",
       "    </tr>\n",
       "    <tr>\n",
       "      <th>75%</th>\n",
       "      <td>52.603623</td>\n",
       "      <td>53.308243</td>\n",
       "      <td>57.441795</td>\n",
       "      <td>50.680000</td>\n",
       "      <td>50.666888</td>\n",
       "    </tr>\n",
       "    <tr>\n",
       "      <th>max</th>\n",
       "      <td>13800.000000</td>\n",
       "      <td>13800.000000</td>\n",
       "      <td>14000.000000</td>\n",
       "      <td>14000.000000</td>\n",
       "      <td>13800.000000</td>\n",
       "    </tr>\n",
       "  </tbody>\n",
       "</table>\n",
       "</div>"
      ],
      "text/plain": [
       "       RRP NSW1 offset 0 HH PUBLIC_DVD_DISPATCHPRICE  \\\n",
       "count                                  493056.000000   \n",
       "mean                                       46.781051   \n",
       "std                                        88.168931   \n",
       "min                                     -1000.000000   \n",
       "25%                                        32.730000   \n",
       "50%                                        45.785240   \n",
       "75%                                        52.603623   \n",
       "max                                     13800.000000   \n",
       "\n",
       "       RRP QLD1 offset 0 HH PUBLIC_DVD_DISPATCHPRICE  \\\n",
       "count                                  493056.000000   \n",
       "mean                                       56.102234   \n",
       "std                                       320.162549   \n",
       "min                                     -1000.000000   \n",
       "25%                                        30.386845   \n",
       "50%                                        44.853940   \n",
       "75%                                        53.308243   \n",
       "max                                     13800.000000   \n",
       "\n",
       "       RRP SA1 offset 0 HH PUBLIC_DVD_DISPATCHPRICE  \\\n",
       "count                                 493056.000000   \n",
       "mean                                      58.075399   \n",
       "std                                      288.099275   \n",
       "min                                    -1000.000000   \n",
       "25%                                       32.533550   \n",
       "50%                                       45.790000   \n",
       "75%                                       57.441795   \n",
       "max                                    14000.000000   \n",
       "\n",
       "       RRP TAS1 offset 0 HH PUBLIC_DVD_DISPATCHPRICE  \\\n",
       "count                                  493056.000000   \n",
       "mean                                       55.161194   \n",
       "std                                       119.887482   \n",
       "min                                     -1000.000000   \n",
       "25%                                        34.050465   \n",
       "50%                                        41.533090   \n",
       "75%                                        50.680000   \n",
       "max                                     14000.000000   \n",
       "\n",
       "       RRP VIC1 offset 0 HH PUBLIC_DVD_DISPATCHPRICE  \n",
       "count                                  493056.000000  \n",
       "mean                                       44.639550  \n",
       "std                                       138.007515  \n",
       "min                                     -1000.000000  \n",
       "25%                                        29.648098  \n",
       "50%                                        41.970000  \n",
       "75%                                        50.666888  \n",
       "max                                     13800.000000  "
      ]
     },
     "execution_count": 4,
     "metadata": {},
     "output_type": "execute_result"
    }
   ],
   "source": [
    "dispatch = csvs['DVD_DISPATCHPRICE']\n",
    "dispatch.describe()"
   ]
  },
  {
   "cell_type": "code",
   "execution_count": 5,
   "metadata": {},
   "outputs": [],
   "source": [
    "#  going to use a naive way to do cumulative average dispatch price\n",
    "dispatch_sa = dispatch.iloc[:,2]"
   ]
  },
  {
   "cell_type": "code",
   "execution_count": 6,
   "metadata": {},
   "outputs": [],
   "source": [
    "cum_mean, vals = [], []\n",
    "\n",
    "for idx in range(dispatch_sa.shape[0])[::6]:\n",
    "    data = dispatch_sa.iloc[idx:idx+6]\n",
    "    \n",
    "    for j, val in enumerate(data.values):\n",
    "\n",
    "        if j == 0:\n",
    "            vals.append(val)\n",
    "            cum_mean.append(val)\n",
    "\n",
    "        else:\n",
    "            vals.append(val)\n",
    "            cum_mean.append(np.mean(vals))\n",
    "        \n",
    "    vals = []"
   ]
  },
  {
   "cell_type": "code",
   "execution_count": 7,
   "metadata": {},
   "outputs": [
    {
     "data": {
      "text/plain": [
       "SETTLEMENTDATE\n",
       "2012-01-01 00:00:00    26.885070\n",
       "2012-01-01 00:05:00    26.542155\n",
       "2012-01-01 00:10:00    26.323057\n",
       "2012-01-01 00:15:00    25.825630\n",
       "2012-01-01 00:20:00    25.151972\n",
       "dtype: float64"
      ]
     },
     "execution_count": 7,
     "metadata": {},
     "output_type": "execute_result"
    }
   ],
   "source": [
    "cum_mean = pd.Series(cum_mean, index=dispatch.index)\n",
    "cum_mean.head()"
   ]
  },
  {
   "cell_type": "code",
   "execution_count": 8,
   "metadata": {},
   "outputs": [
    {
     "data": {
      "text/plain": [
       "SETTLEMENTDATE\n",
       "2012-01-01 00:00:00    26.88507\n",
       "2012-01-01 00:05:00    26.19924\n",
       "2012-01-01 00:10:00    25.88486\n",
       "2012-01-01 00:15:00    24.33335\n",
       "2012-01-01 00:20:00    22.45734\n",
       "Name: RRP SA1 offset 0 HH PUBLIC_DVD_DISPATCHPRICE, dtype: float64"
      ]
     },
     "execution_count": 8,
     "metadata": {},
     "output_type": "execute_result"
    }
   ],
   "source": [
    "dispatch_sa.head()"
   ]
  },
  {
   "cell_type": "code",
   "execution_count": 9,
   "metadata": {},
   "outputs": [
    {
     "data": {
      "text/html": [
       "<div>\n",
       "<style>\n",
       "    .dataframe thead tr:only-child th {\n",
       "        text-align: right;\n",
       "    }\n",
       "\n",
       "    .dataframe thead th {\n",
       "        text-align: left;\n",
       "    }\n",
       "\n",
       "    .dataframe tbody tr th {\n",
       "        vertical-align: top;\n",
       "    }\n",
       "</style>\n",
       "<table border=\"1\" class=\"dataframe\">\n",
       "  <thead>\n",
       "    <tr style=\"text-align: right;\">\n",
       "      <th></th>\n",
       "      <th>RRP NSW1 offset 0 HH PUBLIC_DVD_TRADINGPRICE</th>\n",
       "      <th>RRP QLD1 offset 0 HH PUBLIC_DVD_TRADINGPRICE</th>\n",
       "      <th>RRP SA1 offset 0 HH PUBLIC_DVD_TRADINGPRICE</th>\n",
       "      <th>RRP TAS1 offset 0 HH PUBLIC_DVD_TRADINGPRICE</th>\n",
       "      <th>RRP VIC1 offset 0 HH PUBLIC_DVD_TRADINGPRICE</th>\n",
       "    </tr>\n",
       "    <tr>\n",
       "      <th>SETTLEMENTDATE</th>\n",
       "      <th></th>\n",
       "      <th></th>\n",
       "      <th></th>\n",
       "      <th></th>\n",
       "      <th></th>\n",
       "    </tr>\n",
       "  </thead>\n",
       "  <tbody>\n",
       "    <tr>\n",
       "      <th>2012-01-01 00:25:00</th>\n",
       "      <td>24.51</td>\n",
       "      <td>24.95</td>\n",
       "      <td>24.93</td>\n",
       "      <td>60.3</td>\n",
       "      <td>23.07</td>\n",
       "    </tr>\n",
       "    <tr>\n",
       "      <th>2012-01-01 00:30:00</th>\n",
       "      <td>23.05</td>\n",
       "      <td>23.84</td>\n",
       "      <td>22.71</td>\n",
       "      <td>60.3</td>\n",
       "      <td>20.98</td>\n",
       "    </tr>\n",
       "    <tr>\n",
       "      <th>2012-01-01 00:35:00</th>\n",
       "      <td>23.05</td>\n",
       "      <td>23.84</td>\n",
       "      <td>22.71</td>\n",
       "      <td>60.3</td>\n",
       "      <td>20.98</td>\n",
       "    </tr>\n",
       "    <tr>\n",
       "      <th>2012-01-01 00:40:00</th>\n",
       "      <td>23.05</td>\n",
       "      <td>23.84</td>\n",
       "      <td>22.71</td>\n",
       "      <td>60.3</td>\n",
       "      <td>20.98</td>\n",
       "    </tr>\n",
       "    <tr>\n",
       "      <th>2012-01-01 00:45:00</th>\n",
       "      <td>23.05</td>\n",
       "      <td>23.84</td>\n",
       "      <td>22.71</td>\n",
       "      <td>60.3</td>\n",
       "      <td>20.98</td>\n",
       "    </tr>\n",
       "  </tbody>\n",
       "</table>\n",
       "</div>"
      ],
      "text/plain": [
       "                     RRP NSW1 offset 0 HH PUBLIC_DVD_TRADINGPRICE  \\\n",
       "SETTLEMENTDATE                                                      \n",
       "2012-01-01 00:25:00                                         24.51   \n",
       "2012-01-01 00:30:00                                         23.05   \n",
       "2012-01-01 00:35:00                                         23.05   \n",
       "2012-01-01 00:40:00                                         23.05   \n",
       "2012-01-01 00:45:00                                         23.05   \n",
       "\n",
       "                     RRP QLD1 offset 0 HH PUBLIC_DVD_TRADINGPRICE  \\\n",
       "SETTLEMENTDATE                                                      \n",
       "2012-01-01 00:25:00                                         24.95   \n",
       "2012-01-01 00:30:00                                         23.84   \n",
       "2012-01-01 00:35:00                                         23.84   \n",
       "2012-01-01 00:40:00                                         23.84   \n",
       "2012-01-01 00:45:00                                         23.84   \n",
       "\n",
       "                     RRP SA1 offset 0 HH PUBLIC_DVD_TRADINGPRICE  \\\n",
       "SETTLEMENTDATE                                                     \n",
       "2012-01-01 00:25:00                                        24.93   \n",
       "2012-01-01 00:30:00                                        22.71   \n",
       "2012-01-01 00:35:00                                        22.71   \n",
       "2012-01-01 00:40:00                                        22.71   \n",
       "2012-01-01 00:45:00                                        22.71   \n",
       "\n",
       "                     RRP TAS1 offset 0 HH PUBLIC_DVD_TRADINGPRICE  \\\n",
       "SETTLEMENTDATE                                                      \n",
       "2012-01-01 00:25:00                                          60.3   \n",
       "2012-01-01 00:30:00                                          60.3   \n",
       "2012-01-01 00:35:00                                          60.3   \n",
       "2012-01-01 00:40:00                                          60.3   \n",
       "2012-01-01 00:45:00                                          60.3   \n",
       "\n",
       "                     RRP VIC1 offset 0 HH PUBLIC_DVD_TRADINGPRICE  \n",
       "SETTLEMENTDATE                                                     \n",
       "2012-01-01 00:25:00                                         23.07  \n",
       "2012-01-01 00:30:00                                         20.98  \n",
       "2012-01-01 00:35:00                                         20.98  \n",
       "2012-01-01 00:40:00                                         20.98  \n",
       "2012-01-01 00:45:00                                         20.98  "
      ]
     },
     "execution_count": 9,
     "metadata": {},
     "output_type": "execute_result"
    }
   ],
   "source": [
    "csvs['DVD_TRADINGPRICE'].head()"
   ]
  },
  {
   "cell_type": "code",
   "execution_count": 10,
   "metadata": {},
   "outputs": [
    {
     "data": {
      "text/html": [
       "<div>\n",
       "<style>\n",
       "    .dataframe thead tr:only-child th {\n",
       "        text-align: right;\n",
       "    }\n",
       "\n",
       "    .dataframe thead th {\n",
       "        text-align: left;\n",
       "    }\n",
       "\n",
       "    .dataframe tbody tr th {\n",
       "        vertical-align: top;\n",
       "    }\n",
       "</style>\n",
       "<table border=\"1\" class=\"dataframe\">\n",
       "  <thead>\n",
       "    <tr style=\"text-align: right;\">\n",
       "      <th></th>\n",
       "      <th>C_SA_dispatch_price_[$/MWh]</th>\n",
       "      <th>C_cumulative_mean_dispatch_[$/MWh]</th>\n",
       "      <th>C_electricity_price_[$/MWh]</th>\n",
       "    </tr>\n",
       "    <tr>\n",
       "      <th>SETTLEMENTDATE</th>\n",
       "      <th></th>\n",
       "      <th></th>\n",
       "      <th></th>\n",
       "    </tr>\n",
       "  </thead>\n",
       "  <tbody>\n",
       "    <tr>\n",
       "      <th>2012-01-01 00:25:00</th>\n",
       "      <td>23.80364</td>\n",
       "      <td>24.927250</td>\n",
       "      <td>24.93</td>\n",
       "    </tr>\n",
       "    <tr>\n",
       "      <th>2012-01-01 00:30:00</th>\n",
       "      <td>24.32653</td>\n",
       "      <td>24.326530</td>\n",
       "      <td>22.71</td>\n",
       "    </tr>\n",
       "    <tr>\n",
       "      <th>2012-01-01 00:35:00</th>\n",
       "      <td>24.53312</td>\n",
       "      <td>24.429825</td>\n",
       "      <td>22.71</td>\n",
       "    </tr>\n",
       "    <tr>\n",
       "      <th>2012-01-01 00:40:00</th>\n",
       "      <td>23.75187</td>\n",
       "      <td>24.203840</td>\n",
       "      <td>22.71</td>\n",
       "    </tr>\n",
       "    <tr>\n",
       "      <th>2012-01-01 00:45:00</th>\n",
       "      <td>23.57818</td>\n",
       "      <td>24.047425</td>\n",
       "      <td>22.71</td>\n",
       "    </tr>\n",
       "  </tbody>\n",
       "</table>\n",
       "</div>"
      ],
      "text/plain": [
       "                     C_SA_dispatch_price_[$/MWh]  \\\n",
       "SETTLEMENTDATE                                     \n",
       "2012-01-01 00:25:00                     23.80364   \n",
       "2012-01-01 00:30:00                     24.32653   \n",
       "2012-01-01 00:35:00                     24.53312   \n",
       "2012-01-01 00:40:00                     23.75187   \n",
       "2012-01-01 00:45:00                     23.57818   \n",
       "\n",
       "                     C_cumulative_mean_dispatch_[$/MWh]  \\\n",
       "SETTLEMENTDATE                                            \n",
       "2012-01-01 00:25:00                           24.927250   \n",
       "2012-01-01 00:30:00                           24.326530   \n",
       "2012-01-01 00:35:00                           24.429825   \n",
       "2012-01-01 00:40:00                           24.203840   \n",
       "2012-01-01 00:45:00                           24.047425   \n",
       "\n",
       "                     C_electricity_price_[$/MWh]  \n",
       "SETTLEMENTDATE                                    \n",
       "2012-01-01 00:25:00                        24.93  \n",
       "2012-01-01 00:30:00                        22.71  \n",
       "2012-01-01 00:35:00                        22.71  \n",
       "2012-01-01 00:40:00                        22.71  \n",
       "2012-01-01 00:45:00                        22.71  "
      ]
     },
     "execution_count": 10,
     "metadata": {},
     "output_type": "execute_result"
    }
   ],
   "source": [
    "trad_sa = csvs['DVD_TRADINGPRICE'].loc[:,'RRP SA1 offset 0 HH PUBLIC_DVD_TRADINGPRICE']\n",
    "\n",
    "output = pd.concat([dispatch_sa,\n",
    "                    cum_mean,\n",
    "                    trad_sa], axis=1).dropna()\n",
    "\n",
    "output.columns = ['C_SA_dispatch_price_[$/MWh]',\n",
    "                  'C_cumulative_mean_dispatch_[$/MWh]',\n",
    "                  'C_electricity_price_[$/MWh]']\n",
    "\n",
    "output.head()"
   ]
  },
  {
   "cell_type": "code",
   "execution_count": 11,
   "metadata": {
    "collapsed": true
   },
   "outputs": [],
   "source": [
    "output.to_csv('state.csv')"
   ]
  },
  {
   "cell_type": "code",
   "execution_count": 13,
   "metadata": {},
   "outputs": [
    {
     "data": {
      "text/plain": [
       "SETTLEMENTDATE\n",
       "2012-02-25 13:00:00      320.955970\n",
       "2012-02-25 14:00:00      209.252590\n",
       "2012-02-25 14:05:00      207.964715\n",
       "2012-07-02 11:50:00      201.272556\n",
       "2012-07-02 11:55:00      211.622782\n",
       "2012-07-02 12:00:00      299.537750\n",
       "2012-07-02 12:05:00      296.180340\n",
       "2012-07-02 12:10:00      329.542170\n",
       "2012-07-02 12:15:00     3472.156628\n",
       "2012-07-02 12:20:00     4665.226074\n",
       "2012-07-02 12:25:00     3937.555062\n",
       "2012-07-02 12:35:00     6142.392145\n",
       "2012-07-02 12:40:00     8201.278993\n",
       "2012-07-02 12:45:00     6177.406785\n",
       "2012-07-02 12:50:00     4955.863428\n",
       "2012-07-02 12:55:00     4140.148072\n",
       "2012-07-02 13:30:00      258.932330\n",
       "2012-07-02 13:35:00      263.980705\n",
       "2012-07-02 13:40:00      214.172953\n",
       "2012-07-02 14:00:00      275.483840\n",
       "2012-07-02 14:05:00      262.491920\n",
       "2012-07-02 14:10:00      213.967363\n",
       "2012-07-02 17:30:00      249.500000\n",
       "2012-07-02 17:40:00      209.945583\n",
       "2012-07-02 17:45:00      226.850967\n",
       "2012-07-02 17:50:00      236.899324\n",
       "2012-07-02 17:55:00      238.999437\n",
       "2012-07-02 18:00:00      249.500000\n",
       "2012-07-02 18:10:00      210.508343\n",
       "2012-07-02 18:15:00      227.117635\n",
       "                           ...     \n",
       "2016-08-30 10:05:00      299.990090\n",
       "2016-08-30 10:10:00      244.217273\n",
       "2016-08-30 10:15:00      215.433350\n",
       "2016-08-31 09:30:00      299.690000\n",
       "2016-08-31 09:35:00      212.340010\n",
       "2016-08-31 16:55:00      211.506672\n",
       "2016-08-31 17:00:00      299.690000\n",
       "2016-09-01 08:00:00      278.810000\n",
       "2016-09-01 08:05:00      219.895000\n",
       "2016-09-01 08:10:00      200.256667\n",
       "2016-09-04 23:30:00    14000.000000\n",
       "2016-09-04 23:35:00     7024.009545\n",
       "2016-09-04 23:40:00     4693.420757\n",
       "2016-09-04 23:45:00     3527.866735\n",
       "2016-09-04 23:50:00     2828.433490\n",
       "2016-09-04 23:55:00     2361.267270\n",
       "2016-09-05 18:00:00      299.990060\n",
       "2016-09-05 18:05:00      227.074045\n",
       "2016-09-05 18:10:00      257.246707\n",
       "2016-09-05 18:15:00      233.107530\n",
       "2016-09-05 18:20:00      250.972348\n",
       "2016-09-05 18:25:00      235.808623\n",
       "2016-09-05 19:10:00      207.123363\n",
       "2016-09-05 19:30:00      299.990090\n",
       "2016-09-05 19:35:00      300.340050\n",
       "2016-09-05 19:40:00      253.790033\n",
       "2016-09-05 19:45:00      265.340048\n",
       "2016-09-05 19:50:00      244.270038\n",
       "2016-09-05 19:55:00      224.390038\n",
       "2016-09-06 00:00:00      302.298370\n",
       "Length: 8540, dtype: float64"
      ]
     },
     "execution_count": 13,
     "metadata": {},
     "output_type": "execute_result"
    }
   ],
   "source": [
    "cum_mean[cum_mean > 200]"
   ]
  },
  {
   "cell_type": "code",
   "execution_count": 14,
   "metadata": {},
   "outputs": [
    {
     "data": {
      "text/plain": [
       "(493051, 3)"
      ]
     },
     "execution_count": 14,
     "metadata": {},
     "output_type": "execute_result"
    }
   ],
   "source": [
    "output.shape"
   ]
  },
  {
   "cell_type": "code",
   "execution_count": 16,
   "metadata": {},
   "outputs": [
    {
     "data": {
      "text/plain": [
       "1.7320723414007884"
      ]
     },
     "execution_count": 16,
     "metadata": {},
     "output_type": "execute_result"
    }
   ],
   "source": [
    "100*(8540 / 493051)"
   ]
  },
  {
   "cell_type": "code",
   "execution_count": null,
   "metadata": {
    "collapsed": true
   },
   "outputs": [],
   "source": []
  }
 ],
 "metadata": {
  "kernelspec": {
   "display_name": "Python 3",
   "language": "python",
   "name": "python3"
  },
  "language_info": {
   "codemirror_mode": {
    "name": "ipython",
    "version": 3
   },
   "file_extension": ".py",
   "mimetype": "text/x-python",
   "name": "python",
   "nbconvert_exporter": "python",
   "pygments_lexer": "ipython3",
   "version": "3.6.3"
  }
 },
 "nbformat": 4,
 "nbformat_minor": 2
}
