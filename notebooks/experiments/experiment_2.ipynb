{
 "cells": [
  {
   "cell_type": "markdown",
   "metadata": {},
   "source": [
    "Notebook to generate experiment csvs"
   ]
  },
  {
   "cell_type": "code",
   "execution_count": 1,
   "metadata": {},
   "outputs": [],
   "source": [
    "import numpy as np\n",
    "import pandas as pd\n",
    "import matplotlib.pyplot as plt"
   ]
  },
  {
   "cell_type": "code",
   "execution_count": 2,
   "metadata": {},
   "outputs": [],
   "source": [
    "conv = 12  #  5 min periods per hour"
   ]
  },
  {
   "cell_type": "code",
   "execution_count": 3,
   "metadata": {},
   "outputs": [
    {
     "data": {
      "text/plain": [
       "array([40, 40, 40, 40, 40, 40, 40, 40, 40, 40, 40, 40, 40, 40, 40, 40, 40,\n",
       "       40, 40, 40, 40, 40, 40, 40, 40, 40, 40, 40, 40, 40, 40, 40, 40, 40,\n",
       "       40, 40])"
      ]
     },
     "execution_count": 3,
     "metadata": {},
     "output_type": "execute_result"
    }
   ],
   "source": [
    "arr = np.full(3*conv, 40)\n",
    "arr"
   ]
  },
  {
   "cell_type": "code",
   "execution_count": 4,
   "metadata": {},
   "outputs": [
    {
     "data": {
      "text/plain": [
       "array([ 40,  40,  40,  40,  40,  40,  40,  40,  40,  40,  40,  40,  40,\n",
       "        40,  40,  40,  40,  40,  40,  40,  40,  40,  40,  40,  40,  40,\n",
       "        40,  40,  40,  40,  40,  40,  40,  40,  40,  40, -20, -20, -20,\n",
       "       -20, -20, -20, -20, -20, -20, -20, -20, -20, -20, -20, -20, -20,\n",
       "       -20, -20, -20, -20, -20, -20, -20, -20, -20, -20, -20, -20, -20,\n",
       "       -20, -20, -20, -20, -20, -20, -20])"
      ]
     },
     "execution_count": 4,
     "metadata": {},
     "output_type": "execute_result"
    }
   ],
   "source": [
    "arr = np.append(arr, np.full(3*conv, -20))\n",
    "arr"
   ]
  },
  {
   "cell_type": "code",
   "execution_count": 5,
   "metadata": {},
   "outputs": [
    {
     "data": {
      "text/plain": [
       "array([ 40,  40,  40,  40,  40,  40,  40,  40,  40,  40,  40,  40,  40,\n",
       "        40,  40,  40,  40,  40,  40,  40,  40,  40,  40,  40,  40,  40,\n",
       "        40,  40,  40,  40,  40,  40,  40,  40,  40,  40, -20, -20, -20,\n",
       "       -20, -20, -20, -20, -20, -20, -20, -20, -20, -20, -20, -20, -20,\n",
       "       -20, -20, -20, -20, -20, -20, -20, -20, -20, -20, -20, -20, -20,\n",
       "       -20, -20, -20, -20, -20, -20, -20,  60,  60,  60,  60,  60,  60,\n",
       "        60,  60,  60,  60,  60,  60,  60,  60,  60,  60,  60,  60,  60,\n",
       "        60,  60,  60,  60,  60,  60,  60,  60,  60,  60,  60,  60,  60,\n",
       "        60,  60,  60,  60])"
      ]
     },
     "execution_count": 5,
     "metadata": {},
     "output_type": "execute_result"
    }
   ],
   "source": [
    "arr = np.append(arr, np.full(3*conv, 60))\n",
    "arr"
   ]
  },
  {
   "cell_type": "code",
   "execution_count": 6,
   "metadata": {},
   "outputs": [
    {
     "data": {
      "text/plain": [
       "array([ 40,  40,  40,  40,  40,  40,  40,  40,  40,  40,  40,  40,  40,\n",
       "        40,  40,  40,  40,  40,  40,  40,  40,  40,  40,  40,  40,  40,\n",
       "        40,  40,  40,  40,  40,  40,  40,  40,  40,  40, -20, -20, -20,\n",
       "       -20, -20, -20, -20, -20, -20, -20, -20, -20, -20, -20, -20, -20,\n",
       "       -20, -20, -20, -20, -20, -20, -20, -20, -20, -20, -20, -20, -20,\n",
       "       -20, -20, -20, -20, -20, -20, -20,  60,  60,  60,  60,  60,  60,\n",
       "        60,  60,  60,  60,  60,  60,  60,  60,  60,  60,  60,  60,  60,\n",
       "        60,  60,  60,  60,  60,  60,  60,  60,  60,  60,  60,  60,  60,\n",
       "        60,  60,  60,  60, 120, 120, 120, 120, 120, 120, 120, 120, 120,\n",
       "       120, 120, 120, 120, 120, 120, 120, 120, 120, 120, 120, 120, 120,\n",
       "       120, 120, 120, 120, 120, 120, 120, 120, 120, 120, 120, 120, 120, 120])"
      ]
     },
     "execution_count": 6,
     "metadata": {},
     "output_type": "execute_result"
    }
   ],
   "source": [
    "arr = np.append(arr, np.full(3*conv, 120))\n",
    "arr"
   ]
  },
  {
   "cell_type": "code",
   "execution_count": 7,
   "metadata": {},
   "outputs": [
    {
     "data": {
      "text/plain": [
       "16.0"
      ]
     },
     "execution_count": 7,
     "metadata": {},
     "output_type": "execute_result"
    }
   ],
   "source": [
    "arr = np.append(arr, np.full(4*conv, 20))\n",
    "arr.shape[0]/conv"
   ]
  },
  {
   "cell_type": "code",
   "execution_count": 8,
   "metadata": {},
   "outputs": [
    {
     "data": {
      "text/plain": [
       "18.0"
      ]
     },
     "execution_count": 8,
     "metadata": {},
     "output_type": "execute_result"
    }
   ],
   "source": [
    "arr = np.append(arr, np.full(2*conv, 100))\n",
    "arr.shape[0]/conv"
   ]
  },
  {
   "cell_type": "code",
   "execution_count": 9,
   "metadata": {},
   "outputs": [
    {
     "data": {
      "text/plain": [
       "20.0"
      ]
     },
     "execution_count": 9,
     "metadata": {},
     "output_type": "execute_result"
    }
   ],
   "source": [
    "arr = np.append(arr, np.full(2*conv, 250))\n",
    "arr.shape[0]/conv"
   ]
  },
  {
   "cell_type": "code",
   "execution_count": 10,
   "metadata": {},
   "outputs": [
    {
     "data": {
      "text/plain": [
       "24.0"
      ]
     },
     "execution_count": 10,
     "metadata": {},
     "output_type": "execute_result"
    }
   ],
   "source": [
    "arr = np.append(arr, np.full(4*conv, 100))\n",
    "arr.shape[0]/conv"
   ]
  },
  {
   "cell_type": "code",
   "execution_count": 11,
   "metadata": {},
   "outputs": [
    {
     "data": {
      "text/plain": [
       "2.0"
      ]
     },
     "execution_count": 11,
     "metadata": {},
     "output_type": "execute_result"
    }
   ],
   "source": [
    "arr2 = np.arange(50,290,10)\n",
    "arr2.shape[0]/conv"
   ]
  },
  {
   "cell_type": "code",
   "execution_count": 12,
   "metadata": {},
   "outputs": [
    {
     "data": {
      "text/plain": [
       "4.0"
      ]
     },
     "execution_count": 12,
     "metadata": {},
     "output_type": "execute_result"
    }
   ],
   "source": [
    "arr2 = np.append(arr2, np.flip(np.arange(50,290,10), axis=0))\n",
    "arr2.shape[0]/conv"
   ]
  },
  {
   "cell_type": "code",
   "execution_count": 13,
   "metadata": {},
   "outputs": [
    {
     "data": {
      "text/plain": [
       "24.0"
      ]
     },
     "execution_count": 13,
     "metadata": {},
     "output_type": "execute_result"
    }
   ],
   "source": [
    "arr2 = np.tile(arr2,6)\n",
    "arr2.shape[0]/conv"
   ]
  },
  {
   "cell_type": "code",
   "execution_count": 14,
   "metadata": {},
   "outputs": [
    {
     "data": {
      "text/plain": [
       "24.0"
      ]
     },
     "execution_count": 14,
     "metadata": {},
     "output_type": "execute_result"
    }
   ],
   "source": [
    "x = np.linspace(-np.pi, np.pi, arr2.shape[0])\n",
    "arr3 = np.sin(x)*100\n",
    "arr3.shape[0]/conv"
   ]
  },
  {
   "cell_type": "code",
   "execution_count": 15,
   "metadata": {},
   "outputs": [
    {
     "data": {
      "text/plain": [
       "3.0"
      ]
     },
     "execution_count": 15,
     "metadata": {},
     "output_type": "execute_result"
    }
   ],
   "source": [
    "final_arr = np.append(arr, arr2)\n",
    "final_arr = np.append(final_arr, arr3)\n",
    "final_arr.shape[0]/conv/24"
   ]
  },
  {
   "cell_type": "code",
   "execution_count": 16,
   "metadata": {},
   "outputs": [
    {
     "data": {
      "text/html": [
       "<div>\n",
       "<style scoped>\n",
       "    .dataframe tbody tr th:only-of-type {\n",
       "        vertical-align: middle;\n",
       "    }\n",
       "\n",
       "    .dataframe tbody tr th {\n",
       "        vertical-align: top;\n",
       "    }\n",
       "\n",
       "    .dataframe thead th {\n",
       "        text-align: right;\n",
       "    }\n",
       "</style>\n",
       "<table border=\"1\" class=\"dataframe\">\n",
       "  <thead>\n",
       "    <tr style=\"text-align: right;\">\n",
       "      <th></th>\n",
       "      <th>C_electricity_price [$/MWh]</th>\n",
       "    </tr>\n",
       "  </thead>\n",
       "  <tbody>\n",
       "    <tr>\n",
       "      <th>2017-01-01 00:00:00</th>\n",
       "      <td>40.0</td>\n",
       "    </tr>\n",
       "    <tr>\n",
       "      <th>2017-01-01 00:05:00</th>\n",
       "      <td>40.0</td>\n",
       "    </tr>\n",
       "    <tr>\n",
       "      <th>2017-01-01 00:10:00</th>\n",
       "      <td>40.0</td>\n",
       "    </tr>\n",
       "    <tr>\n",
       "      <th>2017-01-01 00:15:00</th>\n",
       "      <td>40.0</td>\n",
       "    </tr>\n",
       "    <tr>\n",
       "      <th>2017-01-01 00:20:00</th>\n",
       "      <td>40.0</td>\n",
       "    </tr>\n",
       "  </tbody>\n",
       "</table>\n",
       "</div>"
      ],
      "text/plain": [
       "                     C_electricity_price [$/MWh]\n",
       "2017-01-01 00:00:00                         40.0\n",
       "2017-01-01 00:05:00                         40.0\n",
       "2017-01-01 00:10:00                         40.0\n",
       "2017-01-01 00:15:00                         40.0\n",
       "2017-01-01 00:20:00                         40.0"
      ]
     },
     "execution_count": 16,
     "metadata": {},
     "output_type": "execute_result"
    }
   ],
   "source": [
    "index = pd.DatetimeIndex(start='01/01/2017 00:00', periods=final_arr.shape[0], freq='5min')\n",
    "state = pd.DataFrame(dtype=float)\n",
    "state.loc[:, 'C_electricity_price [$/MWh]'] = final_arr\n",
    "state.index = index\n",
    "state.head()"
   ]
  },
  {
   "cell_type": "code",
   "execution_count": 17,
   "metadata": {},
   "outputs": [
    {
     "data": {
      "image/png": "[encoded data removed]",
      "text/plain": [
       "<matplotlib.figure.Figure at 0x7f26cd4c7358>"
      ]
     },
     "execution_count": 17,
     "metadata": {},
     "output_type": "execute_result"
    }
   ],
   "source": [
    "f, a = plt.subplots()\n",
    "state.plot(ax=a)\n",
    "f"
   ]
  },
  {
   "cell_type": "code",
   "execution_count": 19,
   "metadata": {},
   "outputs": [
    {
     "data": {
      "text/html": [
       "<div>\n",
       "<style scoped>\n",
       "    .dataframe tbody tr th:only-of-type {\n",
       "        vertical-align: middle;\n",
       "    }\n",
       "\n",
       "    .dataframe tbody tr th {\n",
       "        vertical-align: top;\n",
       "    }\n",
       "\n",
       "    .dataframe thead th {\n",
       "        text-align: right;\n",
       "    }\n",
       "</style>\n",
       "<table border=\"1\" class=\"dataframe\">\n",
       "  <thead>\n",
       "    <tr style=\"text-align: right;\">\n",
       "      <th></th>\n",
       "      <th>C_electricity_price [$/MWh]</th>\n",
       "      <th>C_electricity_price [$/MWh]</th>\n",
       "      <th>C_electricity_price [$/MWh]</th>\n",
       "      <th>C_electricity_price [$/MWh]</th>\n",
       "      <th>C_electricity_price [$/MWh]</th>\n",
       "      <th>C_electricity_price [$/MWh]</th>\n",
       "      <th>C_electricity_price [$/MWh]</th>\n",
       "      <th>C_electricity_price [$/MWh]</th>\n",
       "      <th>C_electricity_price [$/MWh]</th>\n",
       "      <th>C_electricity_price [$/MWh]</th>\n",
       "    </tr>\n",
       "  </thead>\n",
       "  <tbody>\n",
       "    <tr>\n",
       "      <th>2017-01-03 23:35:00</th>\n",
       "      <td>8.745865e+00</td>\n",
       "      <td>6.563069e+00</td>\n",
       "      <td>4.377127e+00</td>\n",
       "      <td>2.189088e+00</td>\n",
       "      <td>1.224647e-14</td>\n",
       "      <td>0.0</td>\n",
       "      <td>0.0</td>\n",
       "      <td>0.0</td>\n",
       "      <td>0.0</td>\n",
       "      <td>0.0</td>\n",
       "    </tr>\n",
       "    <tr>\n",
       "      <th>2017-01-03 23:40:00</th>\n",
       "      <td>6.563069e+00</td>\n",
       "      <td>4.377127e+00</td>\n",
       "      <td>2.189088e+00</td>\n",
       "      <td>1.224647e-14</td>\n",
       "      <td>0.000000e+00</td>\n",
       "      <td>0.0</td>\n",
       "      <td>0.0</td>\n",
       "      <td>0.0</td>\n",
       "      <td>0.0</td>\n",
       "      <td>0.0</td>\n",
       "    </tr>\n",
       "    <tr>\n",
       "      <th>2017-01-03 23:45:00</th>\n",
       "      <td>4.377127e+00</td>\n",
       "      <td>2.189088e+00</td>\n",
       "      <td>1.224647e-14</td>\n",
       "      <td>0.000000e+00</td>\n",
       "      <td>0.000000e+00</td>\n",
       "      <td>0.0</td>\n",
       "      <td>0.0</td>\n",
       "      <td>0.0</td>\n",
       "      <td>0.0</td>\n",
       "      <td>0.0</td>\n",
       "    </tr>\n",
       "    <tr>\n",
       "      <th>2017-01-03 23:50:00</th>\n",
       "      <td>2.189088e+00</td>\n",
       "      <td>1.224647e-14</td>\n",
       "      <td>0.000000e+00</td>\n",
       "      <td>0.000000e+00</td>\n",
       "      <td>0.000000e+00</td>\n",
       "      <td>0.0</td>\n",
       "      <td>0.0</td>\n",
       "      <td>0.0</td>\n",
       "      <td>0.0</td>\n",
       "      <td>0.0</td>\n",
       "    </tr>\n",
       "    <tr>\n",
       "      <th>2017-01-03 23:55:00</th>\n",
       "      <td>1.224647e-14</td>\n",
       "      <td>0.000000e+00</td>\n",
       "      <td>0.000000e+00</td>\n",
       "      <td>0.000000e+00</td>\n",
       "      <td>0.000000e+00</td>\n",
       "      <td>0.0</td>\n",
       "      <td>0.0</td>\n",
       "      <td>0.0</td>\n",
       "      <td>0.0</td>\n",
       "      <td>0.0</td>\n",
       "    </tr>\n",
       "  </tbody>\n",
       "</table>\n",
       "</div>"
      ],
      "text/plain": [
       "                     C_electricity_price [$/MWh]  C_electricity_price [$/MWh]  \\\n",
       "2017-01-03 23:35:00                 8.745865e+00                 6.563069e+00   \n",
       "2017-01-03 23:40:00                 6.563069e+00                 4.377127e+00   \n",
       "2017-01-03 23:45:00                 4.377127e+00                 2.189088e+00   \n",
       "2017-01-03 23:50:00                 2.189088e+00                 1.224647e-14   \n",
       "2017-01-03 23:55:00                 1.224647e-14                 0.000000e+00   \n",
       "\n",
       "                     C_electricity_price [$/MWh]  C_electricity_price [$/MWh]  \\\n",
       "2017-01-03 23:35:00                 4.377127e+00                 2.189088e+00   \n",
       "2017-01-03 23:40:00                 2.189088e+00                 1.224647e-14   \n",
       "2017-01-03 23:45:00                 1.224647e-14                 0.000000e+00   \n",
       "2017-01-03 23:50:00                 0.000000e+00                 0.000000e+00   \n",
       "2017-01-03 23:55:00                 0.000000e+00                 0.000000e+00   \n",
       "\n",
       "                     C_electricity_price [$/MWh]  C_electricity_price [$/MWh]  \\\n",
       "2017-01-03 23:35:00                 1.224647e-14                          0.0   \n",
       "2017-01-03 23:40:00                 0.000000e+00                          0.0   \n",
       "2017-01-03 23:45:00                 0.000000e+00                          0.0   \n",
       "2017-01-03 23:50:00                 0.000000e+00                          0.0   \n",
       "2017-01-03 23:55:00                 0.000000e+00                          0.0   \n",
       "\n",
       "                     C_electricity_price [$/MWh]  C_electricity_price [$/MWh]  \\\n",
       "2017-01-03 23:35:00                          0.0                          0.0   \n",
       "2017-01-03 23:40:00                          0.0                          0.0   \n",
       "2017-01-03 23:45:00                          0.0                          0.0   \n",
       "2017-01-03 23:50:00                          0.0                          0.0   \n",
       "2017-01-03 23:55:00                          0.0                          0.0   \n",
       "\n",
       "                     C_electricity_price [$/MWh]  C_electricity_price [$/MWh]  \n",
       "2017-01-03 23:35:00                          0.0                          0.0  \n",
       "2017-01-03 23:40:00                          0.0                          0.0  \n",
       "2017-01-03 23:45:00                          0.0                          0.0  \n",
       "2017-01-03 23:50:00                          0.0                          0.0  \n",
       "2017-01-03 23:55:00                          0.0                          0.0  "
      ]
     },
     "execution_count": 19,
     "metadata": {},
     "output_type": "execute_result"
    }
   ],
   "source": [
    "observation = pd.concat([state.shift(-i) for i in range(10)], axis=1).fillna(0)\n",
    "observation.tail()"
   ]
  },
  {
   "cell_type": "code",
   "execution_count": 20,
   "metadata": {},
   "outputs": [],
   "source": [
    "observation.to_csv('observation.csv')\n",
    "state.to_csv('state.csv')"
   ]
  },
  {
   "cell_type": "code",
   "execution_count": null,
   "metadata": {},
   "outputs": [],
   "source": []
  }
 ],
 "metadata": {
  "kernelspec": {
   "display_name": "Python 3",
   "language": "python",
   "name": "python3"
  },
  "language_info": {
   "codemirror_mode": {
    "name": "ipython",
    "version": 3
   },
   "file_extension": ".py",
   "mimetype": "text/x-python",
   "name": "python",
   "nbconvert_exporter": "python",
   "pygments_lexer": "ipython3",
   "version": "3.5.4"
  }
 },
 "nbformat": 4,
 "nbformat_minor": 2
}
