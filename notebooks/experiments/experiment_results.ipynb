{
 "cells": [
  {
   "cell_type": "markdown",
   "metadata": {},
   "source": [
    "A notebook to analyze results of energy_py experiments"
   ]
  },
  {
   "cell_type": "code",
   "execution_count": 1,
   "metadata": {},
   "outputs": [],
   "source": [
    "import os\n",
    "\n",
    "import pandas as pd\n",
    "\n",
    "from energy_py import make_panel_fig"
   ]
  },
  {
   "cell_type": "code",
   "execution_count": 2,
   "metadata": {},
   "outputs": [],
   "source": [
    "class Results(object):\n",
    "    def __init__(self, expt_name, agent_name):\n",
    "        self.expt_name = expt_name\n",
    "        self.agent_name = agent_name\n",
    "        \n",
    "        self.data = self.load_data()\n",
    "        self.args = self.load_args()\n",
    "        \n",
    "        self.stats = self.make_stats()\n",
    "        \n",
    "    def load_data(self):\n",
    "        base = os.path.join('/Users/adam/git/energy_py/energy_py/experiments', \n",
    "                            self.expt_name, self.agent_name, 'csvs')\n",
    "        \n",
    "        csvs = ['df_ep.csv', 'df_stp.csv' , 'env_info.csv']\n",
    "        \n",
    "        data = {name: pd.read_csv(base + '/' + name, index_col=0, parse_dates=True) \n",
    "                for name in csvs}\n",
    "        \n",
    "        return data\n",
    "    \n",
    "    def load_args(self):\n",
    "        args_path = os.path.join('/Users/adam/git/energy_py/energy_py/experiments', \n",
    "                            self.expt_name, self.agent_name, 'args.txt')\n",
    "        \n",
    "        args = {}\n",
    "        with open(args_path) as f:\n",
    "            for line in f:\n",
    "                k,v = line.split(',')\n",
    "                v = v.rstrip()\n",
    "                args[k] = v\n",
    "        return args\n",
    "    \n",
    "    def make_stats(self):\n",
    "        eps = self.data['df_ep.csv']\n",
    "        steps = self.data['df_stp.csv']\n",
    "        \n",
    "        self.avg_rew_stp = steps.loc[:, 'reward'].mean()\n",
    "        \n",
    "        #  assuming a 5 min step time\n",
    "        self.avg_annual_rew = self.avg_rew_stp * (12 * 24 * 365)\n",
    "        \n",
    "        self.ep_total_rew = eps.loc[:, 'reward'].values\n",
    "        \n",
    "        self.action_count = int(steps.loc[:, 'act_0'].sum())\n",
    "        \n",
    "        stats = {'average reward per step': self.avg_rew_stp,\n",
    "                 'annual avg reward': self.avg_annual_rew,\n",
    "                 'episode rewards': self.ep_total_rew,\n",
    "                 'flex actions': self.action_count}\n",
    "        \n",
    "        return stats\n",
    "    \n",
    "\n",
    "    \n",
    "    def __repr__(self):\n",
    "        return 'results_obj_{}'.format(self.agent_name)\n",
    "    "
   ]
  },
  {
   "cell_type": "code",
   "execution_count": 3,
   "metadata": {},
   "outputs": [],
   "source": [
    "import pprint\n",
    "\n",
    "pp = pprint.PrettyPrinter()\n",
    "\n",
    "class Experiment(object):\n",
    "    def __init__(self, expt_name, agents):\n",
    "        self.results = [Results(expt_name, agent) for agent in agents]\n",
    "        self.check_results()\n",
    "        \n",
    "    def check_results(self):\n",
    "        #  check that the episode lengths were the same by checking the \n",
    "        #  length of the last episode\n",
    "        all(x==self.results[0].data['env_info.csv'].shape[0]\n",
    "            for x in self.results)\n",
    "        \n",
    "    def output_results(self, print_args=False):\n",
    "        \n",
    "        for result in self.results:\n",
    "            print(repr(result))\n",
    "            if print_args:  pp.pprint(result.args)\n",
    "            pp.pprint(result.stats)\n",
    "            \n",
    "    def make_daily_rew(self):\n",
    "        daily_rew = pd.DataFrame()\n",
    "        \n",
    "        for result in self.results:\n",
    "            env = result.data['env_info.csv']\n",
    "            daily_rew[repr(result)] = env['reward'].groupby([env.index.month, env.index.day]).sum()\n",
    "        \n",
    "        panels = [list(daily_rew.columns)]\n",
    "        print(panels)\n",
    "        \n",
    "        daily_rew = make_panel_fig(daily_rew, panels, 'daily_rew')\n",
    "        \n",
    "        return daily_rew\n",
    "       "
   ]
  },
  {
   "cell_type": "code",
   "execution_count": 7,
   "metadata": {},
   "outputs": [],
   "source": [
    "exp = Experiment('naive_dispatch', ['no_op', 'dispatch'])"
   ]
  },
  {
   "cell_type": "code",
   "execution_count": 8,
   "metadata": {},
   "outputs": [
    {
     "name": "stdout",
     "output_type": "stream",
     "text": [
      "results_obj_no_op\n",
      "{'annual avg reward': 0.0,\n",
      " 'average reward per step': 0.0,\n",
      " 'episode rewards': array([ 0.]),\n",
      " 'flex actions': 0}\n",
      "results_obj_random_0\n",
      "{'annual avg reward': 1577.4866573301679,\n",
      " 'average reward per step': 0.015006532128331125,\n",
      " 'episode rewards': array([ 7398.95556641]),\n",
      " 'flex actions': 24606}\n",
      "results_obj_random_1\n",
      "{'annual avg reward': -2992.4234912313086,\n",
      " 'average reward per step': -0.028466737930282617,\n",
      " 'episode rewards': array([-14035.49707031]),\n",
      " 'flex actions': 24758}\n",
      "results_obj_dispatch\n",
      "{'annual avg reward': 27501.757775450951,\n",
      " 'average reward per step': 0.26162250547422899,\n",
      " 'episode rewards': array([ 128992.7109375]),\n",
      " 'flex actions': 8540}\n"
     ]
    }
   ],
   "source": [
    "exp.output_results()"
   ]
  },
  {
   "cell_type": "code",
   "execution_count": 6,
   "metadata": {},
   "outputs": [
    {
     "name": "stdout",
     "output_type": "stream",
     "text": [
      "[['results_obj_no_op', 'results_obj_random_0', 'results_obj_random_1']]\n"
     ]
    },
    {
     "ename": "AttributeError",
     "evalue": "'AxesSubplot' object has no attribute 'flatten'",
     "output_type": "error",
     "traceback": [
      "\u001b[0;31m---------------------------------------------------------------------------\u001b[0m",
      "\u001b[0;31mAttributeError\u001b[0m                            Traceback (most recent call last)",
      "\u001b[0;32m<ipython-input-6-e13a130120ac>\u001b[0m in \u001b[0;36m<module>\u001b[0;34m()\u001b[0m\n\u001b[1;32m      1\u001b[0m \u001b[0mget_ipython\u001b[0m\u001b[0;34m(\u001b[0m\u001b[0;34m)\u001b[0m\u001b[0;34m.\u001b[0m\u001b[0mrun_line_magic\u001b[0m\u001b[0;34m(\u001b[0m\u001b[0;34m'matplotlib'\u001b[0m\u001b[0;34m,\u001b[0m \u001b[0;34m'inline'\u001b[0m\u001b[0;34m)\u001b[0m\u001b[0;34m\u001b[0m\u001b[0m\n\u001b[0;32m----> 2\u001b[0;31m \u001b[0mexp\u001b[0m\u001b[0;34m.\u001b[0m\u001b[0mmake_daily_rew\u001b[0m\u001b[0;34m(\u001b[0m\u001b[0;34m)\u001b[0m\u001b[0;34m\u001b[0m\u001b[0m\n\u001b[0m",
      "\u001b[0;32m<ipython-input-3-041a7e926001>\u001b[0m in \u001b[0;36mmake_daily_rew\u001b[0;34m(self)\u001b[0m\n\u001b[1;32m     31\u001b[0m         \u001b[0mprint\u001b[0m\u001b[0;34m(\u001b[0m\u001b[0mpanels\u001b[0m\u001b[0;34m)\u001b[0m\u001b[0;34m\u001b[0m\u001b[0m\n\u001b[1;32m     32\u001b[0m \u001b[0;34m\u001b[0m\u001b[0m\n\u001b[0;32m---> 33\u001b[0;31m         \u001b[0mdaily_rew\u001b[0m \u001b[0;34m=\u001b[0m \u001b[0mmake_panel_fig\u001b[0m\u001b[0;34m(\u001b[0m\u001b[0mdaily_rew\u001b[0m\u001b[0;34m,\u001b[0m \u001b[0mpanels\u001b[0m\u001b[0;34m,\u001b[0m \u001b[0;34m'daily_rew'\u001b[0m\u001b[0;34m)\u001b[0m\u001b[0;34m\u001b[0m\u001b[0m\n\u001b[0m\u001b[1;32m     34\u001b[0m \u001b[0;34m\u001b[0m\u001b[0m\n\u001b[1;32m     35\u001b[0m         \u001b[0;32mreturn\u001b[0m \u001b[0mdaily_rew\u001b[0m\u001b[0;34m\u001b[0m\u001b[0m\n",
      "\u001b[0;32m~/anaconda3/envs/energy_py/lib/python3.5/site-packages/energy_py-2.0-py3.5.egg/energy_py/scripts/visualizers.py\u001b[0m in \u001b[0;36mmake_panel_fig\u001b[0;34m(df, panels, name, results_path, ylabels, xlabel, ylims, kinds, errors)\u001b[0m\n\u001b[1;32m    100\u001b[0m                              sharex=True)\n\u001b[1;32m    101\u001b[0m \u001b[0;34m\u001b[0m\u001b[0m\n\u001b[0;32m--> 102\u001b[0;31m     for i, (ax, panel) in enumerate(zip(axes.flatten(),\n\u001b[0m\u001b[1;32m    103\u001b[0m                                         panels)):\n\u001b[1;32m    104\u001b[0m \u001b[0;34m\u001b[0m\u001b[0m\n",
      "\u001b[0;31mAttributeError\u001b[0m: 'AxesSubplot' object has no attribute 'flatten'"
     ]
    },
    {
     "data": {
      "image/png": "[encoded data removed]",
      "text/plain": [
       "<matplotlib.figure.Figure at 0x13b085c18>"
      ]
     },
     "metadata": {},
     "output_type": "display_data"
    }
   ],
   "source": [
    "%matplotlib inline\n",
    "exp.make_daily_rew()"
   ]
  },
  {
   "cell_type": "code",
   "execution_count": null,
   "metadata": {},
   "outputs": [],
   "source": []
  },
  {
   "cell_type": "code",
   "execution_count": null,
   "metadata": {},
   "outputs": [],
   "source": []
  }
 ],
 "metadata": {
  "kernelspec": {
   "display_name": "Python [default]",
   "language": "python",
   "name": "python3"
  },
  "language_info": {
   "codemirror_mode": {
    "name": "ipython",
    "version": 3
   },
   "file_extension": ".py",
   "mimetype": "text/x-python",
   "name": "python",
   "nbconvert_exporter": "python",
   "pygments_lexer": "ipython3",
   "version": "3.5.2"
  }
 },
 "nbformat": 4,
 "nbformat_minor": 2
}
