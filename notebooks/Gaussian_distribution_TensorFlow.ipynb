{
 "cells": [
  {
   "cell_type": "markdown",
   "metadata": {},
   "source": [
    "Purpose of this notebook is to play around with Tensorflow."
   ]
  },
  {
   "cell_type": "code",
   "execution_count": 1,
   "metadata": {
    "collapsed": true
   },
   "outputs": [],
   "source": [
    "#  indexing the output layer of a network into Gaussian distributions"
   ]
  },
  {
   "cell_type": "code",
   "execution_count": 2,
   "metadata": {
    "collapsed": true
   },
   "outputs": [],
   "source": [
    "import numpy as np\n",
    "import tensorflow as tf"
   ]
  },
  {
   "cell_type": "code",
   "execution_count": 3,
   "metadata": {},
   "outputs": [
    {
     "data": {
      "text/plain": [
       "'1.3.0'"
      ]
     },
     "execution_count": 3,
     "metadata": {},
     "output_type": "execute_result"
    }
   ],
   "source": [
    "import pkg_resources\n",
    "pkg_resources.get_distribution(\"tensorflow-gpu\").version"
   ]
  },
  {
   "cell_type": "code",
   "execution_count": 4,
   "metadata": {
    "collapsed": true
   },
   "outputs": [],
   "source": [
    "num_actions = 2\n",
    "output_dim = num_actions * 2  # one for mean, one for stdev\n",
    "observation_dim = 3"
   ]
  },
  {
   "cell_type": "code",
   "execution_count": 5,
   "metadata": {
    "collapsed": true
   },
   "outputs": [],
   "source": [
    "#  first we simulate learning\n",
    "#  we create a neural network using a two dimensions observation\n",
    "\n",
    "observation = tf.placeholder(tf.float32, [None, observation_dim], 'observation')\n",
    "                                              \n",
    "from energy_py.agents.tensorflow_machinery import fc_layer\n",
    "\n",
    "with tf.variable_scope('input_layer'):\n",
    "    input_layer = fc_layer(observation, [observation_dim, 50], [50], tf.nn.relu)\n",
    "\n",
    "with tf.variable_scope('hidden_layer_1'):\n",
    "    hidden_layer_1 = fc_layer(input_layer, [50, 100], [100], tf.nn.relu)\n",
    "\n",
    "with tf.variable_scope('hidden_layer_2'):\n",
    "    hidden_layer_2 = fc_layer(hidden_layer_1, [100, 100], [100], tf.nn.relu)\n",
    "\n",
    "with tf.variable_scope('output_layer'):\n",
    "    output_layer = fc_layer(hidden_layer_2, [100, output_dim], [output_dim])"
   ]
  },
  {
   "cell_type": "code",
   "execution_count": 6,
   "metadata": {
    "collapsed": true
   },
   "outputs": [],
   "source": [
    "#  indexes for the output layer\n",
    "mean_idx = tf.range(start=0, limit=output_dim, delta=2)\n",
    "stdev_idx = tf.range(start=1, limit=output_dim, delta=2)"
   ]
  },
  {
   "cell_type": "code",
   "execution_count": 7,
   "metadata": {},
   "outputs": [],
   "source": [
    "#  gather ops\n",
    "means = tf.gather(params=output_layer, indices=mean_idx, axis=1)\n",
    "stdevs = tf.gather(params=output_layer, indices=stdev_idx, axis=1)\n",
    "stdevs = tf.clip_by_value(stdevs, 1e-10, tf.reduce_max(stdevs))"
   ]
  },
  {
   "cell_type": "code",
   "execution_count": 8,
   "metadata": {
    "collapsed": true
   },
   "outputs": [],
   "source": [
    "#  create normal distributions\n",
    "norm_dist = tf.contrib.distributions.Normal(loc=means, scale=stdevs)\n",
    "action = norm_dist.sample(1)"
   ]
  },
  {
   "cell_type": "code",
   "execution_count": 9,
   "metadata": {
    "collapsed": true
   },
   "outputs": [],
   "source": [
    "#  now for the part of the graph associated with learning\n",
    "taken_action = tf.placeholder(tf.float32, [None, num_actions], 'taken_action')\n",
    "discounted_return = tf.placeholder(tf.float32, [None, 1], 'discounted_returns')\n",
    "\n",
    "probs = norm_dist.prob(taken_action)\n",
    "probs_clipped = tf.clip_by_value(probs, 1e-10, 1)\n",
    "log_probs = tf.log(probs_clipped)"
   ]
  },
  {
   "cell_type": "code",
   "execution_count": 10,
   "metadata": {
    "collapsed": true
   },
   "outputs": [],
   "source": [
    "with tf.Session() as sess:\n",
    "    sess.run(tf.global_variables_initializer())\n",
    "    scaled_observation = np.array([[0, 0.5, 1],[1, 0.5, 1], [1, 0.5, 1]]).reshape(-1, observation_dim)\n",
    "    taken_action_ = np.array([[1e-6,0], [0.5, 0.5], [1,1]]).reshape(-1, num_actions)\n",
    "    discounted_return_ = np.array([1,2,3]).reshape(-1, 1)\n",
    "    outputs = sess.run([means, stdevs, taken_action, probs, probs_clipped], {observation : scaled_observation, \n",
    "                                                          taken_action : taken_action_,\n",
    "                                                          discounted_return : discounted_return_})"
   ]
  },
  {
   "cell_type": "code",
   "execution_count": 11,
   "metadata": {},
   "outputs": [
    {
     "name": "stdout",
     "output_type": "stream",
     "text": [
      "[[-21.9981308   24.8816967 ]\n",
      " [-24.03048325  36.97780228]\n",
      " [-24.03048325  36.97780228]]\n",
      "[[  1.32588539e+01   1.00000001e-10]\n",
      " [  5.08512421e+01   1.00000001e-10]\n",
      " [  5.08512421e+01   1.00000001e-10]]\n",
      "[[  9.99999997e-07   0.00000000e+00]\n",
      " [  5.00000000e-01   5.00000000e-01]\n",
      " [  1.00000000e+00   1.00000000e+00]]\n",
      "[[ 0.00759735  0.        ]\n",
      " [ 0.00698356  0.        ]\n",
      " [ 0.00695018  0.        ]]\n",
      "[[  7.59734632e-03   1.00000001e-10]\n",
      " [  6.98355865e-03   1.00000001e-10]\n",
      " [  6.95017865e-03   1.00000001e-10]]\n"
     ]
    }
   ],
   "source": [
    "for out in outputs:\n",
    "    print(out)"
   ]
  },
  {
   "cell_type": "code",
   "execution_count": null,
   "metadata": {
    "collapsed": true
   },
   "outputs": [],
   "source": []
  }
 ],
 "metadata": {
  "kernelspec": {
   "display_name": "Python [conda env:energy_py]",
   "language": "python",
   "name": "conda-env-energy_py-py"
  },
  "language_info": {
   "codemirror_mode": {
    "name": "ipython",
    "version": 3
   },
   "file_extension": ".py",
   "mimetype": "text/x-python",
   "name": "python",
   "nbconvert_exporter": "python",
   "pygments_lexer": "ipython3",
   "version": "3.5.2"
  }
 },
 "nbformat": 4,
 "nbformat_minor": 2
}
