{
 "cells": [
  {
   "cell_type": "code",
   "execution_count": 1,
   "metadata": {},
   "outputs": [
    {
     "name": "stderr",
     "output_type": "stream",
     "text": [
      "/Users/adam/anaconda3/envs/energy_py/lib/python3.5/importlib/_bootstrap.py:222: RuntimeWarning: compiletime version 3.6 of module 'tensorflow.python.framework.fast_tensor_util' does not match runtime version 3.5\n",
      "  return f(*args, **kwds)\n",
      "/Users/adam/anaconda3/envs/energy_py/lib/python3.5/site-packages/h5py/__init__.py:36: FutureWarning: Conversion of the second argument of issubdtype from `float` to `np.floating` is deprecated. In future, it will be treated as `np.float64 == np.dtype(float).type`.\n",
      "  from ._conv import register_converters as _register_converters\n"
     ]
    }
   ],
   "source": [
    "import csv\n",
    "from collections import defaultdict\n",
    "import json\n",
    "import os\n",
    "\n",
    "\n",
    "import random\n",
    "\n",
    "import matplotlib.pyplot as plt\n",
    "import numpy as np\n",
    "import pandas as pd\n",
    "\n",
    "from energy_py.common.utils import print_txt\n",
    "\n",
    "from energy_py.common.experiments.analysis import read_run_results"
   ]
  },
  {
   "cell_type": "code",
   "execution_count": 2,
   "metadata": {},
   "outputs": [],
   "source": [
    "\n",
    "\n",
    "def process_result(result, useful_cols, verbose=False):\n",
    "    result = result[useful_cols]\n",
    "\n",
    "    total_reward = result['reward'].sum()\n",
    "#     num_actions = result['flex_counter'].max()\n",
    "\n",
    "    output = {\n",
    "        #'number flex actions': num_actions,\n",
    "        'total episode reward [$]': total_reward\n",
    "    }\n",
    "\n",
    "    if verbose:\n",
    "        groups = {}\n",
    "        groups['electricity_price'] = [np.mean, np.max, np.min]\n",
    "        groups['flex_up'] = [np.sum]\n",
    "        groups['flex_down'] = [np.sum]\n",
    "        groups['flex_up'] = [np.sum]\n",
    "        \n",
    "        group = result.groupby('flex_counter').agg(groups)\n",
    "        print(group)\n",
    "\n",
    "        for k, v in output.items():\n",
    "            print('{} {:2.0f}'.format(k, v))\n",
    "\n",
    "    return output\n",
    "\n",
    "\n",
    "\n",
    "class Results(object):\n",
    "    \"\"\"\n",
    "    Processes environment histories\n",
    "    \n",
    "    args\n",
    "        run_name (path) /expt_name/run_name\n",
    "        verbose (bool)\n",
    "    \"\"\"\n",
    "    def __init__(self, run_name, cols, verbose=False):\n",
    "        self.run_name = run_name\n",
    "        self.cols = cols\n",
    "        \n",
    "        self.results = read_run_results(self.run_name, verbose)\n",
    "        \n",
    "        self.episode_length = self.results[-1].shape[0]\n",
    "        \n",
    "        self.episode_summary = self.summarize_results()\n",
    "        \n",
    "    def summarize_results(self):\n",
    "        result_summary = defaultdict(list)\n",
    "\n",
    "        for result in self.results:\n",
    "            out = process_result(result, self.cols)\n",
    "            for k, v in out.items():\n",
    "                result_summary[k].append(v)\n",
    "                \n",
    "        episode_summary = pd.DataFrame().from_dict(result_summary)\n",
    "        \n",
    "        num_5mins_per_day = 12 * 24\n",
    "        num_5mins_per_year = num_5mins_per_day * 365\n",
    "        \n",
    "        avg_ep_reward = episode_summary['total episode reward [$]'].mean()\n",
    "        avg_daily_reward = avg_ep_reward / (self.episode_length / num_5mins_per_day)\n",
    "        avg_annual_reward = avg_ep_reward / (self.episode_length / num_5mins_per_year)\n",
    "\n",
    "        print('Results for {}'.format(self.run_name))\n",
    "        print(' ')\n",
    "        print('avg episode reward [$] {:2.0f}'.format(avg_ep_reward))\n",
    "        print('avg daily reward [$] {:2.0f}'.format(avg_daily_reward))\n",
    "        print('avg annual reward [$] {:2.0f}'.format(avg_annual_reward))\n",
    "\n",
    "        #num_eps_no_flex = episode_summary[episode_summary['number flex actions'] == 0].shape[0]\n",
    "        #print('num episodes without flexing {} of {} days'.format(num_eps_no_flex, episode_summary.shape[0]))\n",
    "        \n",
    "        num_eps_losses = episode_summary[episode_summary['total episode reward [$]'] < 0].shape[0]\n",
    "        print('num episodes of losses {}'.format(num_eps_losses))\n",
    "        \n",
    "        all_results = pd.concat(self.results, axis=0)\n",
    "        monthly = all_results['reward'].groupby(all_results.index.month).sum()\n",
    "        print(monthly)\n",
    "        \n",
    "        return out"
   ]
  },
  {
   "cell_type": "code",
   "execution_count": 3,
   "metadata": {},
   "outputs": [
    {
     "name": "stdout",
     "output_type": "stream",
     "text": [
      "Reading results for new_flex/autoflex\n",
      " \n",
      "AGENT ARGS\n",
      "agent_id,autoflex\n",
      "act_path,/Users/adam/git/energy_py/energy_py/experiments/results/new_flex/tensorboard/autoflex/act\n",
      "total_steps,1\n",
      "learn_path,/Users/adam/git/energy_py/energy_py/experiments/results/new_flex/tensorboard/autoflex/learn\n",
      "env_repr,<energy_py flex environment>\n",
      "seed,2\n",
      "env,<energy_py flex environment>\n",
      "sess,<tensorflow.python.client.session.Session object at 0x120320978>\n",
      "\n",
      "ENV ARGS\n",
      "episode_length,0\n",
      "dataset,example\n",
      "episode_sample,full\n",
      "env_id,flex\n",
      "\n"
     ]
    },
    {
     "ename": "NameError",
     "evalue": "name 'os' is not defined",
     "output_type": "error",
     "traceback": [
      "\u001b[0;31m---------------------------------------------------------------------------\u001b[0m",
      "\u001b[0;31mNameError\u001b[0m                                 Traceback (most recent call last)",
      "\u001b[0;32m<ipython-input-3-c0fd07e578c0>\u001b[0m in \u001b[0;36m<module>\u001b[0;34m()\u001b[0m\n\u001b[1;32m      6\u001b[0m                \u001b[0;34m'site_electricity_consumption'\u001b[0m\u001b[0;34m\u001b[0m\u001b[0m\n\u001b[1;32m      7\u001b[0m               ], \n\u001b[0;32m----> 8\u001b[0;31m               verbose=True)\n\u001b[0m",
      "\u001b[0;32m<ipython-input-2-f0ef2c2fa85a>\u001b[0m in \u001b[0;36m__init__\u001b[0;34m(self, run_name, cols, verbose)\u001b[0m\n\u001b[1;32m     41\u001b[0m         \u001b[0mself\u001b[0m\u001b[0;34m.\u001b[0m\u001b[0mcols\u001b[0m \u001b[0;34m=\u001b[0m \u001b[0mcols\u001b[0m\u001b[0;34m\u001b[0m\u001b[0m\n\u001b[1;32m     42\u001b[0m \u001b[0;34m\u001b[0m\u001b[0m\n\u001b[0;32m---> 43\u001b[0;31m         \u001b[0mself\u001b[0m\u001b[0;34m.\u001b[0m\u001b[0mresults\u001b[0m \u001b[0;34m=\u001b[0m \u001b[0mread_run_results\u001b[0m\u001b[0;34m(\u001b[0m\u001b[0mself\u001b[0m\u001b[0;34m.\u001b[0m\u001b[0mrun_name\u001b[0m\u001b[0;34m,\u001b[0m \u001b[0mverbose\u001b[0m\u001b[0;34m)\u001b[0m\u001b[0;34m\u001b[0m\u001b[0m\n\u001b[0m\u001b[1;32m     44\u001b[0m \u001b[0;34m\u001b[0m\u001b[0m\n\u001b[1;32m     45\u001b[0m         \u001b[0mself\u001b[0m\u001b[0;34m.\u001b[0m\u001b[0mepisode_length\u001b[0m \u001b[0;34m=\u001b[0m \u001b[0mself\u001b[0m\u001b[0;34m.\u001b[0m\u001b[0mresults\u001b[0m\u001b[0;34m[\u001b[0m\u001b[0;34m-\u001b[0m\u001b[0;36m1\u001b[0m\u001b[0;34m]\u001b[0m\u001b[0;34m.\u001b[0m\u001b[0mshape\u001b[0m\u001b[0;34m[\u001b[0m\u001b[0;36m0\u001b[0m\u001b[0;34m]\u001b[0m\u001b[0;34m\u001b[0m\u001b[0m\n",
      "\u001b[0;32m~/git/energy_py/energy_py/common/experiments/analysis.py\u001b[0m in \u001b[0;36mread_run_results\u001b[0;34m(run_name, verbose)\u001b[0m\n\u001b[1;32m     23\u001b[0m     \u001b[0mresults_path\u001b[0m \u001b[0;34m=\u001b[0m \u001b[0mjoin\u001b[0m\u001b[0;34m(\u001b[0m\u001b[0mresults_path\u001b[0m\u001b[0;34m,\u001b[0m \u001b[0mrun_name\u001b[0m\u001b[0;34m,\u001b[0m \u001b[0;34m'env_histories'\u001b[0m\u001b[0;34m)\u001b[0m\u001b[0;34m\u001b[0m\u001b[0m\n\u001b[1;32m     24\u001b[0m     \u001b[0mhists\u001b[0m \u001b[0;34m=\u001b[0m \u001b[0;34m[\u001b[0m\u001b[0;34m]\u001b[0m\u001b[0;34m\u001b[0m\u001b[0m\n\u001b[0;32m---> 25\u001b[0;31m     \u001b[0;32mfor\u001b[0m \u001b[0mroot\u001b[0m\u001b[0;34m,\u001b[0m \u001b[0mdirs\u001b[0m\u001b[0;34m,\u001b[0m \u001b[0mfiles\u001b[0m \u001b[0;32min\u001b[0m \u001b[0mos\u001b[0m\u001b[0;34m.\u001b[0m\u001b[0mwalk\u001b[0m\u001b[0;34m(\u001b[0m\u001b[0mresults_path\u001b[0m\u001b[0;34m)\u001b[0m\u001b[0;34m:\u001b[0m\u001b[0;34m\u001b[0m\u001b[0m\n\u001b[0m\u001b[1;32m     26\u001b[0m         \u001b[0;32mfor\u001b[0m \u001b[0mf\u001b[0m \u001b[0;32min\u001b[0m \u001b[0mfiles\u001b[0m\u001b[0;34m:\u001b[0m\u001b[0;34m\u001b[0m\u001b[0m\n\u001b[1;32m     27\u001b[0m             \u001b[0mhists\u001b[0m\u001b[0;34m.\u001b[0m\u001b[0mappend\u001b[0m\u001b[0;34m(\u001b[0m\u001b[0mpd\u001b[0m\u001b[0;34m.\u001b[0m\u001b[0mread_csv\u001b[0m\u001b[0;34m(\u001b[0m\u001b[0mjoin\u001b[0m\u001b[0;34m(\u001b[0m\u001b[0mroot\u001b[0m\u001b[0;34m,\u001b[0m \u001b[0mf\u001b[0m\u001b[0;34m)\u001b[0m\u001b[0;34m,\u001b[0m \u001b[0mindex_col\u001b[0m\u001b[0;34m=\u001b[0m\u001b[0;36m0\u001b[0m\u001b[0;34m,\u001b[0m \u001b[0mparse_dates\u001b[0m\u001b[0;34m=\u001b[0m\u001b[0;32mTrue\u001b[0m\u001b[0;34m)\u001b[0m\u001b[0;34m)\u001b[0m\u001b[0;34m\u001b[0m\u001b[0m\n",
      "\u001b[0;31mNameError\u001b[0m: name 'os' is not defined"
     ]
    }
   ],
   "source": [
    "res = Results('new_flex/autoflex', \n",
    "              ['charge', \n",
    "               'electricity_price', \n",
    "               'reward',\n",
    "               'site_demand',\n",
    "               'site_electricity_consumption'\n",
    "              ], \n",
    "              verbose=True)"
   ]
  },
  {
   "cell_type": "code",
   "execution_count": null,
   "metadata": {},
   "outputs": [],
   "source": [
    "def plot_result(hist, cols):\n",
    "    hist = hist.iloc[-200:, :]\n",
    "    f, axes = plt.subplots(nrows=len(cols), \n",
    "                           figsize=(len(cols)*5, len(cols)*4))\n",
    "    axes = axes.flatten()\n",
    "    \n",
    "    for ax, col in zip(axes, cols):\n",
    "        hist.plot(y=col, color='g', ax=ax)\n",
    "        ax.set_title(col)\n",
    "\n",
    "    return f\n",
    "        \n",
    "\n",
    "_ = plot_result(res.results[0], res.cols)"
   ]
  },
  {
   "cell_type": "code",
   "execution_count": null,
   "metadata": {},
   "outputs": [],
   "source": [
    "res.results[0]['action'].describe()"
   ]
  },
  {
   "cell_type": "code",
   "execution_count": null,
   "metadata": {},
   "outputs": [],
   "source": [
    "res = Results('new_flex/random', \n",
    "              ['charge', \n",
    "               'electricity_price', \n",
    "               'reward',\n",
    "               'site_demand',\n",
    "               'site_electricity_consumption'\n",
    "              ], \n",
    "              verbose=True)"
   ]
  },
  {
   "cell_type": "code",
   "execution_count": null,
   "metadata": {},
   "outputs": [],
   "source": []
  }
 ],
 "metadata": {
  "kernelspec": {
   "display_name": "Python 3",
   "language": "python",
   "name": "python3"
  },
  "language_info": {
   "codemirror_mode": {
    "name": "ipython",
    "version": 3
   },
   "file_extension": ".py",
   "mimetype": "text/x-python",
   "name": "python",
   "nbconvert_exporter": "python",
   "pygments_lexer": "ipython3",
   "version": "3.5.2"
  }
 },
 "nbformat": 4,
 "nbformat_minor": 2
}
