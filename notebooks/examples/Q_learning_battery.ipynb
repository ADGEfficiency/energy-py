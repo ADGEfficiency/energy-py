{
 "cells": [
  {
   "cell_type": "markdown",
   "metadata": {},
   "source": [
    "# Q-Learning with Battery Example\n",
    "Purpose of this notebook is to demonstrate the ability of a reinforcement learning agent based on Q-Learning to learn to control a battery."
   ]
  },
  {
   "cell_type": "code",
   "execution_count": 1,
   "metadata": {},
   "outputs": [],
   "source": [
    "import os\n",
    "\n",
    "import numpy as np\n",
    "import pandas as pd\n",
    "import tensorflow as tf\n",
    "\n",
    "from energy_py import Runner\n",
    "from energy_py.agents import DQN\n",
    "from energy_py.envs import BatteryEnv"
   ]
  },
  {
   "cell_type": "code",
   "execution_count": 2,
   "metadata": {},
   "outputs": [],
   "source": [
    "#  set random seeds for repeatability\n",
    "np.random.seed(42)\n",
    "tf.set_random_seed(42)"
   ]
  },
  {
   "cell_type": "code",
   "execution_count": 11,
   "metadata": {
    "scrolled": true
   },
   "outputs": [],
   "source": [
    "#  define a total number of steps for the experiment to run\n",
    "TOTAL_STEPS = 100000\n",
    "\n",
    "#  to setup the agent we use a dictionary\n",
    "#  a dictionary allows us to eaisly save the config to csv if we want\n",
    "agent_config = {'discount': 0.97,                 #  the discount rate\n",
    "                'tau': 0.001,                     #  parameter that controls the copying of weights from online to target network\n",
    "                'total_steps': TOTAL_STEPS,   \n",
    "                'batch_size': 32,                 #  size of the minibatches used for learning\n",
    "                'layers': (5, 5),               #  structure of the neural network used to approximate Q(s,a)\n",
    "                'learning_rate': 0.0001,          #  controls the stength of weight updates during learning       \n",
    "                'epsilon_decay_fraction': 0.3,    #  a fraction as % of total steps where epsilon decayed from 1.0 to 0.1\n",
    "                'memory_fraction': 0.4,           #  the size of the replay memory as a % of total steps\n",
    "                'memory_type': 'deque',           #  the replay memory implementation we want\n",
    "                'process_observation': 'standardizer',\n",
    "                'process_target': 'normalizer'}    \n",
    "\n",
    "#  we standardize the observations to keep gradients under control when learning\n",
    "#  we normalize the batch for the same reasons\n",
    "\n",
    "#  keep all of the BatteryEnv variables (episode length, efficiency etc) at their defaults\n",
    "#  we just need to let our env know where our state.csv and observation.csv are (data_path)\n",
    "env = BatteryEnv(data_path=os.getcwd())"
   ]
  },
  {
   "cell_type": "code",
   "execution_count": 12,
   "metadata": {},
   "outputs": [
    {
     "name": "stdout",
     "output_type": "stream",
     "text": [
      "progress - 9.4% - episode 200 - run time 0.14 - episode reward 17.15 - avg rewards -24.86\n",
      "progress - 18.8% - episode 400 - run time 0.36 - episode reward 27.94 - avg rewards -10.45\n",
      "progress - 28.2% - episode 600 - run time 2.56 - episode reward -7.46 - avg rewards -16.77\n",
      "progress - 37.6% - episode 800 - run time 5.32 - episode reward 1.23 - avg rewards -5.44\n",
      "progress - 47.0% - episode 1000 - run time 8.21 - episode reward 9.39 - avg rewards -0.80\n",
      "progress - 56.4% - episode 1200 - run time 11.10 - episode reward 0.00 - avg rewards -0.42\n",
      "progress - 65.8% - episode 1400 - run time 14.09 - episode reward -19.17 - avg rewards -0.96\n",
      "progress - 75.2% - episode 1600 - run time 17.04 - episode reward -4.34 - avg rewards 0.12\n",
      "progress - 84.6% - episode 1800 - run time 19.93 - episode reward 0.00 - avg rewards -0.88\n",
      "progress - 94.0% - episode 2000 - run time 22.76 - episode reward 0.96 - avg rewards 0.44\n"
     ]
    }
   ],
   "source": [
    "#  Runner is a class that helps us with experiments - tracking rewards, writing environment info to csv and managing TensorBoard\n",
    "#  in this notebook we just use it to track rewards for us\n",
    "runner = Runner()\n",
    "\n",
    "#  initialize Tensorflow machinery\n",
    "with tf.Session() as sess:\n",
    "    sess.run(tf.global_variables_initializer())\n",
    "    \n",
    "    #  add the tf session and the environment to the agent config dictionary\n",
    "    #  and initialize the agent\n",
    "    agent_config['sess'] = sess\n",
    "    agent_config['env'] = env\n",
    "    agent = DQN(**agent_config)\n",
    "    \n",
    "    #  initial values for the step and episode number\n",
    "    step, episode = 0, 0\n",
    "\n",
    "    #  outer while loop runs through multiple episodes\n",
    "    while step < TOTAL_STEPS:\n",
    "        episode += 1\n",
    "        done = False\n",
    "        observation = env.reset()\n",
    "        \n",
    "        #  inner while loop runs through a single episode\n",
    "        while not done:\n",
    "            step += 1\n",
    "            #  select an action\n",
    "            action = agent.act(observation)\n",
    "            \n",
    "            #  take one step through the environment\n",
    "            next_observation, reward, done, info = env.step(action)\n",
    "            \n",
    "            #  store the experience\n",
    "            agent.remember(observation, action, reward,\n",
    "                           next_observation, done)\n",
    "            \n",
    "            #  moving to the next time step\n",
    "            observation = next_observation\n",
    "            #  saving the reward \n",
    "            runner.append(reward)\n",
    "            \n",
    "            #  we don't start learning until the memory is half full\n",
    "            if step > int(agent.memory.size * 0.5):\n",
    "                train_info = agent.learn()\n",
    "        \n",
    "        if episode % 200 == 0:\n",
    "            print('progress - {:.1f}% - episode {:.0f} - run time {:.2f} - episode reward {:.2f} - avg rewards {:.2f}'.format(100*step/TOTAL_STEPS,\n",
    "                                                                                                                              episode,\n",
    "                                                                                                                              runner.calc_time(),\n",
    "                                                                                                                              sum(runner.ep_rewards),\n",
    "                                                                                                                              runner.avg_rew))\n",
    "        #  the report method should be run at the end of each episode\n",
    "        runner.report({'ep': episode,\n",
    "                       'step': step})"
   ]
  },
  {
   "cell_type": "code",
   "execution_count": 13,
   "metadata": {},
   "outputs": [
    {
     "data": {
      "text/plain": [
       "[<matplotlib.lines.Line2D at 0x12195c3c8>]"
      ]
     },
     "execution_count": 13,
     "metadata": {},
     "output_type": "execute_result"
    },
    {
     "data": {
      "image/png": "[encoded data removed]",
      "text/plain": [
       "<matplotlib.figure.Figure at 0x120430518>"
      ]
     },
     "metadata": {},
     "output_type": "display_data"
    }
   ],
   "source": [
    "#  energy_py uses TensorBoard for logging - for the scope of this notebook example we will do\n",
    "#  some plotting using matplotlib\n",
    "\n",
    "import matplotlib.pyplot as plt\n",
    "\n",
    "episode_rewards = runner.global_rewards\n",
    "plt.plot(episode_rewards)"
   ]
  },
  {
   "cell_type": "code",
   "execution_count": 14,
   "metadata": {},
   "outputs": [
    {
     "data": {
      "text/html": [
       "<div>\n",
       "<style scoped>\n",
       "    .dataframe tbody tr th:only-of-type {\n",
       "        vertical-align: middle;\n",
       "    }\n",
       "\n",
       "    .dataframe tbody tr th {\n",
       "        vertical-align: top;\n",
       "    }\n",
       "\n",
       "    .dataframe thead th {\n",
       "        text-align: right;\n",
       "    }\n",
       "</style>\n",
       "<table border=\"1\" class=\"dataframe\">\n",
       "  <thead>\n",
       "    <tr style=\"text-align: right;\">\n",
       "      <th></th>\n",
       "      <th>action</th>\n",
       "      <th>done</th>\n",
       "      <th>electricity_price</th>\n",
       "      <th>gross_rate</th>\n",
       "      <th>losses</th>\n",
       "      <th>net_stored</th>\n",
       "      <th>new_charge</th>\n",
       "      <th>next_observation</th>\n",
       "      <th>next_state</th>\n",
       "      <th>observation</th>\n",
       "      <th>old_charge</th>\n",
       "      <th>reward</th>\n",
       "      <th>state</th>\n",
       "      <th>steps</th>\n",
       "    </tr>\n",
       "  </thead>\n",
       "  <tbody>\n",
       "    <tr>\n",
       "      <th>0</th>\n",
       "      <td>[1.5789473684210527, 1.6842105263157894]</td>\n",
       "      <td>False</td>\n",
       "      <td>50.0</td>\n",
       "      <td>0.0</td>\n",
       "      <td>0</td>\n",
       "      <td>0.0</td>\n",
       "      <td>0.0</td>\n",
       "      <td>[[50.0, 50.0, 50.0, 100.0, 100.0, 1.0, 1.0, 0.0]]</td>\n",
       "      <td>[[50.0, 0.0]]</td>\n",
       "      <td>[[50.0, 50.0, 50.0, 50.0, 100.0, 0.0, 1.0, 0.0]]</td>\n",
       "      <td>0.0</td>\n",
       "      <td>-0.0</td>\n",
       "      <td>[[50.0, 0.0]]</td>\n",
       "      <td>1</td>\n",
       "    </tr>\n",
       "    <tr>\n",
       "      <th>1</th>\n",
       "      <td>[1.5789473684210527, 1.6842105263157894]</td>\n",
       "      <td>False</td>\n",
       "      <td>50.0</td>\n",
       "      <td>0.0</td>\n",
       "      <td>0</td>\n",
       "      <td>0.0</td>\n",
       "      <td>0.0</td>\n",
       "      <td>[[50.0, 50.0, 100.0, 100.0, 100.0, 2.0, 1.0, 0...</td>\n",
       "      <td>[[50.0, 0.0]]</td>\n",
       "      <td>[[50.0, 50.0, 50.0, 100.0, 100.0, 1.0, 1.0, 0.0]]</td>\n",
       "      <td>0.0</td>\n",
       "      <td>-0.0</td>\n",
       "      <td>[[50.0, 0.0]]</td>\n",
       "      <td>2</td>\n",
       "    </tr>\n",
       "    <tr>\n",
       "      <th>2</th>\n",
       "      <td>[1.5789473684210527, 1.6842105263157894]</td>\n",
       "      <td>False</td>\n",
       "      <td>50.0</td>\n",
       "      <td>0.0</td>\n",
       "      <td>0</td>\n",
       "      <td>0.0</td>\n",
       "      <td>0.0</td>\n",
       "      <td>[[50.0, 100.0, 100.0, 100.0, 100.0, 3.0, 1.0, ...</td>\n",
       "      <td>[[50.0, 0.0]]</td>\n",
       "      <td>[[50.0, 50.0, 100.0, 100.0, 100.0, 2.0, 1.0, 0...</td>\n",
       "      <td>0.0</td>\n",
       "      <td>-0.0</td>\n",
       "      <td>[[50.0, 0.0]]</td>\n",
       "      <td>3</td>\n",
       "    </tr>\n",
       "    <tr>\n",
       "      <th>3</th>\n",
       "      <td>[1.5789473684210527, 1.6842105263157894]</td>\n",
       "      <td>False</td>\n",
       "      <td>50.0</td>\n",
       "      <td>0.0</td>\n",
       "      <td>0</td>\n",
       "      <td>0.0</td>\n",
       "      <td>0.0</td>\n",
       "      <td>[[100.0, 100.0, 100.0, 100.0, 100.0, 4.0, 1.0,...</td>\n",
       "      <td>[[100.0, 0.0]]</td>\n",
       "      <td>[[50.0, 100.0, 100.0, 100.0, 100.0, 3.0, 1.0, ...</td>\n",
       "      <td>0.0</td>\n",
       "      <td>-0.0</td>\n",
       "      <td>[[50.0, 0.0]]</td>\n",
       "      <td>4</td>\n",
       "    </tr>\n",
       "    <tr>\n",
       "      <th>4</th>\n",
       "      <td>[1.5789473684210527, 1.6842105263157894]</td>\n",
       "      <td>False</td>\n",
       "      <td>100.0</td>\n",
       "      <td>0.0</td>\n",
       "      <td>0</td>\n",
       "      <td>0.0</td>\n",
       "      <td>0.0</td>\n",
       "      <td>[[100.0, 100.0, 100.0, 100.0, -50.0, 5.0, 1.0,...</td>\n",
       "      <td>[[100.0, 0.0]]</td>\n",
       "      <td>[[100.0, 100.0, 100.0, 100.0, 100.0, 4.0, 1.0,...</td>\n",
       "      <td>0.0</td>\n",
       "      <td>-0.0</td>\n",
       "      <td>[[100.0, 0.0]]</td>\n",
       "      <td>5</td>\n",
       "    </tr>\n",
       "  </tbody>\n",
       "</table>\n",
       "</div>"
      ],
      "text/plain": [
       "                                     action   done  electricity_price  \\\n",
       "0  [1.5789473684210527, 1.6842105263157894]  False               50.0   \n",
       "1  [1.5789473684210527, 1.6842105263157894]  False               50.0   \n",
       "2  [1.5789473684210527, 1.6842105263157894]  False               50.0   \n",
       "3  [1.5789473684210527, 1.6842105263157894]  False               50.0   \n",
       "4  [1.5789473684210527, 1.6842105263157894]  False              100.0   \n",
       "\n",
       "   gross_rate  losses  net_stored  new_charge  \\\n",
       "0         0.0       0         0.0         0.0   \n",
       "1         0.0       0         0.0         0.0   \n",
       "2         0.0       0         0.0         0.0   \n",
       "3         0.0       0         0.0         0.0   \n",
       "4         0.0       0         0.0         0.0   \n",
       "\n",
       "                                    next_observation      next_state  \\\n",
       "0  [[50.0, 50.0, 50.0, 100.0, 100.0, 1.0, 1.0, 0.0]]   [[50.0, 0.0]]   \n",
       "1  [[50.0, 50.0, 100.0, 100.0, 100.0, 2.0, 1.0, 0...   [[50.0, 0.0]]   \n",
       "2  [[50.0, 100.0, 100.0, 100.0, 100.0, 3.0, 1.0, ...   [[50.0, 0.0]]   \n",
       "3  [[100.0, 100.0, 100.0, 100.0, 100.0, 4.0, 1.0,...  [[100.0, 0.0]]   \n",
       "4  [[100.0, 100.0, 100.0, 100.0, -50.0, 5.0, 1.0,...  [[100.0, 0.0]]   \n",
       "\n",
       "                                         observation  old_charge  reward  \\\n",
       "0   [[50.0, 50.0, 50.0, 50.0, 100.0, 0.0, 1.0, 0.0]]         0.0    -0.0   \n",
       "1  [[50.0, 50.0, 50.0, 100.0, 100.0, 1.0, 1.0, 0.0]]         0.0    -0.0   \n",
       "2  [[50.0, 50.0, 100.0, 100.0, 100.0, 2.0, 1.0, 0...         0.0    -0.0   \n",
       "3  [[50.0, 100.0, 100.0, 100.0, 100.0, 3.0, 1.0, ...         0.0    -0.0   \n",
       "4  [[100.0, 100.0, 100.0, 100.0, 100.0, 4.0, 1.0,...         0.0    -0.0   \n",
       "\n",
       "            state  steps  \n",
       "0   [[50.0, 0.0]]      1  \n",
       "1   [[50.0, 0.0]]      2  \n",
       "2   [[50.0, 0.0]]      3  \n",
       "3   [[50.0, 0.0]]      4  \n",
       "4  [[100.0, 0.0]]      5  "
      ]
     },
     "execution_count": 14,
     "metadata": {},
     "output_type": "execute_result"
    }
   ],
   "source": [
    "#  we can also look at what happened in our last episode\n",
    "ep_hist = pd.DataFrame.from_dict(info)\n",
    "ep_hist.head()"
   ]
  },
  {
   "cell_type": "code",
   "execution_count": 15,
   "metadata": {},
   "outputs": [
    {
     "data": {
      "text/plain": [
       "[<matplotlib.lines.Line2D at 0x121a14c50>]"
      ]
     },
     "execution_count": 15,
     "metadata": {},
     "output_type": "execute_result"
    },
    {
     "data": {
      "image/png": "[encoded data removed]",
      "text/plain": [
       "<matplotlib.figure.Figure at 0x12195c8d0>"
      ]
     },
     "metadata": {},
     "output_type": "display_data"
    }
   ],
   "source": [
    "plt.plot(ep_hist.loc[:, 'new_charge'])"
   ]
  },
  {
   "cell_type": "code",
   "execution_count": 16,
   "metadata": {},
   "outputs": [
    {
     "data": {
      "text/plain": [
       "[<matplotlib.lines.Line2D at 0x121a8aba8>]"
      ]
     },
     "execution_count": 16,
     "metadata": {},
     "output_type": "execute_result"
    },
    {
     "data": {
      "image/png": "[encoded data removed]",
      "text/plain": [
       "<matplotlib.figure.Figure at 0x121a0b160>"
      ]
     },
     "metadata": {},
     "output_type": "display_data"
    }
   ],
   "source": [
    "plt.plot(ep_hist.loc[:, 'electricity_price'])"
   ]
  },
  {
   "cell_type": "code",
   "execution_count": 17,
   "metadata": {},
   "outputs": [
    {
     "data": {
      "text/plain": [
       "0.0"
      ]
     },
     "execution_count": 17,
     "metadata": {},
     "output_type": "execute_result"
    }
   ],
   "source": [
    "ep_hist.loc[:, 'reward'].sum()"
   ]
  },
  {
   "cell_type": "code",
   "execution_count": null,
   "metadata": {},
   "outputs": [],
   "source": []
  }
 ],
 "metadata": {
  "kernelspec": {
   "display_name": "Python 3",
   "language": "python",
   "name": "python3"
  },
  "language_info": {
   "codemirror_mode": {
    "name": "ipython",
    "version": 3
   },
   "file_extension": ".py",
   "mimetype": "text/x-python",
   "name": "python",
   "nbconvert_exporter": "python",
   "pygments_lexer": "ipython3",
   "version": "3.5.2"
  }
 },
 "nbformat": 4,
 "nbformat_minor": 2
}
