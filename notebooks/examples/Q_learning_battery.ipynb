{
 "cells": [
  {
   "cell_type": "markdown",
   "metadata": {},
   "source": [
    "# Q-Learning with Battery Example\n",
    "Purpose of this notebook is to demonstrate the ability of a reinforcement learning agent based on Q-Learning to learn to control a battery."
   ]
  },
  {
   "cell_type": "code",
   "execution_count": 1,
   "metadata": {},
   "outputs": [],
   "source": [
    "import os\n",
    "\n",
    "import numpy as np\n",
    "import pandas as pd\n",
    "import tensorflow as tf\n",
    "\n",
    "from energy_py import Runner\n",
    "from energy_py.agents import DQN\n",
    "from energy_py.envs import BatteryEnv"
   ]
  },
  {
   "cell_type": "code",
   "execution_count": 2,
   "metadata": {},
   "outputs": [],
   "source": [
    "#  set random seeds for repeatability\n",
    "np.random.seed(42)\n",
    "tf.set_random_seed(42)"
   ]
  },
  {
   "cell_type": "code",
   "execution_count": 3,
   "metadata": {
    "scrolled": true
   },
   "outputs": [],
   "source": [
    "#  define a total number of steps for the experiment to run\n",
    "TOTAL_STEPS = 400000\n",
    "\n",
    "#  to setup the agent we use a dictionary\n",
    "#  a dictionary allows us to eaisly save the config to csv if we want\n",
    "agent_config = {'discount': 0.97,                 #  the discount rate\n",
    "                'tau': 0.001,                     #  parameter that controls the copying of weights from online to target network\n",
    "                'total_steps': TOTAL_STEPS,   \n",
    "                'batch_size': 32,                 #  size of the minibatches used for learning\n",
    "                'layers': (50, 50),               #  structure of the neural network used to approximate Q(s,a)\n",
    "                'learning_rate': 0.0001,          #  controls the stength of weight updates during learning       \n",
    "                'epsilon_decay_fraction': 0.3,    #  a fraction as % of total steps where epsilon decayed from 1.0 to 0.1\n",
    "                'memory_fraction': 0.4,           #  the size of the replay memory as a % of total steps\n",
    "                'memory_type': 'deque',           #  the replay memory implementation we want\n",
    "                'process_observation': 'standardizer',\n",
    "                'process_target': 'normalizer'}    \n",
    "\n",
    "#  we standardize the observations to keep gradients under control when learning\n",
    "#  we normalize the batch for the same reasons\n",
    "\n",
    "#  keep all of the BatteryEnv variables (episode length, efficiency etc) at their defaults\n",
    "#  we just need to let our env know where our state.csv and observation.csv are (data_path)\n",
    "env = BatteryEnv(data_path=os.getcwd())"
   ]
  },
  {
   "cell_type": "code",
   "execution_count": 4,
   "metadata": {},
   "outputs": [
    {
     "name": "stdout",
     "output_type": "stream",
     "text": [
      "progress - 2.4% - episode 200 - run time 0.14 - episode reward -0.04 - avg rewards -16.08\n",
      "progress - 4.7% - episode 400 - run time 0.25 - episode reward 16.58 - avg rewards -18.79\n",
      "progress - 7.0% - episode 600 - run time 0.37 - episode reward -69.39 - avg rewards -19.39\n",
      "progress - 9.4% - episode 800 - run time 0.49 - episode reward 8.42 - avg rewards -19.62\n",
      "progress - 11.8% - episode 1000 - run time 0.63 - episode reward -31.40 - avg rewards -18.25\n",
      "progress - 14.1% - episode 1200 - run time 0.83 - episode reward -18.20 - avg rewards -24.05\n",
      "progress - 16.4% - episode 1400 - run time 1.09 - episode reward 35.26 - avg rewards -26.02\n",
      "progress - 18.8% - episode 1600 - run time 1.42 - episode reward -46.54 - avg rewards -29.27\n",
      "progress - 21.1% - episode 1800 - run time 2.94 - episode reward -15.53 - avg rewards -20.53\n",
      "progress - 23.5% - episode 2000 - run time 5.63 - episode reward 2.46 - avg rewards -17.55\n",
      "progress - 25.9% - episode 2200 - run time 8.38 - episode reward -12.72 - avg rewards 12.94\n",
      "progress - 28.2% - episode 2400 - run time 11.13 - episode reward -6.01 - avg rewards -22.87\n",
      "progress - 30.6% - episode 2600 - run time 13.87 - episode reward -75.88 - avg rewards -33.47\n",
      "progress - 32.9% - episode 2800 - run time 16.75 - episode reward -26.10 - avg rewards -22.46\n",
      "progress - 35.2% - episode 3000 - run time 19.70 - episode reward -26.10 - avg rewards -23.51\n",
      "progress - 37.6% - episode 3200 - run time 22.66 - episode reward -103.60 - avg rewards -27.24\n",
      "progress - 40.0% - episode 3400 - run time 25.70 - episode reward -4.43 - avg rewards -20.30\n",
      "progress - 42.3% - episode 3600 - run time 28.73 - episode reward -1.58 - avg rewards -18.73\n",
      "progress - 44.6% - episode 3800 - run time 31.76 - episode reward -21.36 - avg rewards -10.97\n",
      "progress - 47.0% - episode 4000 - run time 34.79 - episode reward 35.04 - avg rewards -9.47\n",
      "progress - 49.4% - episode 4200 - run time 37.85 - episode reward -2.19 - avg rewards -5.92\n",
      "progress - 51.7% - episode 4400 - run time 40.93 - episode reward 2.37 - avg rewards -9.72\n",
      "progress - 54.0% - episode 4600 - run time 44.04 - episode reward 23.46 - avg rewards 0.01\n",
      "progress - 56.4% - episode 4800 - run time 47.15 - episode reward -37.32 - avg rewards -22.19\n",
      "progress - 58.8% - episode 5000 - run time 50.24 - episode reward -57.24 - avg rewards -40.41\n",
      "progress - 61.1% - episode 5200 - run time 53.29 - episode reward -19.39 - avg rewards -28.54\n",
      "progress - 63.5% - episode 5400 - run time 56.29 - episode reward 9.30 - avg rewards -7.36\n",
      "progress - 65.8% - episode 5600 - run time 59.39 - episode reward -51.32 - avg rewards -15.69\n",
      "progress - 68.2% - episode 5800 - run time 62.50 - episode reward 8.46 - avg rewards -13.13\n",
      "progress - 70.5% - episode 6000 - run time 65.57 - episode reward -0.22 - avg rewards -5.13\n",
      "progress - 72.8% - episode 6200 - run time 68.62 - episode reward -33.64 - avg rewards -5.90\n",
      "progress - 75.2% - episode 6400 - run time 71.67 - episode reward 3.95 - avg rewards -8.32\n",
      "progress - 77.5% - episode 6600 - run time 74.71 - episode reward -1.84 - avg rewards -0.17\n",
      "progress - 79.9% - episode 6800 - run time 77.81 - episode reward -14.52 - avg rewards -1.28\n",
      "progress - 82.2% - episode 7000 - run time 80.87 - episode reward 29.52 - avg rewards 5.21\n",
      "progress - 84.6% - episode 7200 - run time 83.94 - episode reward -26.54 - avg rewards 15.25\n",
      "progress - 87.0% - episode 7400 - run time 86.95 - episode reward 48.42 - avg rewards 40.11\n",
      "progress - 89.3% - episode 7600 - run time 89.98 - episode reward 52.06 - avg rewards 49.79\n",
      "progress - 91.7% - episode 7800 - run time 93.04 - episode reward 12.32 - avg rewards 51.37\n",
      "progress - 94.0% - episode 8000 - run time 96.07 - episode reward 56.54 - avg rewards 80.58\n",
      "progress - 96.3% - episode 8200 - run time 99.04 - episode reward 100.26 - avg rewards 85.64\n",
      "progress - 98.7% - episode 8400 - run time 102.05 - episode reward 95.31 - avg rewards 98.96\n"
     ]
    }
   ],
   "source": [
    "#  Runner is a class that helps us with experiments - tracking rewards, writing environment info to csv and managing TensorBoard\n",
    "#  in this notebook we just use it to track rewards for us\n",
    "runner = Runner()\n",
    "\n",
    "#  initialize Tensorflow machinery\n",
    "with tf.Session() as sess:\n",
    "    sess.run(tf.global_variables_initializer())\n",
    "    \n",
    "    #  add the tf session and the environment to the agent config dictionary\n",
    "    #  and initialize the agent\n",
    "    agent_config['sess'] = sess\n",
    "    agent_config['env'] = env\n",
    "    agent = DQN(**agent_config)\n",
    "    \n",
    "    #  initial values for the step and episode number\n",
    "    step, episode = 0, 0\n",
    "\n",
    "    #  outer while loop runs through multiple episodes\n",
    "    while step < TOTAL_STEPS:\n",
    "        episode += 1\n",
    "        done = False\n",
    "        observation = env.reset()\n",
    "        \n",
    "        #  inner while loop runs through a single episode\n",
    "        while not done:\n",
    "            step += 1\n",
    "            #  select an action\n",
    "            action = agent.act(observation)\n",
    "            \n",
    "            #  take one step through the environment\n",
    "            next_observation, reward, done, info = env.step(action)\n",
    "            \n",
    "            #  store the experience\n",
    "            agent.remember(observation, action, reward,\n",
    "                           next_observation, done)\n",
    "            \n",
    "            #  moving to the next time step\n",
    "            observation = next_observation\n",
    "            #  saving the reward \n",
    "            runner.append(reward)\n",
    "            \n",
    "            #  we don't start learning until the memory is half full\n",
    "            if step > int(agent.memory.size * 0.5):\n",
    "                train_info = agent.learn()\n",
    "        \n",
    "        if episode % 200 == 0:\n",
    "            print('progress - {:.1f}% - episode {:.0f} - run time {:.2f} - episode reward {:.2f} - avg rewards {:.2f}'.format(100*step/TOTAL_STEPS,\n",
    "                                                                                                                              episode,\n",
    "                                                                                                                              runner.calc_time(),\n",
    "                                                                                                                              sum(runner.ep_rewards),\n",
    "                                                                                                                              runner.avg_rew))\n",
    "        #  the report method should be run at the end of each episode\n",
    "        runner.report({'ep': episode,\n",
    "                       'step': step})"
   ]
  },
  {
   "cell_type": "code",
   "execution_count": 5,
   "metadata": {},
   "outputs": [
    {
     "data": {
      "text/plain": [
       "[<matplotlib.lines.Line2D at 0x1249839b0>]"
      ]
     },
     "execution_count": 5,
     "metadata": {},
     "output_type": "execute_result"
    }
   ],
   "source": [
    "#  energy_py uses TensorBoard for logging - for the scope of this notebook example we will do\n",
    "#  some plotting using matplotlib\n",
    "\n",
    "import matplotlib.pyplot as plt\n",
    "\n",
    "episode_rewards = runner.global_rewards\n",
    "plt.plot(episode_rewards)"
   ]
  },
  {
   "cell_type": "code",
   "execution_count": 6,
   "metadata": {},
   "outputs": [
    {
     "data": {
      "text/html": [
       "<div>\n",
       "<style scoped>\n",
       "    .dataframe tbody tr th:only-of-type {\n",
       "        vertical-align: middle;\n",
       "    }\n",
       "\n",
       "    .dataframe tbody tr th {\n",
       "        vertical-align: top;\n",
       "    }\n",
       "\n",
       "    .dataframe thead th {\n",
       "        text-align: right;\n",
       "    }\n",
       "</style>\n",
       "<table border=\"1\" class=\"dataframe\">\n",
       "  <thead>\n",
       "    <tr style=\"text-align: right;\">\n",
       "      <th></th>\n",
       "      <th>action</th>\n",
       "      <th>done</th>\n",
       "      <th>electricity_price</th>\n",
       "      <th>gross_rate</th>\n",
       "      <th>losses</th>\n",
       "      <th>net_stored</th>\n",
       "      <th>new_charge</th>\n",
       "      <th>next_observation</th>\n",
       "      <th>next_state</th>\n",
       "      <th>observation</th>\n",
       "      <th>old_charge</th>\n",
       "      <th>reward</th>\n",
       "      <th>state</th>\n",
       "      <th>steps</th>\n",
       "    </tr>\n",
       "  </thead>\n",
       "  <tbody>\n",
       "    <tr>\n",
       "      <th>0</th>\n",
       "      <td>[1.789473684210526, 1.4736842105263157]</td>\n",
       "      <td>False</td>\n",
       "      <td>50.0</td>\n",
       "      <td>0.315789</td>\n",
       "      <td>0.002632</td>\n",
       "      <td>0.023684</td>\n",
       "      <td>0.023684</td>\n",
       "      <td>[[50.0, 50.0, 50.0, 100.0, 100.0, 1.0, 1.0, 0....</td>\n",
       "      <td>[[50.0, 0.02368421052631578]]</td>\n",
       "      <td>[[50.0, 50.0, 50.0, 50.0, 100.0, 0.0, 1.0, 0.0]]</td>\n",
       "      <td>0.000000</td>\n",
       "      <td>-1.315789</td>\n",
       "      <td>[[50.0, 0.0]]</td>\n",
       "      <td>1</td>\n",
       "    </tr>\n",
       "    <tr>\n",
       "      <th>1</th>\n",
       "      <td>[0.10526315789473684, 0.10526315789473684]</td>\n",
       "      <td>False</td>\n",
       "      <td>50.0</td>\n",
       "      <td>0.000000</td>\n",
       "      <td>0.000000</td>\n",
       "      <td>0.000000</td>\n",
       "      <td>0.023684</td>\n",
       "      <td>[[50.0, 50.0, 100.0, 100.0, 100.0, 2.0, 1.0, 0...</td>\n",
       "      <td>[[50.0, 0.02368421052631578]]</td>\n",
       "      <td>[[50.0, 50.0, 50.0, 100.0, 100.0, 1.0, 1.0, 0....</td>\n",
       "      <td>0.023684</td>\n",
       "      <td>-0.000000</td>\n",
       "      <td>[[50.0, 0.02368421052631578]]</td>\n",
       "      <td>2</td>\n",
       "    </tr>\n",
       "    <tr>\n",
       "      <th>2</th>\n",
       "      <td>[0.9473684210526315, 1.894736842105263]</td>\n",
       "      <td>False</td>\n",
       "      <td>50.0</td>\n",
       "      <td>-0.284211</td>\n",
       "      <td>0.000000</td>\n",
       "      <td>-0.023684</td>\n",
       "      <td>0.000000</td>\n",
       "      <td>[[50.0, 100.0, 100.0, 100.0, 100.0, 3.0, 1.0, ...</td>\n",
       "      <td>[[50.0, 0.0]]</td>\n",
       "      <td>[[50.0, 50.0, 100.0, 100.0, 100.0, 2.0, 1.0, 0...</td>\n",
       "      <td>0.023684</td>\n",
       "      <td>1.184211</td>\n",
       "      <td>[[50.0, 0.02368421052631578]]</td>\n",
       "      <td>3</td>\n",
       "    </tr>\n",
       "    <tr>\n",
       "      <th>3</th>\n",
       "      <td>[0.3157894736842105, 1.263157894736842]</td>\n",
       "      <td>False</td>\n",
       "      <td>50.0</td>\n",
       "      <td>0.000000</td>\n",
       "      <td>0.000000</td>\n",
       "      <td>0.000000</td>\n",
       "      <td>0.000000</td>\n",
       "      <td>[[100.0, 100.0, 100.0, 100.0, 100.0, 4.0, 1.0,...</td>\n",
       "      <td>[[100.0, 0.0]]</td>\n",
       "      <td>[[50.0, 100.0, 100.0, 100.0, 100.0, 3.0, 1.0, ...</td>\n",
       "      <td>0.000000</td>\n",
       "      <td>-0.000000</td>\n",
       "      <td>[[50.0, 0.0]]</td>\n",
       "      <td>4</td>\n",
       "    </tr>\n",
       "    <tr>\n",
       "      <th>4</th>\n",
       "      <td>[0.9473684210526315, 1.894736842105263]</td>\n",
       "      <td>False</td>\n",
       "      <td>100.0</td>\n",
       "      <td>0.000000</td>\n",
       "      <td>0.000000</td>\n",
       "      <td>0.000000</td>\n",
       "      <td>0.000000</td>\n",
       "      <td>[[100.0, 100.0, 100.0, 100.0, -50.0, 5.0, 1.0,...</td>\n",
       "      <td>[[100.0, 0.0]]</td>\n",
       "      <td>[[100.0, 100.0, 100.0, 100.0, 100.0, 4.0, 1.0,...</td>\n",
       "      <td>0.000000</td>\n",
       "      <td>-0.000000</td>\n",
       "      <td>[[100.0, 0.0]]</td>\n",
       "      <td>5</td>\n",
       "    </tr>\n",
       "  </tbody>\n",
       "</table>\n",
       "</div>"
      ],
      "text/plain": [
       "                                       action   done  electricity_price  \\\n",
       "0     [1.789473684210526, 1.4736842105263157]  False               50.0   \n",
       "1  [0.10526315789473684, 0.10526315789473684]  False               50.0   \n",
       "2     [0.9473684210526315, 1.894736842105263]  False               50.0   \n",
       "3     [0.3157894736842105, 1.263157894736842]  False               50.0   \n",
       "4     [0.9473684210526315, 1.894736842105263]  False              100.0   \n",
       "\n",
       "   gross_rate    losses  net_stored  new_charge  \\\n",
       "0    0.315789  0.002632    0.023684    0.023684   \n",
       "1    0.000000  0.000000    0.000000    0.023684   \n",
       "2   -0.284211  0.000000   -0.023684    0.000000   \n",
       "3    0.000000  0.000000    0.000000    0.000000   \n",
       "4    0.000000  0.000000    0.000000    0.000000   \n",
       "\n",
       "                                    next_observation  \\\n",
       "0  [[50.0, 50.0, 50.0, 100.0, 100.0, 1.0, 1.0, 0....   \n",
       "1  [[50.0, 50.0, 100.0, 100.0, 100.0, 2.0, 1.0, 0...   \n",
       "2  [[50.0, 100.0, 100.0, 100.0, 100.0, 3.0, 1.0, ...   \n",
       "3  [[100.0, 100.0, 100.0, 100.0, 100.0, 4.0, 1.0,...   \n",
       "4  [[100.0, 100.0, 100.0, 100.0, -50.0, 5.0, 1.0,...   \n",
       "\n",
       "                      next_state  \\\n",
       "0  [[50.0, 0.02368421052631578]]   \n",
       "1  [[50.0, 0.02368421052631578]]   \n",
       "2                  [[50.0, 0.0]]   \n",
       "3                 [[100.0, 0.0]]   \n",
       "4                 [[100.0, 0.0]]   \n",
       "\n",
       "                                         observation  old_charge    reward  \\\n",
       "0   [[50.0, 50.0, 50.0, 50.0, 100.0, 0.0, 1.0, 0.0]]    0.000000 -1.315789   \n",
       "1  [[50.0, 50.0, 50.0, 100.0, 100.0, 1.0, 1.0, 0....    0.023684 -0.000000   \n",
       "2  [[50.0, 50.0, 100.0, 100.0, 100.0, 2.0, 1.0, 0...    0.023684  1.184211   \n",
       "3  [[50.0, 100.0, 100.0, 100.0, 100.0, 3.0, 1.0, ...    0.000000 -0.000000   \n",
       "4  [[100.0, 100.0, 100.0, 100.0, 100.0, 4.0, 1.0,...    0.000000 -0.000000   \n",
       "\n",
       "                           state  steps  \n",
       "0                  [[50.0, 0.0]]      1  \n",
       "1  [[50.0, 0.02368421052631578]]      2  \n",
       "2  [[50.0, 0.02368421052631578]]      3  \n",
       "3                  [[50.0, 0.0]]      4  \n",
       "4                 [[100.0, 0.0]]      5  "
      ]
     },
     "execution_count": 6,
     "metadata": {},
     "output_type": "execute_result"
    }
   ],
   "source": [
    "#  we can also look at what happened in our last episode\n",
    "ep_hist = pd.DataFrame.from_dict(info)\n",
    "ep_hist.head()"
   ]
  },
  {
   "cell_type": "code",
   "execution_count": 7,
   "metadata": {},
   "outputs": [
    {
     "data": {
      "text/plain": [
       "[<matplotlib.lines.Line2D at 0x126416208>]"
      ]
     },
     "execution_count": 7,
     "metadata": {},
     "output_type": "execute_result"
    },
    {
     "data": {
      "image/png": "[encoded data removed]",
      "text/plain": [
       "<matplotlib.figure.Figure at 0x1249adb38>"
      ]
     },
     "metadata": {},
     "output_type": "display_data"
    }
   ],
   "source": [
    "plt.plot(ep_hist.loc[:, 'new_charge'])"
   ]
  },
  {
   "cell_type": "code",
   "execution_count": 8,
   "metadata": {},
   "outputs": [
    {
     "data": {
      "text/plain": [
       "[<matplotlib.lines.Line2D at 0x126455f98>]"
      ]
     },
     "execution_count": 8,
     "metadata": {},
     "output_type": "execute_result"
    },
    {
     "data": {
      "image/png": "[encoded data removed]",
      "text/plain": [
       "<matplotlib.figure.Figure at 0x124fc3f98>"
      ]
     },
     "metadata": {},
     "output_type": "display_data"
    }
   ],
   "source": [
    "plt.plot(ep_hist.loc[:, 'electricity_price'])"
   ]
  },
  {
   "cell_type": "code",
   "execution_count": 9,
   "metadata": {},
   "outputs": [
    {
     "data": {
      "text/plain": [
       "39.649122807017534"
      ]
     },
     "execution_count": 9,
     "metadata": {},
     "output_type": "execute_result"
    }
   ],
   "source": [
    "ep_hist.loc[:, 'reward'].sum()"
   ]
  },
  {
   "cell_type": "code",
   "execution_count": null,
   "metadata": {},
   "outputs": [],
   "source": []
  }
 ],
 "metadata": {
  "kernelspec": {
   "display_name": "Python 3",
   "language": "python",
   "name": "python3"
  },
  "language_info": {
   "codemirror_mode": {
    "name": "ipython",
    "version": 3
   },
   "file_extension": ".py",
   "mimetype": "text/x-python",
   "name": "python",
   "nbconvert_exporter": "python",
   "pygments_lexer": "ipython3",
   "version": "3.5.2"
  }
 },
 "nbformat": 4,
 "nbformat_minor": 2
}
