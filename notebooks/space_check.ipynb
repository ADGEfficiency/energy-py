{
 "cells": [
  {
   "cell_type": "markdown",
   "metadata": {},
   "source": [
    "Bit of playing around with the space objects - mainly the action space creation"
   ]
  },
  {
   "cell_type": "code",
   "execution_count": 12,
   "metadata": {},
   "outputs": [],
   "source": [
    "import numpy as np\n",
    "\n",
    "from energy_py import DiscreteSpace, ContinuousSpace"
   ]
  },
  {
   "cell_type": "code",
   "execution_count": 13,
   "metadata": {},
   "outputs": [],
   "source": [
    "c_space = ContinuousSpace(0, 100)"
   ]
  },
  {
   "cell_type": "code",
   "execution_count": 14,
   "metadata": {},
   "outputs": [
    {
     "data": {
      "text/plain": [
       "array([   0.,   10.,   20.,   30.,   40.,   50.,   60.,   70.,   80.,\n",
       "         90.,  100.])"
      ]
     },
     "execution_count": 14,
     "metadata": {},
     "output_type": "execute_result"
    }
   ],
   "source": [
    "disc_act_spcs = c_space.discretize(11)\n",
    "disc_act_spcs"
   ]
  },
  {
   "cell_type": "code",
   "execution_count": 17,
   "metadata": {},
   "outputs": [],
   "source": [
    "disc_act_spcs = disc_act_spcs.tolist()"
   ]
  },
  {
   "cell_type": "code",
   "execution_count": 18,
   "metadata": {},
   "outputs": [],
   "source": [
    "import itertools"
   ]
  },
  {
   "cell_type": "code",
   "execution_count": 25,
   "metadata": {},
   "outputs": [],
   "source": [
    "actions = [a for a in itertools.product(disc_act_spcs)]"
   ]
  },
  {
   "cell_type": "code",
   "execution_count": 26,
   "metadata": {},
   "outputs": [
    {
     "data": {
      "text/plain": [
       "[(0.0,),\n",
       " (10.0,),\n",
       " (20.0,),\n",
       " (30.0,),\n",
       " (40.0,),\n",
       " (50.0,),\n",
       " (60.0,),\n",
       " (70.0,),\n",
       " (80.0,),\n",
       " (90.0,),\n",
       " (100.0,)]"
      ]
     },
     "execution_count": 26,
     "metadata": {},
     "output_type": "execute_result"
    }
   ],
   "source": [
    "actions"
   ]
  },
  {
   "cell_type": "code",
   "execution_count": 27,
   "metadata": {},
   "outputs": [],
   "source": [
    "from energy_py import GlobalSpace"
   ]
  },
  {
   "cell_type": "code",
   "execution_count": 28,
   "metadata": {},
   "outputs": [],
   "source": [
    "gbl = GlobalSpace([c_space, c_space])"
   ]
  },
  {
   "cell_type": "code",
   "execution_count": 31,
   "metadata": {},
   "outputs": [
    {
     "data": {
      "text/plain": [
       "[array([   0.        ,   11.11111111,   22.22222222,   33.33333333,\n",
       "          44.44444444,   55.55555556,   66.66666667,   77.77777778,\n",
       "          88.88888889,  100.        ]),\n",
       " array([   0.        ,   11.11111111,   22.22222222,   33.33333333,\n",
       "          44.44444444,   55.55555556,   66.66666667,   77.77777778,\n",
       "          88.88888889,  100.        ])]"
      ]
     },
     "execution_count": 31,
     "metadata": {},
     "output_type": "execute_result"
    }
   ],
   "source": [
    "gblspcs = gbl.discretize(10)\n",
    "gblspcs"
   ]
  },
  {
   "cell_type": "code",
   "execution_count": 34,
   "metadata": {},
   "outputs": [
    {
     "data": {
      "text/plain": [
       "[(0.0, 0.0),\n",
       " (0.0, 11.111111111111111),\n",
       " (0.0, 22.222222222222221),\n",
       " (0.0, 33.333333333333329),\n",
       " (0.0, 44.444444444444443),\n",
       " (0.0, 55.555555555555557),\n",
       " (0.0, 66.666666666666657),\n",
       " (0.0, 77.777777777777771),\n",
       " (0.0, 88.888888888888886),\n",
       " (0.0, 100.0),\n",
       " (11.111111111111111, 0.0),\n",
       " (11.111111111111111, 11.111111111111111),\n",
       " (11.111111111111111, 22.222222222222221),\n",
       " (11.111111111111111, 33.333333333333329),\n",
       " (11.111111111111111, 44.444444444444443),\n",
       " (11.111111111111111, 55.555555555555557),\n",
       " (11.111111111111111, 66.666666666666657),\n",
       " (11.111111111111111, 77.777777777777771),\n",
       " (11.111111111111111, 88.888888888888886),\n",
       " (11.111111111111111, 100.0),\n",
       " (22.222222222222221, 0.0),\n",
       " (22.222222222222221, 11.111111111111111),\n",
       " (22.222222222222221, 22.222222222222221),\n",
       " (22.222222222222221, 33.333333333333329),\n",
       " (22.222222222222221, 44.444444444444443),\n",
       " (22.222222222222221, 55.555555555555557),\n",
       " (22.222222222222221, 66.666666666666657),\n",
       " (22.222222222222221, 77.777777777777771),\n",
       " (22.222222222222221, 88.888888888888886),\n",
       " (22.222222222222221, 100.0),\n",
       " (33.333333333333329, 0.0),\n",
       " (33.333333333333329, 11.111111111111111),\n",
       " (33.333333333333329, 22.222222222222221),\n",
       " (33.333333333333329, 33.333333333333329),\n",
       " (33.333333333333329, 44.444444444444443),\n",
       " (33.333333333333329, 55.555555555555557),\n",
       " (33.333333333333329, 66.666666666666657),\n",
       " (33.333333333333329, 77.777777777777771),\n",
       " (33.333333333333329, 88.888888888888886),\n",
       " (33.333333333333329, 100.0),\n",
       " (44.444444444444443, 0.0),\n",
       " (44.444444444444443, 11.111111111111111),\n",
       " (44.444444444444443, 22.222222222222221),\n",
       " (44.444444444444443, 33.333333333333329),\n",
       " (44.444444444444443, 44.444444444444443),\n",
       " (44.444444444444443, 55.555555555555557),\n",
       " (44.444444444444443, 66.666666666666657),\n",
       " (44.444444444444443, 77.777777777777771),\n",
       " (44.444444444444443, 88.888888888888886),\n",
       " (44.444444444444443, 100.0),\n",
       " (55.555555555555557, 0.0),\n",
       " (55.555555555555557, 11.111111111111111),\n",
       " (55.555555555555557, 22.222222222222221),\n",
       " (55.555555555555557, 33.333333333333329),\n",
       " (55.555555555555557, 44.444444444444443),\n",
       " (55.555555555555557, 55.555555555555557),\n",
       " (55.555555555555557, 66.666666666666657),\n",
       " (55.555555555555557, 77.777777777777771),\n",
       " (55.555555555555557, 88.888888888888886),\n",
       " (55.555555555555557, 100.0),\n",
       " (66.666666666666657, 0.0),\n",
       " (66.666666666666657, 11.111111111111111),\n",
       " (66.666666666666657, 22.222222222222221),\n",
       " (66.666666666666657, 33.333333333333329),\n",
       " (66.666666666666657, 44.444444444444443),\n",
       " (66.666666666666657, 55.555555555555557),\n",
       " (66.666666666666657, 66.666666666666657),\n",
       " (66.666666666666657, 77.777777777777771),\n",
       " (66.666666666666657, 88.888888888888886),\n",
       " (66.666666666666657, 100.0),\n",
       " (77.777777777777771, 0.0),\n",
       " (77.777777777777771, 11.111111111111111),\n",
       " (77.777777777777771, 22.222222222222221),\n",
       " (77.777777777777771, 33.333333333333329),\n",
       " (77.777777777777771, 44.444444444444443),\n",
       " (77.777777777777771, 55.555555555555557),\n",
       " (77.777777777777771, 66.666666666666657),\n",
       " (77.777777777777771, 77.777777777777771),\n",
       " (77.777777777777771, 88.888888888888886),\n",
       " (77.777777777777771, 100.0),\n",
       " (88.888888888888886, 0.0),\n",
       " (88.888888888888886, 11.111111111111111),\n",
       " (88.888888888888886, 22.222222222222221),\n",
       " (88.888888888888886, 33.333333333333329),\n",
       " (88.888888888888886, 44.444444444444443),\n",
       " (88.888888888888886, 55.555555555555557),\n",
       " (88.888888888888886, 66.666666666666657),\n",
       " (88.888888888888886, 77.777777777777771),\n",
       " (88.888888888888886, 88.888888888888886),\n",
       " (88.888888888888886, 100.0),\n",
       " (100.0, 0.0),\n",
       " (100.0, 11.111111111111111),\n",
       " (100.0, 22.222222222222221),\n",
       " (100.0, 33.333333333333329),\n",
       " (100.0, 44.444444444444443),\n",
       " (100.0, 55.555555555555557),\n",
       " (100.0, 66.666666666666657),\n",
       " (100.0, 77.777777777777771),\n",
       " (100.0, 88.888888888888886),\n",
       " (100.0, 100.0)]"
      ]
     },
     "execution_count": 34,
     "metadata": {},
     "output_type": "execute_result"
    }
   ],
   "source": [
    "actions = [a for a in itertools.product(*gblspcs)]\n",
    "actions"
   ]
  },
  {
   "cell_type": "code",
   "execution_count": 35,
   "metadata": {},
   "outputs": [],
   "source": [
    "d_space = DiscreteSpace(0,1)\n",
    "gbl = GlobalSpace([d_space])"
   ]
  },
  {
   "cell_type": "code",
   "execution_count": 38,
   "metadata": {},
   "outputs": [
    {
     "data": {
      "text/plain": [
       "[<energy_py.scripts.spaces.DiscreteSpace at 0x7fbdb5bfdd30>]"
      ]
     },
     "execution_count": 38,
     "metadata": {},
     "output_type": "execute_result"
    }
   ],
   "source": [
    "gbl.spaces"
   ]
  },
  {
   "cell_type": "code",
   "execution_count": 42,
   "metadata": {},
   "outputs": [],
   "source": [
    "from energy_py.agents import BaseAgent\n",
    "from energy_py.envs import BatteryEnv"
   ]
  },
  {
   "cell_type": "code",
   "execution_count": 44,
   "metadata": {},
   "outputs": [
    {
     "ename": "AssertionError",
     "evalue": "",
     "output_type": "error",
     "traceback": [
      "\u001b[0;31m---------------------------------------------------------------------------\u001b[0m",
      "\u001b[0;31mAssertionError\u001b[0m                            Traceback (most recent call last)",
      "\u001b[0;32m<ipython-input-44-465b8614edb3>\u001b[0m in \u001b[0;36m<module>\u001b[0;34m()\u001b[0m\n\u001b[0;32m----> 1\u001b[0;31m \u001b[0mag\u001b[0m \u001b[0;34m=\u001b[0m \u001b[0mBaseAgent\u001b[0m\u001b[0;34m(\u001b[0m\u001b[0mBatteryEnv\u001b[0m\u001b[0;34m(\u001b[0m\u001b[0;34m)\u001b[0m\u001b[0;34m,\u001b[0m \u001b[0;36m0.9\u001b[0m\u001b[0;34m,\u001b[0m \u001b[0;34m'path'\u001b[0m\u001b[0;34m)\u001b[0m\u001b[0;34m\u001b[0m\u001b[0m\n\u001b[0m",
      "\u001b[0;32m~/anaconda3/envs/energy_py/lib/python3.5/site-packages/energy_py-2.0-py3.5.egg/energy_py/envs/battery/battery_env.py\u001b[0m in \u001b[0;36m__init__\u001b[0;34m(self, episode_length, episode_start, power_rating, capacity, round_trip_eff, initial_charge)\u001b[0m\n\u001b[1;32m     47\u001b[0m         super().__init__(episode_length,\n\u001b[1;32m     48\u001b[0m                          \u001b[0mepisode_start\u001b[0m\u001b[0;34m,\u001b[0m\u001b[0;34m\u001b[0m\u001b[0m\n\u001b[0;32m---> 49\u001b[0;31m                          data_path)\n\u001b[0m\u001b[1;32m     50\u001b[0m \u001b[0;34m\u001b[0m\u001b[0m\n\u001b[1;32m     51\u001b[0m     \u001b[0;32mdef\u001b[0m \u001b[0m_reset\u001b[0m\u001b[0;34m(\u001b[0m\u001b[0mself\u001b[0m\u001b[0;34m)\u001b[0m\u001b[0;34m:\u001b[0m\u001b[0;34m\u001b[0m\u001b[0m\n",
      "\u001b[0;32m~/anaconda3/envs/energy_py/lib/python3.5/site-packages/energy_py-2.0-py3.5.egg/energy_py/envs/env_ts.py\u001b[0m in \u001b[0;36m__init__\u001b[0;34m(self, episode_length, episode_start, data_path)\u001b[0m\n\u001b[1;32m     52\u001b[0m         \u001b[0;31m#  we do this before we init the BaseEnv so we can reset in\u001b[0m\u001b[0;34m\u001b[0m\u001b[0;34m\u001b[0m\u001b[0m\n\u001b[1;32m     53\u001b[0m         \u001b[0;31m#  the BaseEnv class\u001b[0m\u001b[0;34m\u001b[0m\u001b[0;34m\u001b[0m\u001b[0m\n\u001b[0;32m---> 54\u001b[0;31m         \u001b[0mself\u001b[0m\u001b[0;34m.\u001b[0m\u001b[0mraw_state_ts\u001b[0m\u001b[0;34m,\u001b[0m \u001b[0mself\u001b[0m\u001b[0;34m.\u001b[0m\u001b[0mraw_observation_ts\u001b[0m \u001b[0;34m=\u001b[0m \u001b[0mself\u001b[0m\u001b[0;34m.\u001b[0m\u001b[0mload_ts\u001b[0m\u001b[0;34m(\u001b[0m\u001b[0mdata_path\u001b[0m\u001b[0;34m)\u001b[0m\u001b[0;34m\u001b[0m\u001b[0m\n\u001b[0m\u001b[1;32m     55\u001b[0m \u001b[0;34m\u001b[0m\u001b[0m\n\u001b[1;32m     56\u001b[0m         \u001b[0msuper\u001b[0m\u001b[0;34m(\u001b[0m\u001b[0;34m)\u001b[0m\u001b[0;34m.\u001b[0m\u001b[0m__init__\u001b[0m\u001b[0;34m(\u001b[0m\u001b[0;34m)\u001b[0m\u001b[0;34m\u001b[0m\u001b[0m\n",
      "\u001b[0;32m~/anaconda3/envs/energy_py/lib/python3.5/site-packages/energy_py-2.0-py3.5.egg/energy_py/envs/env_ts.py\u001b[0m in \u001b[0;36mload_ts\u001b[0;34m(self, path)\u001b[0m\n\u001b[1;32m     76\u001b[0m             \u001b[0mstate\u001b[0m\u001b[0;34m,\u001b[0m \u001b[0mobservation\u001b[0m \u001b[0;34m=\u001b[0m \u001b[0mmake_observation\u001b[0m\u001b[0;34m(\u001b[0m\u001b[0mpath\u001b[0m\u001b[0;34m)\u001b[0m\u001b[0;34m\u001b[0m\u001b[0m\n\u001b[1;32m     77\u001b[0m \u001b[0;34m\u001b[0m\u001b[0m\n\u001b[0;32m---> 78\u001b[0;31m         \u001b[0;32massert\u001b[0m \u001b[0mstate\u001b[0m\u001b[0;34m.\u001b[0m\u001b[0mshape\u001b[0m\u001b[0;34m[\u001b[0m\u001b[0;36m0\u001b[0m\u001b[0;34m]\u001b[0m \u001b[0;34m==\u001b[0m \u001b[0mobservation\u001b[0m\u001b[0;34m.\u001b[0m\u001b[0mshape\u001b[0m\u001b[0;34m[\u001b[0m\u001b[0;36m0\u001b[0m\u001b[0;34m]\u001b[0m\u001b[0;34m\u001b[0m\u001b[0m\n\u001b[0m\u001b[1;32m     79\u001b[0m         \u001b[0;32mreturn\u001b[0m \u001b[0mstate\u001b[0m\u001b[0;34m,\u001b[0m \u001b[0mobservation\u001b[0m\u001b[0;34m\u001b[0m\u001b[0m\n\u001b[1;32m     80\u001b[0m \u001b[0;34m\u001b[0m\u001b[0m\n",
      "\u001b[0;31mAssertionError\u001b[0m: "
     ]
    }
   ],
   "source": []
  },
  {
   "cell_type": "code",
   "execution_count": 47,
   "metadata": {},
   "outputs": [],
   "source": [
    "#  get the discrete action space for all action dimensions              \n",
    "#  list is used to we can use itertools.product below   \n",
    "spc_len=20\n",
    "disc_act_spcs = gbl.discretize(spc_len)                   \n",
    "159                                                                                 \n",
    "#  create every possible combination of actions                         \n",
    "#  this creates the unscaled actions                                    \n",
    "actions = np.array([a for a in itertools.product(*disc_act_spcs)])"
   ]
  },
  {
   "cell_type": "code",
   "execution_count": 50,
   "metadata": {},
   "outputs": [
    {
     "data": {
      "text/plain": [
       "(2, 1)"
      ]
     },
     "execution_count": 50,
     "metadata": {},
     "output_type": "execute_result"
    }
   ],
   "source": [
    "actions.shape"
   ]
  },
  {
   "cell_type": "code",
   "execution_count": 51,
   "metadata": {},
   "outputs": [
    {
     "data": {
      "text/plain": [
       "1"
      ]
     },
     "execution_count": 51,
     "metadata": {},
     "output_type": "execute_result"
    }
   ],
   "source": [
    "gbl.length"
   ]
  },
  {
   "cell_type": "code",
   "execution_count": 52,
   "metadata": {},
   "outputs": [
    {
     "ename": "TypeError",
     "evalue": "'numpy.int64' object is not iterable",
     "output_type": "error",
     "traceback": [
      "\u001b[0;31m---------------------------------------------------------------------------\u001b[0m",
      "\u001b[0;31mTypeError\u001b[0m                                 Traceback (most recent call last)",
      "\u001b[0;32m<ipython-input-52-c0fd83e7c6f9>\u001b[0m in \u001b[0;36m<module>\u001b[0;34m()\u001b[0m\n\u001b[0;32m----> 1\u001b[0;31m \u001b[0;32mfor\u001b[0m \u001b[0mi\u001b[0m\u001b[0;34m,\u001b[0m\u001b[0mact\u001b[0m \u001b[0;32min\u001b[0m \u001b[0mactions\u001b[0m\u001b[0;34m[\u001b[0m\u001b[0;36m0\u001b[0m\u001b[0;34m]\u001b[0m\u001b[0;34m:\u001b[0m\u001b[0;34m\u001b[0m\u001b[0m\n\u001b[0m\u001b[1;32m      2\u001b[0m     \u001b[0;32massert\u001b[0m \u001b[0mact\u001b[0m \u001b[0;34m<=\u001b[0m \u001b[0;36m1\u001b[0m\u001b[0;34m\u001b[0m\u001b[0m\n",
      "\u001b[0;31mTypeError\u001b[0m: 'numpy.int64' object is not iterable"
     ]
    }
   ],
   "source": [
    "for i,act in actions[0]:\n",
    "    assert act <= 1"
   ]
  },
  {
   "cell_type": "code",
   "execution_count": 54,
   "metadata": {},
   "outputs": [
    {
     "data": {
      "text/plain": [
       "array([0])"
      ]
     },
     "execution_count": 54,
     "metadata": {},
     "output_type": "execute_result"
    }
   ],
   "source": [
    "actions[0][:]"
   ]
  },
  {
   "cell_type": "code",
   "execution_count": null,
   "metadata": {},
   "outputs": [],
   "source": []
  }
 ],
 "metadata": {
  "kernelspec": {
   "display_name": "Python 3",
   "language": "python",
   "name": "python3"
  },
  "language_info": {
   "codemirror_mode": {
    "name": "ipython",
    "version": 3
   },
   "file_extension": ".py",
   "mimetype": "text/x-python",
   "name": "python",
   "nbconvert_exporter": "python",
   "pygments_lexer": "ipython3",
   "version": "3.5.4"
  }
 },
 "nbformat": 4,
 "nbformat_minor": 2
}
