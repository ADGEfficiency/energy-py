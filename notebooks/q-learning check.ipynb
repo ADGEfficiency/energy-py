{
 "cells": [
  {
   "cell_type": "code",
   "execution_count": 1,
   "metadata": {},
   "outputs": [
    {
     "name": "stderr",
     "output_type": "stream",
     "text": [
      "Using TensorFlow backend.\n"
     ]
    }
   ],
   "source": [
    "import tensorflow as tf\n",
    "\n",
    "import energy_py\n",
    "from energy_py.agents import DQN, tfValueFunction\n",
    "from energy_py.envs import BatteryEnv"
   ]
  },
  {
   "cell_type": "code",
   "execution_count": 2,
   "metadata": {},
   "outputs": [],
   "source": [
    "EPISODE_LENGTH = 5\n",
    "BRAIN_PATH = '/'\n",
    "BATCH_SIZE = 10\n",
    "EPISODES = 10\n",
    "DISCOUNT = 0.9\n",
    "\n",
    "total_steps = EPISODES * EPISODE_LENGTH"
   ]
  },
  {
   "cell_type": "code",
   "execution_count": 3,
   "metadata": {},
   "outputs": [],
   "source": [
    "path = '/home/adam/git/energy_py/energy_py/experiments/battery/'\n",
    "path_w = '/mnt/c/Users/Adam Green/Documents/GitHub/energy_py/energy_py/experiments/battery/'\n",
    "\n",
    "env = BatteryEnv(data_path=path,\n",
    "                 episode_length=10)"
   ]
  },
  {
   "cell_type": "code",
   "execution_count": 4,
   "metadata": {},
   "outputs": [],
   "source": [
    "agent = DQN(env, \n",
    "            DISCOUNT, \n",
    "            brain_path='/',\n",
    "            Q=tfValueFunction,\n",
    "            batch_size=BATCH_SIZE,\n",
    "            total_steps=total_steps)"
   ]
  },
  {
   "cell_type": "code",
   "execution_count": 7,
   "metadata": {},
   "outputs": [
    {
     "name": "stdout",
     "output_type": "stream",
     "text": [
      "shapes of arrays used in learning\n",
      "obs shape (10, 6)\n",
      "actions shape (10, 2)\n",
      "rews shape (10, 1)\n",
      "terminal shape (10,)\n",
      "[False False False False False False False False False False]\n",
      "max_q after termnal [[ 0.63329256]\n",
      " [ 0.44097924]\n",
      " [ 0.63329256]\n",
      " [ 0.44097924]\n",
      " [ 0.63329256]\n",
      " [ 0.63329256]\n",
      " [ 0.63329256]\n",
      " [ 0.3991617 ]\n",
      " [ 0.24761711]\n",
      " [ 0.63329256]]\n",
      "before bellman eqn\n",
      "rews shape (10, 1)\n",
      "max_q shape (10, 1)\n",
      "targets shape (10, 1)\n",
      "action indicies shape (10,)\n",
      "inputs shape (10, 6)\n",
      "Q preds for next_obs shape (10, 100)\n",
      "max q values has shape (10, 1)\n",
      "target shape after bellman equn (10,)\n",
      "target shape processing (10,)\n"
     ]
    }
   ],
   "source": [
    "\n",
    "with tf.Session() as sess:\n",
    "    sess.run(tf.global_variables_initializer())\n",
    "\n",
    "    #  initialize before starting episode\n",
    "    done, step, total_step = False, 0, 0\n",
    "    episode = 1\n",
    "    observation = env.reset(episode)\n",
    "\n",
    "    #  while loop runs through a single episode\n",
    "    while done is False:\n",
    "        #  select an action\n",
    "        action = agent.act(sess=sess, obs=observation)\n",
    "        #  take one step through the environment\n",
    "        next_observation, reward, done, info = env.step(action)\n",
    "        #  store the experience\n",
    "        agent.memory.add_experience(observation, action, reward,\n",
    "                                    next_observation, done, step, episode)\n",
    "        step += 1\n",
    "        total_step += 1\n",
    "        observation = next_observation\n",
    "        \n",
    "        batch = agent.memory.get_random_batch(BATCH_SIZE)\n",
    "\n",
    "        if step == 5:\n",
    "            #  with DQN we can learn within episode \n",
    "            #  get a batch to learn from\n",
    "            batch = agent.memory.get_random_batch(BATCH_SIZE)\n",
    "\n",
    "            train_info = agent.learn(sess=sess, batch=batch)\n",
    "            agent.update_target_net = 1\n",
    "            if total_step % agent.update_target_net == 0:\n",
    "                agent.update_target_network(sess)\n"
   ]
  },
  {
   "cell_type": "code",
   "execution_count": null,
   "metadata": {
    "scrolled": false
   },
   "outputs": [],
   "source": [
    "step"
   ]
  },
  {
   "cell_type": "code",
   "execution_count": null,
   "metadata": {},
   "outputs": [],
   "source": [
    "import numpy as np"
   ]
  },
  {
   "cell_type": "code",
   "execution_count": null,
   "metadata": {},
   "outputs": [],
   "source": [
    "with tf.Session() as sess:\n",
    "    sess.run(tf.global_variables_initializer())\n",
    "\n",
    "    obs = np.concatenate(batch[:, 0]).reshape(-1, agent.observation_space.shape[0])\n",
    "    actions = np.concatenate(batch[:, 1]).reshape(-1, agent.action_space.shape[0])\n",
    "    rews = batch[:, 2].reshape(-1, 1)\n",
    "    next_obs = np.concatenate(batch[:, 3]).reshape(-1, agent.observation_space.shape[0])\n",
    "    terminal = np.array(batch[:, 4], dtype=np.bool).flatten()\n",
    "    \n",
    "    inputs = agent.state_processor.transform(obs)\n",
    "    next_obs = agent.state_processor.transform(next_obs)\n",
    "    preds = agent.Q_target.predict(sess, next_obs)\n",
    "    max_q = np.max(preds, axis=1).reshape(preds.shape[0],-1)\n",
    "    \n",
    "    max_q[terminal] = 0\n",
    "    \n",
    "    targets = rews + 0.9 * max_q\n",
    "    \n",
    "    act_list = agent.actions.tolist()\n",
    "    action_index = [act_list.index(act) for act in actions.tolist()]\n",
    "    action_index = np.array(action_index).reshape(-1)\n",
    "    print(preds.shape)\n",
    "    print(action_index.shape)\n",
    "    rng = np.arange(preds.shape[0])\n",
    "#     t_ = tf.placeholder(tf.float32, [None, 1], 'target')\n",
    "        \n",
    "#     act_i = tf.placeholder(tf.int32, [None, 2], 'selected_act')\n",
    "    \n",
    "#     preds_ = tf.placeholder(tf.float32, [None, preds.shape[1]], 'preds')\n",
    "    \n",
    "    x = tf.placeholder('float32', (None, None), 'x')\n",
    "    idx1 = tf.placeholder('int32', (None), 'in1')\n",
    "    idx2 = tf.placeholder('int32', (None), 'in2')\n",
    "    \n",
    "    res = tf.gather_nd(x, tf.stack((idx1, idx2), -1))\n",
    "    \n",
    "    out = sess.run(res, {x:preds,\n",
    "                        idx1: rng,\n",
    "                        idx2: action_index})"
   ]
  },
  {
   "cell_type": "code",
   "execution_count": null,
   "metadata": {},
   "outputs": [],
   "source": [
    "out.shape"
   ]
  },
  {
   "cell_type": "code",
   "execution_count": null,
   "metadata": {},
   "outputs": [],
   "source": []
  },
  {
   "cell_type": "code",
   "execution_count": null,
   "metadata": {},
   "outputs": [],
   "source": [
    "action_index"
   ]
  },
  {
   "cell_type": "code",
   "execution_count": null,
   "metadata": {},
   "outputs": [],
   "source": [
    "with tf.Session() as sess:\n",
    "        \n",
    "    x = tf.constant([[1, 2, 3],\n",
    "                 [4, 5, 6],\n",
    "                 [7, 8, 9]])\n",
    "    idx = tf.constant([1, 0, 2])\n",
    "    \n",
    "    y = tf.gather(x,  # flatten input\n",
    "                  idx)  # use flattened indices\n",
    "    out = sess.run(y)"
   ]
  },
  {
   "cell_type": "code",
   "execution_count": null,
   "metadata": {},
   "outputs": [],
   "source": [
    "out"
   ]
  },
  {
   "cell_type": "code",
   "execution_count": null,
   "metadata": {},
   "outputs": [],
   "source": [
    "test = np.arange(10).reshape(-1,2)\n",
    "out = np.concatenate([test, test], axis=1)"
   ]
  },
  {
   "cell_type": "code",
   "execution_count": null,
   "metadata": {},
   "outputs": [],
   "source": [
    "out"
   ]
  },
  {
   "cell_type": "code",
   "execution_count": null,
   "metadata": {},
   "outputs": [],
   "source": []
  }
 ],
 "metadata": {
  "anaconda-cloud": {},
  "kernelspec": {
   "display_name": "Python 3",
   "language": "python",
   "name": "python3"
  },
  "language_info": {
   "codemirror_mode": {
    "name": "ipython",
    "version": 3
   },
   "file_extension": ".py",
   "mimetype": "text/x-python",
   "name": "python",
   "nbconvert_exporter": "python",
   "pygments_lexer": "ipython3",
   "version": "3.5.4"
  }
 },
 "nbformat": 4,
 "nbformat_minor": 2
}
