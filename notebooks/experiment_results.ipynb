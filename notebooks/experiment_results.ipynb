{
 "cells": [
  {
   "cell_type": "markdown",
   "metadata": {},
   "source": [
    "A notebook to analyze results of energy_py experiments"
   ]
  },
  {
   "cell_type": "code",
   "execution_count": 1,
   "metadata": {},
   "outputs": [],
   "source": [
    "import pandas as pd\n",
    "\n",
    "from energy_py import EternityVisualizer"
   ]
  },
  {
   "cell_type": "code",
   "execution_count": 2,
   "metadata": {},
   "outputs": [],
   "source": []
  },
  {
   "cell_type": "code",
   "execution_count": 24,
   "metadata": {},
   "outputs": [],
   "source": [
    "def get_data(name):\n",
    "    base_path = '/home/adam/git/energy_py/energy_py/experiments/simple_battery/'+name+'/expt_0/csvs/'\n",
    "    csvs = ['df_ep.csv', 'df_stp.csv' , 'env_info.csv']\n",
    "    csvs = {name: pd.read_csv(base_path + name, index_col=0) for name in csvs}\n",
    "    vis = EternityVisualizer()\n",
    "    vis.env_outputs = {'df_env_info': csvs['env_info.csv']}\n",
    "    vis.env_outputs['env_panel_fig'] = []\n",
    "\n",
    "    vis.agent_outputs = {'df_stp': csvs['df_stp.csv']}\n",
    "    vis.agent_outputs['df_ep'] = csvs['df_ep.csv']\n",
    "\n",
    "    vis.env_panel_fig = []\n",
    "    \n",
    "    agent_out, env_out = vis.output_results(save_data=False)\n",
    "    agent_stp = agent_out['df_stp']\n",
    "    agent_ep = agent_out['df_ep']\n",
    "    env_stp = env_out['df_env_info']\n",
    "    \n",
    "    return csvs, vis, agent_ep"
   ]
  },
  {
   "cell_type": "code",
   "execution_count": 26,
   "metadata": {},
   "outputs": [
    {
     "name": "stdout",
     "output_type": "stream",
     "text": [
      "making panel fig\n",
      "making panel fig\n"
     ]
    }
   ],
   "source": [
    "random = get_data('random')\n",
    "dqn = get_data('dqn')"
   ]
  },
  {
   "cell_type": "code",
   "execution_count": 31,
   "metadata": {},
   "outputs": [
    {
     "data": {
      "text/html": [
       "<div>\n",
       "<style scoped>\n",
       "    .dataframe tbody tr th:only-of-type {\n",
       "        vertical-align: middle;\n",
       "    }\n",
       "\n",
       "    .dataframe tbody tr th {\n",
       "        vertical-align: top;\n",
       "    }\n",
       "\n",
       "    .dataframe thead th {\n",
       "        text-align: right;\n",
       "    }\n",
       "</style>\n",
       "<table border=\"1\" class=\"dataframe\">\n",
       "  <thead>\n",
       "    <tr style=\"text-align: right;\">\n",
       "      <th></th>\n",
       "      <th>random</th>\n",
       "      <th>dqn</th>\n",
       "    </tr>\n",
       "    <tr>\n",
       "      <th>episode</th>\n",
       "      <th></th>\n",
       "      <th></th>\n",
       "    </tr>\n",
       "  </thead>\n",
       "  <tbody>\n",
       "    <tr>\n",
       "      <th>1</th>\n",
       "      <td>15.526998</td>\n",
       "      <td>-28.981481</td>\n",
       "    </tr>\n",
       "    <tr>\n",
       "      <th>2</th>\n",
       "      <td>-22.852763</td>\n",
       "      <td>-37.314815</td>\n",
       "    </tr>\n",
       "    <tr>\n",
       "      <th>3</th>\n",
       "      <td>-6.250890</td>\n",
       "      <td>-53.703704</td>\n",
       "    </tr>\n",
       "    <tr>\n",
       "      <th>4</th>\n",
       "      <td>3.264838</td>\n",
       "      <td>2.870370</td>\n",
       "    </tr>\n",
       "    <tr>\n",
       "      <th>5</th>\n",
       "      <td>-26.921291</td>\n",
       "      <td>-12.222222</td>\n",
       "    </tr>\n",
       "  </tbody>\n",
       "</table>\n",
       "</div>"
      ],
      "text/plain": [
       "            random        dqn\n",
       "episode                      \n",
       "1        15.526998 -28.981481\n",
       "2       -22.852763 -37.314815\n",
       "3        -6.250890 -53.703704\n",
       "4         3.264838   2.870370\n",
       "5       -26.921291 -12.222222"
      ]
     },
     "execution_count": 31,
     "metadata": {},
     "output_type": "execute_result"
    }
   ],
   "source": [
    "all_rewards = pd.concat([random[2].loc[:, 'reward'],\n",
    "                         dqn[2].loc[:, 'reward']],\n",
    "                        axis=1)\n",
    "all_rewards.columns = ['random', 'dqn']\n",
    "all_rewards.head()"
   ]
  },
  {
   "cell_type": "code",
   "execution_count": 39,
   "metadata": {},
   "outputs": [
    {
     "name": "stdout",
     "output_type": "stream",
     "text": [
      "making panel fig\n"
     ]
    }
   ],
   "source": [
    "vis = dqn[1]\n",
    "fig = vis.make_panel_fig(all_rewards,\n",
    "                  [['random'],[ 'dqn']],\n",
    "                  shape=(2,1),\n",
    "                   name='all rewards')"
   ]
  },
  {
   "cell_type": "code",
   "execution_count": 40,
   "metadata": {},
   "outputs": [
    {
     "ename": "AttributeError",
     "evalue": "'NoneType' object has no attribute 'show'",
     "output_type": "error",
     "traceback": [
      "\u001b[0;31m---------------------------------------------------------------------------\u001b[0m",
      "\u001b[0;31mAttributeError\u001b[0m                            Traceback (most recent call last)",
      "\u001b[0;32m<ipython-input-40-6ebedab27258>\u001b[0m in \u001b[0;36m<module>\u001b[0;34m()\u001b[0m\n\u001b[0;32m----> 1\u001b[0;31m \u001b[0mfig\u001b[0m\u001b[0;34m.\u001b[0m\u001b[0mshow\u001b[0m\u001b[0;34m(\u001b[0m\u001b[0;34m)\u001b[0m\u001b[0;34m\u001b[0m\u001b[0m\n\u001b[0m",
      "\u001b[0;31mAttributeError\u001b[0m: 'NoneType' object has no attribute 'show'"
     ]
    }
   ],
   "source": []
  },
  {
   "cell_type": "code",
   "execution_count": null,
   "metadata": {},
   "outputs": [],
   "source": []
  }
 ],
 "metadata": {
  "kernelspec": {
   "display_name": "Python 3",
   "language": "python",
   "name": "python3"
  },
  "language_info": {
   "codemirror_mode": {
    "name": "ipython",
    "version": 3
   },
   "file_extension": ".py",
   "mimetype": "text/x-python",
   "name": "python",
   "nbconvert_exporter": "python",
   "pygments_lexer": "ipython3",
   "version": "3.5.4"
  }
 },
 "nbformat": 4,
 "nbformat_minor": 2
}
